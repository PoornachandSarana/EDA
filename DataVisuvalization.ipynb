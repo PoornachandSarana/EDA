{
 "cells": [
  {
   "cell_type": "markdown",
   "id": "68756573",
   "metadata": {},
   "source": [
    "# Batch H-3\n",
    "        Sarana Poornachand  \t \n",
    "        Ronanki Sai Charan\t     \n",
    "        Radhika Menon\t\t     \n",
    "        Sharmili Tangellapalli\t \n",
    "        Vishnu Vardhan Chinnam\t "
   ]
  },
  {
   "cell_type": "markdown",
   "id": "714970b0",
   "metadata": {},
   "source": [
    "Importing all the required libraries that are needed for importing dataset and for performing all the visualizations."
   ]
  },
  {
   "cell_type": "code",
   "execution_count": 1,
   "id": "f9e846d7",
   "metadata": {},
   "outputs": [],
   "source": [
    "import pandas as pd\n",
    "import numpy as np\n",
    "from pandas import DataFrame\n",
    "import seaborn as sns\n",
    "import matplotlib.pyplot as plt\n",
    "%matplotlib inline"
   ]
  },
  {
   "cell_type": "code",
   "execution_count": 2,
   "id": "697c41b5",
   "metadata": {},
   "outputs": [],
   "source": [
    "df=pd.read_csv(\"Car_sales_details_P3.csv\")"
   ]
  },
  {
   "cell_type": "code",
   "execution_count": 3,
   "id": "18bdf57b",
   "metadata": {},
   "outputs": [
    {
     "data": {
      "text/html": [
       "<div>\n",
       "<style scoped>\n",
       "    .dataframe tbody tr th:only-of-type {\n",
       "        vertical-align: middle;\n",
       "    }\n",
       "\n",
       "    .dataframe tbody tr th {\n",
       "        vertical-align: top;\n",
       "    }\n",
       "\n",
       "    .dataframe thead th {\n",
       "        text-align: right;\n",
       "    }\n",
       "</style>\n",
       "<table border=\"1\" class=\"dataframe\">\n",
       "  <thead>\n",
       "    <tr style=\"text-align: right;\">\n",
       "      <th></th>\n",
       "      <th>Sales_ID</th>\n",
       "      <th>name</th>\n",
       "      <th>year</th>\n",
       "      <th>selling_price</th>\n",
       "      <th>km_driven</th>\n",
       "      <th>State or Province</th>\n",
       "      <th>City</th>\n",
       "      <th>fuel</th>\n",
       "      <th>seller_type</th>\n",
       "      <th>transmission</th>\n",
       "      <th>owner</th>\n",
       "      <th>mileage</th>\n",
       "      <th>engine</th>\n",
       "      <th>max_power</th>\n",
       "      <th>seats</th>\n",
       "    </tr>\n",
       "  </thead>\n",
       "  <tbody>\n",
       "    <tr>\n",
       "      <th>0</th>\n",
       "      <td>1</td>\n",
       "      <td>Maruti Swift Dzire VDI</td>\n",
       "      <td>2014</td>\n",
       "      <td>450000</td>\n",
       "      <td>145500</td>\n",
       "      <td>District of Columbia</td>\n",
       "      <td>Washington</td>\n",
       "      <td>Diesel</td>\n",
       "      <td>Individual</td>\n",
       "      <td>Manual</td>\n",
       "      <td>First Owner</td>\n",
       "      <td>23.4 kmpl</td>\n",
       "      <td>1248 CC</td>\n",
       "      <td>74 bhp</td>\n",
       "      <td>5</td>\n",
       "    </tr>\n",
       "    <tr>\n",
       "      <th>1</th>\n",
       "      <td>2</td>\n",
       "      <td>Skoda Rapid 1.5 TDI Ambition</td>\n",
       "      <td>2014</td>\n",
       "      <td>370000</td>\n",
       "      <td>120000</td>\n",
       "      <td>New York</td>\n",
       "      <td>New York City</td>\n",
       "      <td>Diesel</td>\n",
       "      <td>Individual</td>\n",
       "      <td>Manual</td>\n",
       "      <td>Second Owner</td>\n",
       "      <td>21.14 kmpl</td>\n",
       "      <td>1498 CC</td>\n",
       "      <td>103.52 bhp</td>\n",
       "      <td>5</td>\n",
       "    </tr>\n",
       "    <tr>\n",
       "      <th>2</th>\n",
       "      <td>3</td>\n",
       "      <td>Honda City 2017-2020 EXi</td>\n",
       "      <td>2006</td>\n",
       "      <td>158000</td>\n",
       "      <td>140000</td>\n",
       "      <td>Illinois</td>\n",
       "      <td>Chicago</td>\n",
       "      <td>Petrol</td>\n",
       "      <td>Individual</td>\n",
       "      <td>Manual</td>\n",
       "      <td>Third Owner</td>\n",
       "      <td>17.7 kmpl</td>\n",
       "      <td>1497 CC</td>\n",
       "      <td>78 bhp</td>\n",
       "      <td>5</td>\n",
       "    </tr>\n",
       "    <tr>\n",
       "      <th>3</th>\n",
       "      <td>4</td>\n",
       "      <td>Hyundai i20 Sportz Diesel</td>\n",
       "      <td>2010</td>\n",
       "      <td>225000</td>\n",
       "      <td>127000</td>\n",
       "      <td>Illinois</td>\n",
       "      <td>Chicago</td>\n",
       "      <td>Diesel</td>\n",
       "      <td>Individual</td>\n",
       "      <td>Manual</td>\n",
       "      <td>First Owner</td>\n",
       "      <td>23.0 kmpl</td>\n",
       "      <td>1396 CC</td>\n",
       "      <td>90 bhp</td>\n",
       "      <td>5</td>\n",
       "    </tr>\n",
       "    <tr>\n",
       "      <th>4</th>\n",
       "      <td>5</td>\n",
       "      <td>Maruti Swift VXI BSIII</td>\n",
       "      <td>2007</td>\n",
       "      <td>130000</td>\n",
       "      <td>120000</td>\n",
       "      <td>New York</td>\n",
       "      <td>New York City</td>\n",
       "      <td>Petrol</td>\n",
       "      <td>Individual</td>\n",
       "      <td>Manual</td>\n",
       "      <td>First Owner</td>\n",
       "      <td>16.1 kmpl</td>\n",
       "      <td>1298 CC</td>\n",
       "      <td>88.2 bhp</td>\n",
       "      <td>5</td>\n",
       "    </tr>\n",
       "  </tbody>\n",
       "</table>\n",
       "</div>"
      ],
      "text/plain": [
       "   Sales_ID                          name  year  selling_price  km_driven  \\\n",
       "0         1        Maruti Swift Dzire VDI  2014         450000     145500   \n",
       "1         2  Skoda Rapid 1.5 TDI Ambition  2014         370000     120000   \n",
       "2         3      Honda City 2017-2020 EXi  2006         158000     140000   \n",
       "3         4     Hyundai i20 Sportz Diesel  2010         225000     127000   \n",
       "4         5        Maruti Swift VXI BSIII  2007         130000     120000   \n",
       "\n",
       "      State or Province           City    fuel seller_type transmission  \\\n",
       "0  District of Columbia     Washington  Diesel  Individual       Manual   \n",
       "1              New York  New York City  Diesel  Individual       Manual   \n",
       "2              Illinois        Chicago  Petrol  Individual       Manual   \n",
       "3              Illinois        Chicago  Diesel  Individual       Manual   \n",
       "4              New York  New York City  Petrol  Individual       Manual   \n",
       "\n",
       "          owner     mileage   engine   max_power  seats  \n",
       "0   First Owner   23.4 kmpl  1248 CC      74 bhp      5  \n",
       "1  Second Owner  21.14 kmpl  1498 CC  103.52 bhp      5  \n",
       "2   Third Owner   17.7 kmpl  1497 CC      78 bhp      5  \n",
       "3   First Owner   23.0 kmpl  1396 CC      90 bhp      5  \n",
       "4   First Owner   16.1 kmpl  1298 CC    88.2 bhp      5  "
      ]
     },
     "execution_count": 3,
     "metadata": {},
     "output_type": "execute_result"
    }
   ],
   "source": [
    "df.head()"
   ]
  },
  {
   "cell_type": "code",
   "execution_count": 4,
   "id": "3b6de285",
   "metadata": {},
   "outputs": [
    {
     "data": {
      "text/plain": [
       "Sales_ID             0\n",
       "name                 0\n",
       "year                 0\n",
       "selling_price        0\n",
       "km_driven            0\n",
       "State or Province    0\n",
       "City                 0\n",
       "fuel                 0\n",
       "seller_type          0\n",
       "transmission         0\n",
       "owner                0\n",
       "mileage              0\n",
       "engine               0\n",
       "max_power            0\n",
       "seats                0\n",
       "dtype: int64"
      ]
     },
     "execution_count": 4,
     "metadata": {},
     "output_type": "execute_result"
    }
   ],
   "source": [
    "df.isnull().sum()"
   ]
  },
  {
   "cell_type": "code",
   "execution_count": 5,
   "id": "cf7b27e6",
   "metadata": {},
   "outputs": [],
   "source": [
    "df1=pd.read_csv(\"sales_Status_p3.csv\")"
   ]
  },
  {
   "cell_type": "code",
   "execution_count": 6,
   "id": "98f7c03f",
   "metadata": {},
   "outputs": [
    {
     "data": {
      "text/html": [
       "<div>\n",
       "<style scoped>\n",
       "    .dataframe tbody tr th:only-of-type {\n",
       "        vertical-align: middle;\n",
       "    }\n",
       "\n",
       "    .dataframe tbody tr th {\n",
       "        vertical-align: top;\n",
       "    }\n",
       "\n",
       "    .dataframe thead th {\n",
       "        text-align: right;\n",
       "    }\n",
       "</style>\n",
       "<table border=\"1\" class=\"dataframe\">\n",
       "  <thead>\n",
       "    <tr style=\"text-align: right;\">\n",
       "      <th></th>\n",
       "      <th>Sales_ID</th>\n",
       "      <th>sold</th>\n",
       "    </tr>\n",
       "  </thead>\n",
       "  <tbody>\n",
       "    <tr>\n",
       "      <th>0</th>\n",
       "      <td>1</td>\n",
       "      <td>Y</td>\n",
       "    </tr>\n",
       "    <tr>\n",
       "      <th>1</th>\n",
       "      <td>2</td>\n",
       "      <td>Y</td>\n",
       "    </tr>\n",
       "    <tr>\n",
       "      <th>2</th>\n",
       "      <td>3</td>\n",
       "      <td>Y</td>\n",
       "    </tr>\n",
       "    <tr>\n",
       "      <th>3</th>\n",
       "      <td>4</td>\n",
       "      <td>Y</td>\n",
       "    </tr>\n",
       "    <tr>\n",
       "      <th>4</th>\n",
       "      <td>5</td>\n",
       "      <td>Y</td>\n",
       "    </tr>\n",
       "  </tbody>\n",
       "</table>\n",
       "</div>"
      ],
      "text/plain": [
       "   Sales_ID sold\n",
       "0         1    Y\n",
       "1         2    Y\n",
       "2         3    Y\n",
       "3         4    Y\n",
       "4         5    Y"
      ]
     },
     "execution_count": 6,
     "metadata": {},
     "output_type": "execute_result"
    }
   ],
   "source": [
    "df1.head()"
   ]
  },
  {
   "cell_type": "code",
   "execution_count": 7,
   "id": "f872def6",
   "metadata": {},
   "outputs": [
    {
     "data": {
      "text/plain": [
       "Sales_ID    0\n",
       "sold        0\n",
       "dtype: int64"
      ]
     },
     "execution_count": 7,
     "metadata": {},
     "output_type": "execute_result"
    }
   ],
   "source": [
    "df1.isnull().sum()"
   ]
  },
  {
   "cell_type": "markdown",
   "id": "91f26885",
   "metadata": {},
   "source": [
    "Merging df and df1 datasets so that we get status of car sales"
   ]
  },
  {
   "cell_type": "code",
   "execution_count": 8,
   "id": "a32c64d1",
   "metadata": {},
   "outputs": [],
   "source": [
    "df2=pd.merge(df, df1, on='Sales_ID', how='inner')"
   ]
  },
  {
   "cell_type": "code",
   "execution_count": 9,
   "id": "ca243f79",
   "metadata": {},
   "outputs": [
    {
     "data": {
      "text/html": [
       "<div>\n",
       "<style scoped>\n",
       "    .dataframe tbody tr th:only-of-type {\n",
       "        vertical-align: middle;\n",
       "    }\n",
       "\n",
       "    .dataframe tbody tr th {\n",
       "        vertical-align: top;\n",
       "    }\n",
       "\n",
       "    .dataframe thead th {\n",
       "        text-align: right;\n",
       "    }\n",
       "</style>\n",
       "<table border=\"1\" class=\"dataframe\">\n",
       "  <thead>\n",
       "    <tr style=\"text-align: right;\">\n",
       "      <th></th>\n",
       "      <th>Sales_ID</th>\n",
       "      <th>name</th>\n",
       "      <th>year</th>\n",
       "      <th>selling_price</th>\n",
       "      <th>km_driven</th>\n",
       "      <th>State or Province</th>\n",
       "      <th>City</th>\n",
       "      <th>fuel</th>\n",
       "      <th>seller_type</th>\n",
       "      <th>transmission</th>\n",
       "      <th>owner</th>\n",
       "      <th>mileage</th>\n",
       "      <th>engine</th>\n",
       "      <th>max_power</th>\n",
       "      <th>seats</th>\n",
       "      <th>sold</th>\n",
       "    </tr>\n",
       "  </thead>\n",
       "  <tbody>\n",
       "    <tr>\n",
       "      <th>0</th>\n",
       "      <td>1</td>\n",
       "      <td>Maruti Swift Dzire VDI</td>\n",
       "      <td>2014</td>\n",
       "      <td>450000</td>\n",
       "      <td>145500</td>\n",
       "      <td>District of Columbia</td>\n",
       "      <td>Washington</td>\n",
       "      <td>Diesel</td>\n",
       "      <td>Individual</td>\n",
       "      <td>Manual</td>\n",
       "      <td>First Owner</td>\n",
       "      <td>23.4 kmpl</td>\n",
       "      <td>1248 CC</td>\n",
       "      <td>74 bhp</td>\n",
       "      <td>5</td>\n",
       "      <td>Y</td>\n",
       "    </tr>\n",
       "    <tr>\n",
       "      <th>1</th>\n",
       "      <td>2</td>\n",
       "      <td>Skoda Rapid 1.5 TDI Ambition</td>\n",
       "      <td>2014</td>\n",
       "      <td>370000</td>\n",
       "      <td>120000</td>\n",
       "      <td>New York</td>\n",
       "      <td>New York City</td>\n",
       "      <td>Diesel</td>\n",
       "      <td>Individual</td>\n",
       "      <td>Manual</td>\n",
       "      <td>Second Owner</td>\n",
       "      <td>21.14 kmpl</td>\n",
       "      <td>1498 CC</td>\n",
       "      <td>103.52 bhp</td>\n",
       "      <td>5</td>\n",
       "      <td>Y</td>\n",
       "    </tr>\n",
       "    <tr>\n",
       "      <th>2</th>\n",
       "      <td>3</td>\n",
       "      <td>Honda City 2017-2020 EXi</td>\n",
       "      <td>2006</td>\n",
       "      <td>158000</td>\n",
       "      <td>140000</td>\n",
       "      <td>Illinois</td>\n",
       "      <td>Chicago</td>\n",
       "      <td>Petrol</td>\n",
       "      <td>Individual</td>\n",
       "      <td>Manual</td>\n",
       "      <td>Third Owner</td>\n",
       "      <td>17.7 kmpl</td>\n",
       "      <td>1497 CC</td>\n",
       "      <td>78 bhp</td>\n",
       "      <td>5</td>\n",
       "      <td>Y</td>\n",
       "    </tr>\n",
       "    <tr>\n",
       "      <th>3</th>\n",
       "      <td>4</td>\n",
       "      <td>Hyundai i20 Sportz Diesel</td>\n",
       "      <td>2010</td>\n",
       "      <td>225000</td>\n",
       "      <td>127000</td>\n",
       "      <td>Illinois</td>\n",
       "      <td>Chicago</td>\n",
       "      <td>Diesel</td>\n",
       "      <td>Individual</td>\n",
       "      <td>Manual</td>\n",
       "      <td>First Owner</td>\n",
       "      <td>23.0 kmpl</td>\n",
       "      <td>1396 CC</td>\n",
       "      <td>90 bhp</td>\n",
       "      <td>5</td>\n",
       "      <td>Y</td>\n",
       "    </tr>\n",
       "    <tr>\n",
       "      <th>4</th>\n",
       "      <td>5</td>\n",
       "      <td>Maruti Swift VXI BSIII</td>\n",
       "      <td>2007</td>\n",
       "      <td>130000</td>\n",
       "      <td>120000</td>\n",
       "      <td>New York</td>\n",
       "      <td>New York City</td>\n",
       "      <td>Petrol</td>\n",
       "      <td>Individual</td>\n",
       "      <td>Manual</td>\n",
       "      <td>First Owner</td>\n",
       "      <td>16.1 kmpl</td>\n",
       "      <td>1298 CC</td>\n",
       "      <td>88.2 bhp</td>\n",
       "      <td>5</td>\n",
       "      <td>Y</td>\n",
       "    </tr>\n",
       "  </tbody>\n",
       "</table>\n",
       "</div>"
      ],
      "text/plain": [
       "   Sales_ID                          name  year  selling_price  km_driven  \\\n",
       "0         1        Maruti Swift Dzire VDI  2014         450000     145500   \n",
       "1         2  Skoda Rapid 1.5 TDI Ambition  2014         370000     120000   \n",
       "2         3      Honda City 2017-2020 EXi  2006         158000     140000   \n",
       "3         4     Hyundai i20 Sportz Diesel  2010         225000     127000   \n",
       "4         5        Maruti Swift VXI BSIII  2007         130000     120000   \n",
       "\n",
       "      State or Province           City    fuel seller_type transmission  \\\n",
       "0  District of Columbia     Washington  Diesel  Individual       Manual   \n",
       "1              New York  New York City  Diesel  Individual       Manual   \n",
       "2              Illinois        Chicago  Petrol  Individual       Manual   \n",
       "3              Illinois        Chicago  Diesel  Individual       Manual   \n",
       "4              New York  New York City  Petrol  Individual       Manual   \n",
       "\n",
       "          owner     mileage   engine   max_power  seats sold  \n",
       "0   First Owner   23.4 kmpl  1248 CC      74 bhp      5    Y  \n",
       "1  Second Owner  21.14 kmpl  1498 CC  103.52 bhp      5    Y  \n",
       "2   Third Owner   17.7 kmpl  1497 CC      78 bhp      5    Y  \n",
       "3   First Owner   23.0 kmpl  1396 CC      90 bhp      5    Y  \n",
       "4   First Owner   16.1 kmpl  1298 CC    88.2 bhp      5    Y  "
      ]
     },
     "execution_count": 9,
     "metadata": {},
     "output_type": "execute_result"
    }
   ],
   "source": [
    "df2.head()"
   ]
  },
  {
   "cell_type": "code",
   "execution_count": 10,
   "id": "d1e0c482",
   "metadata": {},
   "outputs": [],
   "source": [
    "df3=pd.read_csv(\"State_region_mapping_p3.csv\")"
   ]
  },
  {
   "cell_type": "code",
   "execution_count": 11,
   "id": "36eeea4b",
   "metadata": {},
   "outputs": [
    {
     "data": {
      "text/html": [
       "<div>\n",
       "<style scoped>\n",
       "    .dataframe tbody tr th:only-of-type {\n",
       "        vertical-align: middle;\n",
       "    }\n",
       "\n",
       "    .dataframe tbody tr th {\n",
       "        vertical-align: top;\n",
       "    }\n",
       "\n",
       "    .dataframe thead th {\n",
       "        text-align: right;\n",
       "    }\n",
       "</style>\n",
       "<table border=\"1\" class=\"dataframe\">\n",
       "  <thead>\n",
       "    <tr style=\"text-align: right;\">\n",
       "      <th></th>\n",
       "      <th>Region</th>\n",
       "      <th>State or Province</th>\n",
       "    </tr>\n",
       "  </thead>\n",
       "  <tbody>\n",
       "    <tr>\n",
       "      <th>0</th>\n",
       "      <td>Central</td>\n",
       "      <td>Illinois</td>\n",
       "    </tr>\n",
       "    <tr>\n",
       "      <th>1</th>\n",
       "      <td>Central</td>\n",
       "      <td>Indiana</td>\n",
       "    </tr>\n",
       "    <tr>\n",
       "      <th>2</th>\n",
       "      <td>Central</td>\n",
       "      <td>Iowa</td>\n",
       "    </tr>\n",
       "    <tr>\n",
       "      <th>3</th>\n",
       "      <td>Central</td>\n",
       "      <td>Kansas</td>\n",
       "    </tr>\n",
       "    <tr>\n",
       "      <th>4</th>\n",
       "      <td>Central</td>\n",
       "      <td>Michigan</td>\n",
       "    </tr>\n",
       "  </tbody>\n",
       "</table>\n",
       "</div>"
      ],
      "text/plain": [
       "    Region State or Province\n",
       "0  Central          Illinois\n",
       "1  Central           Indiana\n",
       "2  Central              Iowa\n",
       "3  Central            Kansas\n",
       "4  Central          Michigan"
      ]
     },
     "execution_count": 11,
     "metadata": {},
     "output_type": "execute_result"
    }
   ],
   "source": [
    "df3.head()"
   ]
  },
  {
   "cell_type": "code",
   "execution_count": 12,
   "id": "a1cbdc8c",
   "metadata": {},
   "outputs": [
    {
     "data": {
      "text/plain": [
       "Region               0\n",
       "State or Province    0\n",
       "dtype: int64"
      ]
     },
     "execution_count": 12,
     "metadata": {},
     "output_type": "execute_result"
    }
   ],
   "source": [
    "df3.isnull().sum()"
   ]
  },
  {
   "cell_type": "code",
   "execution_count": 13,
   "id": "47c82b97",
   "metadata": {},
   "outputs": [],
   "source": [
    "car=pd.merge(df2, df3, on='State or Province', how='inner')"
   ]
  },
  {
   "cell_type": "markdown",
   "id": "9556469f",
   "metadata": {},
   "source": [
    "# Final Data set after merging all three data sets"
   ]
  },
  {
   "cell_type": "code",
   "execution_count": 14,
   "id": "e1b54c55",
   "metadata": {},
   "outputs": [
    {
     "data": {
      "text/html": [
       "<div>\n",
       "<style scoped>\n",
       "    .dataframe tbody tr th:only-of-type {\n",
       "        vertical-align: middle;\n",
       "    }\n",
       "\n",
       "    .dataframe tbody tr th {\n",
       "        vertical-align: top;\n",
       "    }\n",
       "\n",
       "    .dataframe thead th {\n",
       "        text-align: right;\n",
       "    }\n",
       "</style>\n",
       "<table border=\"1\" class=\"dataframe\">\n",
       "  <thead>\n",
       "    <tr style=\"text-align: right;\">\n",
       "      <th></th>\n",
       "      <th>Sales_ID</th>\n",
       "      <th>name</th>\n",
       "      <th>year</th>\n",
       "      <th>selling_price</th>\n",
       "      <th>km_driven</th>\n",
       "      <th>State or Province</th>\n",
       "      <th>City</th>\n",
       "      <th>fuel</th>\n",
       "      <th>seller_type</th>\n",
       "      <th>transmission</th>\n",
       "      <th>owner</th>\n",
       "      <th>mileage</th>\n",
       "      <th>engine</th>\n",
       "      <th>max_power</th>\n",
       "      <th>seats</th>\n",
       "      <th>sold</th>\n",
       "      <th>Region</th>\n",
       "    </tr>\n",
       "  </thead>\n",
       "  <tbody>\n",
       "    <tr>\n",
       "      <th>0</th>\n",
       "      <td>1</td>\n",
       "      <td>Maruti Swift Dzire VDI</td>\n",
       "      <td>2014</td>\n",
       "      <td>450000</td>\n",
       "      <td>145500</td>\n",
       "      <td>District of Columbia</td>\n",
       "      <td>Washington</td>\n",
       "      <td>Diesel</td>\n",
       "      <td>Individual</td>\n",
       "      <td>Manual</td>\n",
       "      <td>First Owner</td>\n",
       "      <td>23.4 kmpl</td>\n",
       "      <td>1248 CC</td>\n",
       "      <td>74 bhp</td>\n",
       "      <td>5</td>\n",
       "      <td>Y</td>\n",
       "      <td>East</td>\n",
       "    </tr>\n",
       "    <tr>\n",
       "      <th>1</th>\n",
       "      <td>38</td>\n",
       "      <td>Hyundai Verna VTVT 1.6 SX Option</td>\n",
       "      <td>2019</td>\n",
       "      <td>1149000</td>\n",
       "      <td>5000</td>\n",
       "      <td>District of Columbia</td>\n",
       "      <td>Washington</td>\n",
       "      <td>Petrol</td>\n",
       "      <td>Individual</td>\n",
       "      <td>Manual</td>\n",
       "      <td>First Owner</td>\n",
       "      <td>17.0 kmpl</td>\n",
       "      <td>1591 CC</td>\n",
       "      <td>121.3 bhp</td>\n",
       "      <td>5</td>\n",
       "      <td>Y</td>\n",
       "      <td>East</td>\n",
       "    </tr>\n",
       "    <tr>\n",
       "      <th>2</th>\n",
       "      <td>66</td>\n",
       "      <td>Ford Figo 1.2P Titanium MT</td>\n",
       "      <td>2017</td>\n",
       "      <td>600000</td>\n",
       "      <td>25000</td>\n",
       "      <td>District of Columbia</td>\n",
       "      <td>Washington</td>\n",
       "      <td>Petrol</td>\n",
       "      <td>Individual</td>\n",
       "      <td>Manual</td>\n",
       "      <td>Third Owner</td>\n",
       "      <td>18.16 kmpl</td>\n",
       "      <td>1196 CC</td>\n",
       "      <td>86.8 bhp</td>\n",
       "      <td>5</td>\n",
       "      <td>Y</td>\n",
       "      <td>East</td>\n",
       "    </tr>\n",
       "    <tr>\n",
       "      <th>3</th>\n",
       "      <td>68</td>\n",
       "      <td>Volkswagen Ameo 1.5 TDI Highline 16 Alloy</td>\n",
       "      <td>2016</td>\n",
       "      <td>540000</td>\n",
       "      <td>40000</td>\n",
       "      <td>District of Columbia</td>\n",
       "      <td>Washington</td>\n",
       "      <td>Diesel</td>\n",
       "      <td>Individual</td>\n",
       "      <td>Manual</td>\n",
       "      <td>First Owner</td>\n",
       "      <td>22.0 kmpl</td>\n",
       "      <td>1498 CC</td>\n",
       "      <td>108.495 bhp</td>\n",
       "      <td>5</td>\n",
       "      <td>Y</td>\n",
       "      <td>East</td>\n",
       "    </tr>\n",
       "    <tr>\n",
       "      <th>4</th>\n",
       "      <td>69</td>\n",
       "      <td>Honda City i DTEC VX</td>\n",
       "      <td>2015</td>\n",
       "      <td>630000</td>\n",
       "      <td>135000</td>\n",
       "      <td>District of Columbia</td>\n",
       "      <td>Washington</td>\n",
       "      <td>Diesel</td>\n",
       "      <td>Individual</td>\n",
       "      <td>Manual</td>\n",
       "      <td>First Owner</td>\n",
       "      <td>25.1 kmpl</td>\n",
       "      <td>1498 CC</td>\n",
       "      <td>98.6 bhp</td>\n",
       "      <td>5</td>\n",
       "      <td>Y</td>\n",
       "      <td>East</td>\n",
       "    </tr>\n",
       "  </tbody>\n",
       "</table>\n",
       "</div>"
      ],
      "text/plain": [
       "   Sales_ID                                       name  year  selling_price  \\\n",
       "0         1                     Maruti Swift Dzire VDI  2014         450000   \n",
       "1        38           Hyundai Verna VTVT 1.6 SX Option  2019        1149000   \n",
       "2        66                 Ford Figo 1.2P Titanium MT  2017         600000   \n",
       "3        68  Volkswagen Ameo 1.5 TDI Highline 16 Alloy  2016         540000   \n",
       "4        69                       Honda City i DTEC VX  2015         630000   \n",
       "\n",
       "   km_driven     State or Province        City    fuel seller_type  \\\n",
       "0     145500  District of Columbia  Washington  Diesel  Individual   \n",
       "1       5000  District of Columbia  Washington  Petrol  Individual   \n",
       "2      25000  District of Columbia  Washington  Petrol  Individual   \n",
       "3      40000  District of Columbia  Washington  Diesel  Individual   \n",
       "4     135000  District of Columbia  Washington  Diesel  Individual   \n",
       "\n",
       "  transmission        owner     mileage   engine    max_power  seats sold  \\\n",
       "0       Manual  First Owner   23.4 kmpl  1248 CC       74 bhp      5    Y   \n",
       "1       Manual  First Owner   17.0 kmpl  1591 CC    121.3 bhp      5    Y   \n",
       "2       Manual  Third Owner  18.16 kmpl  1196 CC     86.8 bhp      5    Y   \n",
       "3       Manual  First Owner   22.0 kmpl  1498 CC  108.495 bhp      5    Y   \n",
       "4       Manual  First Owner   25.1 kmpl  1498 CC     98.6 bhp      5    Y   \n",
       "\n",
       "  Region  \n",
       "0   East  \n",
       "1   East  \n",
       "2   East  \n",
       "3   East  \n",
       "4   East  "
      ]
     },
     "execution_count": 14,
     "metadata": {},
     "output_type": "execute_result"
    }
   ],
   "source": [
    "car.head()"
   ]
  },
  {
   "cell_type": "markdown",
   "id": "1f64c46a",
   "metadata": {},
   "source": [
    "Creating copy variable so that original values can't be lost"
   ]
  },
  {
   "cell_type": "code",
   "execution_count": 15,
   "id": "519291e1",
   "metadata": {},
   "outputs": [],
   "source": [
    "car1=car.copy()"
   ]
  },
  {
   "cell_type": "code",
   "execution_count": 16,
   "id": "18e630e1",
   "metadata": {},
   "outputs": [
    {
     "data": {
      "text/html": [
       "<div>\n",
       "<style scoped>\n",
       "    .dataframe tbody tr th:only-of-type {\n",
       "        vertical-align: middle;\n",
       "    }\n",
       "\n",
       "    .dataframe tbody tr th {\n",
       "        vertical-align: top;\n",
       "    }\n",
       "\n",
       "    .dataframe thead th {\n",
       "        text-align: right;\n",
       "    }\n",
       "</style>\n",
       "<table border=\"1\" class=\"dataframe\">\n",
       "  <thead>\n",
       "    <tr style=\"text-align: right;\">\n",
       "      <th></th>\n",
       "      <th>Sales_ID</th>\n",
       "      <th>name</th>\n",
       "      <th>year</th>\n",
       "      <th>selling_price</th>\n",
       "      <th>km_driven</th>\n",
       "      <th>State or Province</th>\n",
       "      <th>City</th>\n",
       "      <th>fuel</th>\n",
       "      <th>seller_type</th>\n",
       "      <th>transmission</th>\n",
       "      <th>owner</th>\n",
       "      <th>mileage</th>\n",
       "      <th>engine</th>\n",
       "      <th>max_power</th>\n",
       "      <th>seats</th>\n",
       "      <th>sold</th>\n",
       "      <th>Region</th>\n",
       "    </tr>\n",
       "  </thead>\n",
       "  <tbody>\n",
       "    <tr>\n",
       "      <th>0</th>\n",
       "      <td>1</td>\n",
       "      <td>Maruti Swift Dzire VDI</td>\n",
       "      <td>2014</td>\n",
       "      <td>450000</td>\n",
       "      <td>145500</td>\n",
       "      <td>District of Columbia</td>\n",
       "      <td>Washington</td>\n",
       "      <td>Diesel</td>\n",
       "      <td>Individual</td>\n",
       "      <td>Manual</td>\n",
       "      <td>First Owner</td>\n",
       "      <td>23.4 kmpl</td>\n",
       "      <td>1248 CC</td>\n",
       "      <td>74 bhp</td>\n",
       "      <td>5</td>\n",
       "      <td>Y</td>\n",
       "      <td>East</td>\n",
       "    </tr>\n",
       "    <tr>\n",
       "      <th>1</th>\n",
       "      <td>38</td>\n",
       "      <td>Hyundai Verna VTVT 1.6 SX Option</td>\n",
       "      <td>2019</td>\n",
       "      <td>1149000</td>\n",
       "      <td>5000</td>\n",
       "      <td>District of Columbia</td>\n",
       "      <td>Washington</td>\n",
       "      <td>Petrol</td>\n",
       "      <td>Individual</td>\n",
       "      <td>Manual</td>\n",
       "      <td>First Owner</td>\n",
       "      <td>17.0 kmpl</td>\n",
       "      <td>1591 CC</td>\n",
       "      <td>121.3 bhp</td>\n",
       "      <td>5</td>\n",
       "      <td>Y</td>\n",
       "      <td>East</td>\n",
       "    </tr>\n",
       "    <tr>\n",
       "      <th>2</th>\n",
       "      <td>66</td>\n",
       "      <td>Ford Figo 1.2P Titanium MT</td>\n",
       "      <td>2017</td>\n",
       "      <td>600000</td>\n",
       "      <td>25000</td>\n",
       "      <td>District of Columbia</td>\n",
       "      <td>Washington</td>\n",
       "      <td>Petrol</td>\n",
       "      <td>Individual</td>\n",
       "      <td>Manual</td>\n",
       "      <td>Third Owner</td>\n",
       "      <td>18.16 kmpl</td>\n",
       "      <td>1196 CC</td>\n",
       "      <td>86.8 bhp</td>\n",
       "      <td>5</td>\n",
       "      <td>Y</td>\n",
       "      <td>East</td>\n",
       "    </tr>\n",
       "    <tr>\n",
       "      <th>3</th>\n",
       "      <td>68</td>\n",
       "      <td>Volkswagen Ameo 1.5 TDI Highline 16 Alloy</td>\n",
       "      <td>2016</td>\n",
       "      <td>540000</td>\n",
       "      <td>40000</td>\n",
       "      <td>District of Columbia</td>\n",
       "      <td>Washington</td>\n",
       "      <td>Diesel</td>\n",
       "      <td>Individual</td>\n",
       "      <td>Manual</td>\n",
       "      <td>First Owner</td>\n",
       "      <td>22.0 kmpl</td>\n",
       "      <td>1498 CC</td>\n",
       "      <td>108.495 bhp</td>\n",
       "      <td>5</td>\n",
       "      <td>Y</td>\n",
       "      <td>East</td>\n",
       "    </tr>\n",
       "    <tr>\n",
       "      <th>4</th>\n",
       "      <td>69</td>\n",
       "      <td>Honda City i DTEC VX</td>\n",
       "      <td>2015</td>\n",
       "      <td>630000</td>\n",
       "      <td>135000</td>\n",
       "      <td>District of Columbia</td>\n",
       "      <td>Washington</td>\n",
       "      <td>Diesel</td>\n",
       "      <td>Individual</td>\n",
       "      <td>Manual</td>\n",
       "      <td>First Owner</td>\n",
       "      <td>25.1 kmpl</td>\n",
       "      <td>1498 CC</td>\n",
       "      <td>98.6 bhp</td>\n",
       "      <td>5</td>\n",
       "      <td>Y</td>\n",
       "      <td>East</td>\n",
       "    </tr>\n",
       "  </tbody>\n",
       "</table>\n",
       "</div>"
      ],
      "text/plain": [
       "   Sales_ID                                       name  year  selling_price  \\\n",
       "0         1                     Maruti Swift Dzire VDI  2014         450000   \n",
       "1        38           Hyundai Verna VTVT 1.6 SX Option  2019        1149000   \n",
       "2        66                 Ford Figo 1.2P Titanium MT  2017         600000   \n",
       "3        68  Volkswagen Ameo 1.5 TDI Highline 16 Alloy  2016         540000   \n",
       "4        69                       Honda City i DTEC VX  2015         630000   \n",
       "\n",
       "   km_driven     State or Province        City    fuel seller_type  \\\n",
       "0     145500  District of Columbia  Washington  Diesel  Individual   \n",
       "1       5000  District of Columbia  Washington  Petrol  Individual   \n",
       "2      25000  District of Columbia  Washington  Petrol  Individual   \n",
       "3      40000  District of Columbia  Washington  Diesel  Individual   \n",
       "4     135000  District of Columbia  Washington  Diesel  Individual   \n",
       "\n",
       "  transmission        owner     mileage   engine    max_power  seats sold  \\\n",
       "0       Manual  First Owner   23.4 kmpl  1248 CC       74 bhp      5    Y   \n",
       "1       Manual  First Owner   17.0 kmpl  1591 CC    121.3 bhp      5    Y   \n",
       "2       Manual  Third Owner  18.16 kmpl  1196 CC     86.8 bhp      5    Y   \n",
       "3       Manual  First Owner   22.0 kmpl  1498 CC  108.495 bhp      5    Y   \n",
       "4       Manual  First Owner   25.1 kmpl  1498 CC     98.6 bhp      5    Y   \n",
       "\n",
       "  Region  \n",
       "0   East  \n",
       "1   East  \n",
       "2   East  \n",
       "3   East  \n",
       "4   East  "
      ]
     },
     "execution_count": 16,
     "metadata": {},
     "output_type": "execute_result"
    }
   ],
   "source": [
    "car1.head()"
   ]
  },
  {
   "cell_type": "markdown",
   "id": "c689b900",
   "metadata": {},
   "source": [
    "# A)Finding Significant Variables in Predicting Selling price of car"
   ]
  },
  {
   "cell_type": "markdown",
   "id": "cf9df6fe",
   "metadata": {},
   "source": [
    "To find significant features we need to convert categorical into numeric,which helps in finding more significant features"
   ]
  },
  {
   "cell_type": "markdown",
   "id": "0826631e",
   "metadata": {},
   "source": [
    "i)Converting the fuel type into numerical values"
   ]
  },
  {
   "cell_type": "code",
   "execution_count": 17,
   "id": "3359c4c1",
   "metadata": {},
   "outputs": [
    {
     "data": {
      "text/plain": [
       "array(['Diesel', 'Petrol', 'CNG', 'LPG'], dtype=object)"
      ]
     },
     "execution_count": 17,
     "metadata": {},
     "output_type": "execute_result"
    }
   ],
   "source": [
    "car['fuel'].unique()"
   ]
  },
  {
   "cell_type": "code",
   "execution_count": 18,
   "id": "87d04314",
   "metadata": {},
   "outputs": [],
   "source": [
    "def fuel_val(x):\n",
    "    if x=='Diesel':\n",
    "        return 1\n",
    "    elif x=='Petrol':\n",
    "        return 2\n",
    "    elif x=='LPG':\n",
    "        return 3\n",
    "    elif x=='CNG':\n",
    "        return 4"
   ]
  },
  {
   "cell_type": "code",
   "execution_count": 19,
   "id": "03b42966",
   "metadata": {},
   "outputs": [],
   "source": [
    "car['fueltype']= car['fuel'].map(fuel_val)"
   ]
  },
  {
   "cell_type": "code",
   "execution_count": 20,
   "id": "88a42a3b",
   "metadata": {},
   "outputs": [
    {
     "data": {
      "text/plain": [
       "array(['Individual', 'Dealer', 'Trustmark Dealer'], dtype=object)"
      ]
     },
     "execution_count": 20,
     "metadata": {},
     "output_type": "execute_result"
    }
   ],
   "source": [
    "car['seller_type'].unique()"
   ]
  },
  {
   "cell_type": "code",
   "execution_count": 21,
   "id": "28a4b8af",
   "metadata": {},
   "outputs": [],
   "source": [
    "def sellertype(x):\n",
    "    if x=='Individual':\n",
    "        return 1\n",
    "    elif x=='Dealer':\n",
    "        return 2\n",
    "    elif x=='Trustmark Dealer':\n",
    "        return 3"
   ]
  },
  {
   "cell_type": "code",
   "execution_count": 22,
   "id": "bed9e24b",
   "metadata": {},
   "outputs": [],
   "source": [
    "car['sellertype']=car['seller_type'].map(sellertype)"
   ]
  },
  {
   "cell_type": "code",
   "execution_count": 23,
   "id": "165a3d9e",
   "metadata": {},
   "outputs": [
    {
     "data": {
      "text/plain": [
       "array(['Manual', 'Automatic'], dtype=object)"
      ]
     },
     "execution_count": 23,
     "metadata": {},
     "output_type": "execute_result"
    }
   ],
   "source": [
    "car['transmission'].unique()"
   ]
  },
  {
   "cell_type": "code",
   "execution_count": 24,
   "id": "da1057bb",
   "metadata": {},
   "outputs": [],
   "source": [
    "def Transmission(x):\n",
    "    if x=='Manual':\n",
    "        return 1\n",
    "    elif x=='Automatic':\n",
    "        return 2"
   ]
  },
  {
   "cell_type": "code",
   "execution_count": 25,
   "id": "3d2a6f88",
   "metadata": {},
   "outputs": [],
   "source": [
    "car['transtype']=car['transmission'].map(Transmission)"
   ]
  },
  {
   "cell_type": "code",
   "execution_count": 26,
   "id": "d5b54526",
   "metadata": {},
   "outputs": [
    {
     "data": {
      "text/plain": [
       "array(['First Owner', 'Third Owner', 'Second Owner',\n",
       "       'Fourth & Above Owner', 'Test Drive Car'], dtype=object)"
      ]
     },
     "execution_count": 26,
     "metadata": {},
     "output_type": "execute_result"
    }
   ],
   "source": [
    "car['owner'].unique()"
   ]
  },
  {
   "cell_type": "code",
   "execution_count": 27,
   "id": "771029e6",
   "metadata": {},
   "outputs": [],
   "source": [
    "def own(x):\n",
    "    if x=='First Owner':\n",
    "        return 1\n",
    "    elif x=='Second Owner':\n",
    "        return 2\n",
    "    elif x=='Third Owner':\n",
    "        return 3\n",
    "    elif x=='Fourth & Above Owner':\n",
    "        return 4\n",
    "    else:\n",
    "        return 5"
   ]
  },
  {
   "cell_type": "code",
   "execution_count": 28,
   "id": "61ee5d9a",
   "metadata": {},
   "outputs": [],
   "source": [
    "car['ownertype']=car['owner'].map(own)"
   ]
  },
  {
   "cell_type": "code",
   "execution_count": 29,
   "id": "11a705da",
   "metadata": {},
   "outputs": [
    {
     "data": {
      "text/html": [
       "<div>\n",
       "<style scoped>\n",
       "    .dataframe tbody tr th:only-of-type {\n",
       "        vertical-align: middle;\n",
       "    }\n",
       "\n",
       "    .dataframe tbody tr th {\n",
       "        vertical-align: top;\n",
       "    }\n",
       "\n",
       "    .dataframe thead th {\n",
       "        text-align: right;\n",
       "    }\n",
       "</style>\n",
       "<table border=\"1\" class=\"dataframe\">\n",
       "  <thead>\n",
       "    <tr style=\"text-align: right;\">\n",
       "      <th></th>\n",
       "      <th>Sales_ID</th>\n",
       "      <th>name</th>\n",
       "      <th>year</th>\n",
       "      <th>selling_price</th>\n",
       "      <th>km_driven</th>\n",
       "      <th>State or Province</th>\n",
       "      <th>City</th>\n",
       "      <th>fuel</th>\n",
       "      <th>seller_type</th>\n",
       "      <th>transmission</th>\n",
       "      <th>...</th>\n",
       "      <th>mileage</th>\n",
       "      <th>engine</th>\n",
       "      <th>max_power</th>\n",
       "      <th>seats</th>\n",
       "      <th>sold</th>\n",
       "      <th>Region</th>\n",
       "      <th>fueltype</th>\n",
       "      <th>sellertype</th>\n",
       "      <th>transtype</th>\n",
       "      <th>ownertype</th>\n",
       "    </tr>\n",
       "  </thead>\n",
       "  <tbody>\n",
       "    <tr>\n",
       "      <th>0</th>\n",
       "      <td>1</td>\n",
       "      <td>Maruti Swift Dzire VDI</td>\n",
       "      <td>2014</td>\n",
       "      <td>450000</td>\n",
       "      <td>145500</td>\n",
       "      <td>District of Columbia</td>\n",
       "      <td>Washington</td>\n",
       "      <td>Diesel</td>\n",
       "      <td>Individual</td>\n",
       "      <td>Manual</td>\n",
       "      <td>...</td>\n",
       "      <td>23.4 kmpl</td>\n",
       "      <td>1248 CC</td>\n",
       "      <td>74 bhp</td>\n",
       "      <td>5</td>\n",
       "      <td>Y</td>\n",
       "      <td>East</td>\n",
       "      <td>1</td>\n",
       "      <td>1</td>\n",
       "      <td>1</td>\n",
       "      <td>1</td>\n",
       "    </tr>\n",
       "    <tr>\n",
       "      <th>1</th>\n",
       "      <td>38</td>\n",
       "      <td>Hyundai Verna VTVT 1.6 SX Option</td>\n",
       "      <td>2019</td>\n",
       "      <td>1149000</td>\n",
       "      <td>5000</td>\n",
       "      <td>District of Columbia</td>\n",
       "      <td>Washington</td>\n",
       "      <td>Petrol</td>\n",
       "      <td>Individual</td>\n",
       "      <td>Manual</td>\n",
       "      <td>...</td>\n",
       "      <td>17.0 kmpl</td>\n",
       "      <td>1591 CC</td>\n",
       "      <td>121.3 bhp</td>\n",
       "      <td>5</td>\n",
       "      <td>Y</td>\n",
       "      <td>East</td>\n",
       "      <td>2</td>\n",
       "      <td>1</td>\n",
       "      <td>1</td>\n",
       "      <td>1</td>\n",
       "    </tr>\n",
       "    <tr>\n",
       "      <th>2</th>\n",
       "      <td>66</td>\n",
       "      <td>Ford Figo 1.2P Titanium MT</td>\n",
       "      <td>2017</td>\n",
       "      <td>600000</td>\n",
       "      <td>25000</td>\n",
       "      <td>District of Columbia</td>\n",
       "      <td>Washington</td>\n",
       "      <td>Petrol</td>\n",
       "      <td>Individual</td>\n",
       "      <td>Manual</td>\n",
       "      <td>...</td>\n",
       "      <td>18.16 kmpl</td>\n",
       "      <td>1196 CC</td>\n",
       "      <td>86.8 bhp</td>\n",
       "      <td>5</td>\n",
       "      <td>Y</td>\n",
       "      <td>East</td>\n",
       "      <td>2</td>\n",
       "      <td>1</td>\n",
       "      <td>1</td>\n",
       "      <td>3</td>\n",
       "    </tr>\n",
       "    <tr>\n",
       "      <th>3</th>\n",
       "      <td>68</td>\n",
       "      <td>Volkswagen Ameo 1.5 TDI Highline 16 Alloy</td>\n",
       "      <td>2016</td>\n",
       "      <td>540000</td>\n",
       "      <td>40000</td>\n",
       "      <td>District of Columbia</td>\n",
       "      <td>Washington</td>\n",
       "      <td>Diesel</td>\n",
       "      <td>Individual</td>\n",
       "      <td>Manual</td>\n",
       "      <td>...</td>\n",
       "      <td>22.0 kmpl</td>\n",
       "      <td>1498 CC</td>\n",
       "      <td>108.495 bhp</td>\n",
       "      <td>5</td>\n",
       "      <td>Y</td>\n",
       "      <td>East</td>\n",
       "      <td>1</td>\n",
       "      <td>1</td>\n",
       "      <td>1</td>\n",
       "      <td>1</td>\n",
       "    </tr>\n",
       "    <tr>\n",
       "      <th>4</th>\n",
       "      <td>69</td>\n",
       "      <td>Honda City i DTEC VX</td>\n",
       "      <td>2015</td>\n",
       "      <td>630000</td>\n",
       "      <td>135000</td>\n",
       "      <td>District of Columbia</td>\n",
       "      <td>Washington</td>\n",
       "      <td>Diesel</td>\n",
       "      <td>Individual</td>\n",
       "      <td>Manual</td>\n",
       "      <td>...</td>\n",
       "      <td>25.1 kmpl</td>\n",
       "      <td>1498 CC</td>\n",
       "      <td>98.6 bhp</td>\n",
       "      <td>5</td>\n",
       "      <td>Y</td>\n",
       "      <td>East</td>\n",
       "      <td>1</td>\n",
       "      <td>1</td>\n",
       "      <td>1</td>\n",
       "      <td>1</td>\n",
       "    </tr>\n",
       "  </tbody>\n",
       "</table>\n",
       "<p>5 rows × 21 columns</p>\n",
       "</div>"
      ],
      "text/plain": [
       "   Sales_ID                                       name  year  selling_price  \\\n",
       "0         1                     Maruti Swift Dzire VDI  2014         450000   \n",
       "1        38           Hyundai Verna VTVT 1.6 SX Option  2019        1149000   \n",
       "2        66                 Ford Figo 1.2P Titanium MT  2017         600000   \n",
       "3        68  Volkswagen Ameo 1.5 TDI Highline 16 Alloy  2016         540000   \n",
       "4        69                       Honda City i DTEC VX  2015         630000   \n",
       "\n",
       "   km_driven     State or Province        City    fuel seller_type  \\\n",
       "0     145500  District of Columbia  Washington  Diesel  Individual   \n",
       "1       5000  District of Columbia  Washington  Petrol  Individual   \n",
       "2      25000  District of Columbia  Washington  Petrol  Individual   \n",
       "3      40000  District of Columbia  Washington  Diesel  Individual   \n",
       "4     135000  District of Columbia  Washington  Diesel  Individual   \n",
       "\n",
       "  transmission  ...     mileage   engine    max_power seats  sold Region  \\\n",
       "0       Manual  ...   23.4 kmpl  1248 CC       74 bhp     5     Y   East   \n",
       "1       Manual  ...   17.0 kmpl  1591 CC    121.3 bhp     5     Y   East   \n",
       "2       Manual  ...  18.16 kmpl  1196 CC     86.8 bhp     5     Y   East   \n",
       "3       Manual  ...   22.0 kmpl  1498 CC  108.495 bhp     5     Y   East   \n",
       "4       Manual  ...   25.1 kmpl  1498 CC     98.6 bhp     5     Y   East   \n",
       "\n",
       "  fueltype  sellertype  transtype  ownertype  \n",
       "0        1           1          1          1  \n",
       "1        2           1          1          1  \n",
       "2        2           1          1          3  \n",
       "3        1           1          1          1  \n",
       "4        1           1          1          1  \n",
       "\n",
       "[5 rows x 21 columns]"
      ]
     },
     "execution_count": 29,
     "metadata": {},
     "output_type": "execute_result"
    }
   ],
   "source": [
    "car.head()"
   ]
  },
  {
   "cell_type": "code",
   "execution_count": 30,
   "id": "bce52a17",
   "metadata": {},
   "outputs": [],
   "source": [
    "car['AvgMileage']= car['mileage'].apply(lambda x : x.split(' '))\n",
    "car['AvgMileage']=car['AvgMileage'].apply(lambda x: x[0])\n",
    "car['AvgMileage']=car['AvgMileage'].astype('float64')"
   ]
  },
  {
   "cell_type": "code",
   "execution_count": 31,
   "id": "27177962",
   "metadata": {},
   "outputs": [
    {
     "data": {
      "text/plain": [
       "0    23.40\n",
       "1    17.00\n",
       "2    18.16\n",
       "3    22.00\n",
       "4    25.10\n",
       "Name: AvgMileage, dtype: float64"
      ]
     },
     "execution_count": 31,
     "metadata": {},
     "output_type": "execute_result"
    }
   ],
   "source": [
    "car['AvgMileage'].head()"
   ]
  },
  {
   "cell_type": "code",
   "execution_count": 32,
   "id": "9226336b",
   "metadata": {},
   "outputs": [],
   "source": [
    "\n",
    "car['EngineCC']= car['engine'].apply(lambda x : x.split(' '))\n",
    "car['EngineCC']=car['EngineCC'].apply(lambda x: x[0])\n",
    "car['EngineCC']=car['EngineCC'].astype('int64')"
   ]
  },
  {
   "cell_type": "code",
   "execution_count": 33,
   "id": "d771320e",
   "metadata": {},
   "outputs": [
    {
     "data": {
      "text/plain": [
       "0    1248\n",
       "1    1591\n",
       "2    1196\n",
       "3    1498\n",
       "4    1498\n",
       "Name: EngineCC, dtype: int64"
      ]
     },
     "execution_count": 33,
     "metadata": {},
     "output_type": "execute_result"
    }
   ],
   "source": [
    "car['EngineCC'].head()"
   ]
  },
  {
   "cell_type": "code",
   "execution_count": 34,
   "id": "c9d7f63a",
   "metadata": {},
   "outputs": [],
   "source": [
    "car['MaxPower']= car['max_power'].apply(lambda x : x.split(' '))\n",
    "car['MaxPower']=car['MaxPower'].apply(lambda x: x[0])\n",
    "car['MaxPower']=car['MaxPower'].astype('float64')"
   ]
  },
  {
   "cell_type": "code",
   "execution_count": 35,
   "id": "59883b6a",
   "metadata": {},
   "outputs": [
    {
     "data": {
      "text/plain": [
       "0     74.000\n",
       "1    121.300\n",
       "2     86.800\n",
       "3    108.495\n",
       "4     98.600\n",
       "Name: MaxPower, dtype: float64"
      ]
     },
     "execution_count": 35,
     "metadata": {},
     "output_type": "execute_result"
    }
   ],
   "source": [
    "car['MaxPower'].head()"
   ]
  },
  {
   "cell_type": "code",
   "execution_count": 36,
   "id": "8bbb9feb",
   "metadata": {},
   "outputs": [],
   "source": [
    "car['sale']=(car['sold']=='Y').map({True:1,False:0})"
   ]
  },
  {
   "cell_type": "code",
   "execution_count": 37,
   "id": "3f5ead25",
   "metadata": {},
   "outputs": [
    {
     "data": {
      "text/html": [
       "<div>\n",
       "<style scoped>\n",
       "    .dataframe tbody tr th:only-of-type {\n",
       "        vertical-align: middle;\n",
       "    }\n",
       "\n",
       "    .dataframe tbody tr th {\n",
       "        vertical-align: top;\n",
       "    }\n",
       "\n",
       "    .dataframe thead th {\n",
       "        text-align: right;\n",
       "    }\n",
       "</style>\n",
       "<table border=\"1\" class=\"dataframe\">\n",
       "  <thead>\n",
       "    <tr style=\"text-align: right;\">\n",
       "      <th></th>\n",
       "      <th>Sales_ID</th>\n",
       "      <th>name</th>\n",
       "      <th>year</th>\n",
       "      <th>selling_price</th>\n",
       "      <th>km_driven</th>\n",
       "      <th>State or Province</th>\n",
       "      <th>City</th>\n",
       "      <th>fuel</th>\n",
       "      <th>seller_type</th>\n",
       "      <th>transmission</th>\n",
       "      <th>...</th>\n",
       "      <th>sold</th>\n",
       "      <th>Region</th>\n",
       "      <th>fueltype</th>\n",
       "      <th>sellertype</th>\n",
       "      <th>transtype</th>\n",
       "      <th>ownertype</th>\n",
       "      <th>AvgMileage</th>\n",
       "      <th>EngineCC</th>\n",
       "      <th>MaxPower</th>\n",
       "      <th>sale</th>\n",
       "    </tr>\n",
       "  </thead>\n",
       "  <tbody>\n",
       "    <tr>\n",
       "      <th>0</th>\n",
       "      <td>1</td>\n",
       "      <td>Maruti Swift Dzire VDI</td>\n",
       "      <td>2014</td>\n",
       "      <td>450000</td>\n",
       "      <td>145500</td>\n",
       "      <td>District of Columbia</td>\n",
       "      <td>Washington</td>\n",
       "      <td>Diesel</td>\n",
       "      <td>Individual</td>\n",
       "      <td>Manual</td>\n",
       "      <td>...</td>\n",
       "      <td>Y</td>\n",
       "      <td>East</td>\n",
       "      <td>1</td>\n",
       "      <td>1</td>\n",
       "      <td>1</td>\n",
       "      <td>1</td>\n",
       "      <td>23.40</td>\n",
       "      <td>1248</td>\n",
       "      <td>74.000</td>\n",
       "      <td>1</td>\n",
       "    </tr>\n",
       "    <tr>\n",
       "      <th>1</th>\n",
       "      <td>38</td>\n",
       "      <td>Hyundai Verna VTVT 1.6 SX Option</td>\n",
       "      <td>2019</td>\n",
       "      <td>1149000</td>\n",
       "      <td>5000</td>\n",
       "      <td>District of Columbia</td>\n",
       "      <td>Washington</td>\n",
       "      <td>Petrol</td>\n",
       "      <td>Individual</td>\n",
       "      <td>Manual</td>\n",
       "      <td>...</td>\n",
       "      <td>Y</td>\n",
       "      <td>East</td>\n",
       "      <td>2</td>\n",
       "      <td>1</td>\n",
       "      <td>1</td>\n",
       "      <td>1</td>\n",
       "      <td>17.00</td>\n",
       "      <td>1591</td>\n",
       "      <td>121.300</td>\n",
       "      <td>1</td>\n",
       "    </tr>\n",
       "    <tr>\n",
       "      <th>2</th>\n",
       "      <td>66</td>\n",
       "      <td>Ford Figo 1.2P Titanium MT</td>\n",
       "      <td>2017</td>\n",
       "      <td>600000</td>\n",
       "      <td>25000</td>\n",
       "      <td>District of Columbia</td>\n",
       "      <td>Washington</td>\n",
       "      <td>Petrol</td>\n",
       "      <td>Individual</td>\n",
       "      <td>Manual</td>\n",
       "      <td>...</td>\n",
       "      <td>Y</td>\n",
       "      <td>East</td>\n",
       "      <td>2</td>\n",
       "      <td>1</td>\n",
       "      <td>1</td>\n",
       "      <td>3</td>\n",
       "      <td>18.16</td>\n",
       "      <td>1196</td>\n",
       "      <td>86.800</td>\n",
       "      <td>1</td>\n",
       "    </tr>\n",
       "    <tr>\n",
       "      <th>3</th>\n",
       "      <td>68</td>\n",
       "      <td>Volkswagen Ameo 1.5 TDI Highline 16 Alloy</td>\n",
       "      <td>2016</td>\n",
       "      <td>540000</td>\n",
       "      <td>40000</td>\n",
       "      <td>District of Columbia</td>\n",
       "      <td>Washington</td>\n",
       "      <td>Diesel</td>\n",
       "      <td>Individual</td>\n",
       "      <td>Manual</td>\n",
       "      <td>...</td>\n",
       "      <td>Y</td>\n",
       "      <td>East</td>\n",
       "      <td>1</td>\n",
       "      <td>1</td>\n",
       "      <td>1</td>\n",
       "      <td>1</td>\n",
       "      <td>22.00</td>\n",
       "      <td>1498</td>\n",
       "      <td>108.495</td>\n",
       "      <td>1</td>\n",
       "    </tr>\n",
       "    <tr>\n",
       "      <th>4</th>\n",
       "      <td>69</td>\n",
       "      <td>Honda City i DTEC VX</td>\n",
       "      <td>2015</td>\n",
       "      <td>630000</td>\n",
       "      <td>135000</td>\n",
       "      <td>District of Columbia</td>\n",
       "      <td>Washington</td>\n",
       "      <td>Diesel</td>\n",
       "      <td>Individual</td>\n",
       "      <td>Manual</td>\n",
       "      <td>...</td>\n",
       "      <td>Y</td>\n",
       "      <td>East</td>\n",
       "      <td>1</td>\n",
       "      <td>1</td>\n",
       "      <td>1</td>\n",
       "      <td>1</td>\n",
       "      <td>25.10</td>\n",
       "      <td>1498</td>\n",
       "      <td>98.600</td>\n",
       "      <td>1</td>\n",
       "    </tr>\n",
       "  </tbody>\n",
       "</table>\n",
       "<p>5 rows × 25 columns</p>\n",
       "</div>"
      ],
      "text/plain": [
       "   Sales_ID                                       name  year  selling_price  \\\n",
       "0         1                     Maruti Swift Dzire VDI  2014         450000   \n",
       "1        38           Hyundai Verna VTVT 1.6 SX Option  2019        1149000   \n",
       "2        66                 Ford Figo 1.2P Titanium MT  2017         600000   \n",
       "3        68  Volkswagen Ameo 1.5 TDI Highline 16 Alloy  2016         540000   \n",
       "4        69                       Honda City i DTEC VX  2015         630000   \n",
       "\n",
       "   km_driven     State or Province        City    fuel seller_type  \\\n",
       "0     145500  District of Columbia  Washington  Diesel  Individual   \n",
       "1       5000  District of Columbia  Washington  Petrol  Individual   \n",
       "2      25000  District of Columbia  Washington  Petrol  Individual   \n",
       "3      40000  District of Columbia  Washington  Diesel  Individual   \n",
       "4     135000  District of Columbia  Washington  Diesel  Individual   \n",
       "\n",
       "  transmission  ... sold Region fueltype sellertype  transtype ownertype  \\\n",
       "0       Manual  ...    Y   East        1          1          1         1   \n",
       "1       Manual  ...    Y   East        2          1          1         1   \n",
       "2       Manual  ...    Y   East        2          1          1         3   \n",
       "3       Manual  ...    Y   East        1          1          1         1   \n",
       "4       Manual  ...    Y   East        1          1          1         1   \n",
       "\n",
       "  AvgMileage  EngineCC  MaxPower  sale  \n",
       "0      23.40      1248    74.000     1  \n",
       "1      17.00      1591   121.300     1  \n",
       "2      18.16      1196    86.800     1  \n",
       "3      22.00      1498   108.495     1  \n",
       "4      25.10      1498    98.600     1  \n",
       "\n",
       "[5 rows x 25 columns]"
      ]
     },
     "execution_count": 37,
     "metadata": {},
     "output_type": "execute_result"
    }
   ],
   "source": [
    "car.head()"
   ]
  },
  {
   "cell_type": "code",
   "execution_count": 38,
   "id": "dc38d029",
   "metadata": {},
   "outputs": [],
   "source": [
    "SignificantFeatures=car.corr()"
   ]
  },
  {
   "cell_type": "code",
   "execution_count": 39,
   "id": "ec9f76e4",
   "metadata": {},
   "outputs": [
    {
     "data": {
      "text/html": [
       "<div>\n",
       "<style scoped>\n",
       "    .dataframe tbody tr th:only-of-type {\n",
       "        vertical-align: middle;\n",
       "    }\n",
       "\n",
       "    .dataframe tbody tr th {\n",
       "        vertical-align: top;\n",
       "    }\n",
       "\n",
       "    .dataframe thead th {\n",
       "        text-align: right;\n",
       "    }\n",
       "</style>\n",
       "<table border=\"1\" class=\"dataframe\">\n",
       "  <thead>\n",
       "    <tr style=\"text-align: right;\">\n",
       "      <th></th>\n",
       "      <th>Sales_ID</th>\n",
       "      <th>year</th>\n",
       "      <th>selling_price</th>\n",
       "      <th>km_driven</th>\n",
       "      <th>seats</th>\n",
       "      <th>fueltype</th>\n",
       "      <th>sellertype</th>\n",
       "      <th>transtype</th>\n",
       "      <th>ownertype</th>\n",
       "      <th>AvgMileage</th>\n",
       "      <th>EngineCC</th>\n",
       "      <th>MaxPower</th>\n",
       "      <th>sale</th>\n",
       "    </tr>\n",
       "  </thead>\n",
       "  <tbody>\n",
       "    <tr>\n",
       "      <th>Sales_ID</th>\n",
       "      <td>1.000000</td>\n",
       "      <td>-0.001304</td>\n",
       "      <td>-0.012125</td>\n",
       "      <td>0.009556</td>\n",
       "      <td>-0.014154</td>\n",
       "      <td>-0.030596</td>\n",
       "      <td>-0.022007</td>\n",
       "      <td>-0.017498</td>\n",
       "      <td>0.001766</td>\n",
       "      <td>0.028627</td>\n",
       "      <td>-0.011279</td>\n",
       "      <td>-0.003717</td>\n",
       "      <td>-0.753873</td>\n",
       "    </tr>\n",
       "    <tr>\n",
       "      <th>year</th>\n",
       "      <td>-0.001304</td>\n",
       "      <td>1.000000</td>\n",
       "      <td>0.412302</td>\n",
       "      <td>-0.428548</td>\n",
       "      <td>-0.007923</td>\n",
       "      <td>-0.032935</td>\n",
       "      <td>0.231798</td>\n",
       "      <td>0.249002</td>\n",
       "      <td>-0.499703</td>\n",
       "      <td>0.328544</td>\n",
       "      <td>0.018263</td>\n",
       "      <td>0.226598</td>\n",
       "      <td>0.002871</td>\n",
       "    </tr>\n",
       "    <tr>\n",
       "      <th>selling_price</th>\n",
       "      <td>-0.012125</td>\n",
       "      <td>0.412302</td>\n",
       "      <td>1.000000</td>\n",
       "      <td>-0.222158</td>\n",
       "      <td>0.041617</td>\n",
       "      <td>-0.201221</td>\n",
       "      <td>0.321389</td>\n",
       "      <td>0.590269</td>\n",
       "      <td>-0.216514</td>\n",
       "      <td>-0.126280</td>\n",
       "      <td>0.455682</td>\n",
       "      <td>0.749674</td>\n",
       "      <td>0.018997</td>\n",
       "    </tr>\n",
       "    <tr>\n",
       "      <th>km_driven</th>\n",
       "      <td>0.009556</td>\n",
       "      <td>-0.428548</td>\n",
       "      <td>-0.222158</td>\n",
       "      <td>1.000000</td>\n",
       "      <td>0.227259</td>\n",
       "      <td>-0.246821</td>\n",
       "      <td>-0.192788</td>\n",
       "      <td>-0.201186</td>\n",
       "      <td>0.281182</td>\n",
       "      <td>-0.172980</td>\n",
       "      <td>0.206031</td>\n",
       "      <td>-0.038159</td>\n",
       "      <td>-0.004931</td>\n",
       "    </tr>\n",
       "    <tr>\n",
       "      <th>seats</th>\n",
       "      <td>-0.014154</td>\n",
       "      <td>-0.007923</td>\n",
       "      <td>0.041617</td>\n",
       "      <td>0.227259</td>\n",
       "      <td>1.000000</td>\n",
       "      <td>-0.338849</td>\n",
       "      <td>-0.075284</td>\n",
       "      <td>-0.072722</td>\n",
       "      <td>0.027390</td>\n",
       "      <td>-0.451700</td>\n",
       "      <td>0.611103</td>\n",
       "      <td>0.191999</td>\n",
       "      <td>0.010076</td>\n",
       "    </tr>\n",
       "    <tr>\n",
       "      <th>fueltype</th>\n",
       "      <td>-0.030596</td>\n",
       "      <td>-0.032935</td>\n",
       "      <td>-0.201221</td>\n",
       "      <td>-0.246821</td>\n",
       "      <td>-0.338849</td>\n",
       "      <td>1.000000</td>\n",
       "      <td>0.036044</td>\n",
       "      <td>0.010803</td>\n",
       "      <td>-0.014162</td>\n",
       "      <td>-0.026830</td>\n",
       "      <td>-0.487862</td>\n",
       "      <td>-0.306224</td>\n",
       "      <td>0.010861</td>\n",
       "    </tr>\n",
       "    <tr>\n",
       "      <th>sellertype</th>\n",
       "      <td>-0.022007</td>\n",
       "      <td>0.231798</td>\n",
       "      <td>0.321389</td>\n",
       "      <td>-0.192788</td>\n",
       "      <td>-0.075284</td>\n",
       "      <td>0.036044</td>\n",
       "      <td>1.000000</td>\n",
       "      <td>0.357740</td>\n",
       "      <td>-0.197571</td>\n",
       "      <td>-0.022672</td>\n",
       "      <td>0.120017</td>\n",
       "      <td>0.239235</td>\n",
       "      <td>0.032016</td>\n",
       "    </tr>\n",
       "    <tr>\n",
       "      <th>transtype</th>\n",
       "      <td>-0.017498</td>\n",
       "      <td>0.249002</td>\n",
       "      <td>0.590269</td>\n",
       "      <td>-0.201186</td>\n",
       "      <td>-0.072722</td>\n",
       "      <td>0.010803</td>\n",
       "      <td>0.357740</td>\n",
       "      <td>1.000000</td>\n",
       "      <td>-0.141350</td>\n",
       "      <td>-0.178986</td>\n",
       "      <td>0.283206</td>\n",
       "      <td>0.541870</td>\n",
       "      <td>0.019495</td>\n",
       "    </tr>\n",
       "    <tr>\n",
       "      <th>ownertype</th>\n",
       "      <td>0.001766</td>\n",
       "      <td>-0.499703</td>\n",
       "      <td>-0.216514</td>\n",
       "      <td>0.281182</td>\n",
       "      <td>0.027390</td>\n",
       "      <td>-0.014162</td>\n",
       "      <td>-0.197571</td>\n",
       "      <td>-0.141350</td>\n",
       "      <td>1.000000</td>\n",
       "      <td>-0.174864</td>\n",
       "      <td>0.007632</td>\n",
       "      <td>-0.104865</td>\n",
       "      <td>0.005112</td>\n",
       "    </tr>\n",
       "    <tr>\n",
       "      <th>AvgMileage</th>\n",
       "      <td>0.028627</td>\n",
       "      <td>0.328544</td>\n",
       "      <td>-0.126280</td>\n",
       "      <td>-0.172980</td>\n",
       "      <td>-0.451700</td>\n",
       "      <td>-0.026830</td>\n",
       "      <td>-0.022672</td>\n",
       "      <td>-0.178986</td>\n",
       "      <td>-0.174864</td>\n",
       "      <td>1.000000</td>\n",
       "      <td>-0.576408</td>\n",
       "      <td>-0.374621</td>\n",
       "      <td>-0.028918</td>\n",
       "    </tr>\n",
       "    <tr>\n",
       "      <th>EngineCC</th>\n",
       "      <td>-0.011279</td>\n",
       "      <td>0.018263</td>\n",
       "      <td>0.455682</td>\n",
       "      <td>0.206031</td>\n",
       "      <td>0.611103</td>\n",
       "      <td>-0.487862</td>\n",
       "      <td>0.120017</td>\n",
       "      <td>0.283206</td>\n",
       "      <td>0.007632</td>\n",
       "      <td>-0.576408</td>\n",
       "      <td>1.000000</td>\n",
       "      <td>0.703975</td>\n",
       "      <td>0.013259</td>\n",
       "    </tr>\n",
       "    <tr>\n",
       "      <th>MaxPower</th>\n",
       "      <td>-0.003717</td>\n",
       "      <td>0.226598</td>\n",
       "      <td>0.749674</td>\n",
       "      <td>-0.038159</td>\n",
       "      <td>0.191999</td>\n",
       "      <td>-0.306224</td>\n",
       "      <td>0.239235</td>\n",
       "      <td>0.541870</td>\n",
       "      <td>-0.104865</td>\n",
       "      <td>-0.374621</td>\n",
       "      <td>0.703975</td>\n",
       "      <td>1.000000</td>\n",
       "      <td>0.010338</td>\n",
       "    </tr>\n",
       "    <tr>\n",
       "      <th>sale</th>\n",
       "      <td>-0.753873</td>\n",
       "      <td>0.002871</td>\n",
       "      <td>0.018997</td>\n",
       "      <td>-0.004931</td>\n",
       "      <td>0.010076</td>\n",
       "      <td>0.010861</td>\n",
       "      <td>0.032016</td>\n",
       "      <td>0.019495</td>\n",
       "      <td>0.005112</td>\n",
       "      <td>-0.028918</td>\n",
       "      <td>0.013259</td>\n",
       "      <td>0.010338</td>\n",
       "      <td>1.000000</td>\n",
       "    </tr>\n",
       "  </tbody>\n",
       "</table>\n",
       "</div>"
      ],
      "text/plain": [
       "               Sales_ID      year  selling_price  km_driven     seats  \\\n",
       "Sales_ID       1.000000 -0.001304      -0.012125   0.009556 -0.014154   \n",
       "year          -0.001304  1.000000       0.412302  -0.428548 -0.007923   \n",
       "selling_price -0.012125  0.412302       1.000000  -0.222158  0.041617   \n",
       "km_driven      0.009556 -0.428548      -0.222158   1.000000  0.227259   \n",
       "seats         -0.014154 -0.007923       0.041617   0.227259  1.000000   \n",
       "fueltype      -0.030596 -0.032935      -0.201221  -0.246821 -0.338849   \n",
       "sellertype    -0.022007  0.231798       0.321389  -0.192788 -0.075284   \n",
       "transtype     -0.017498  0.249002       0.590269  -0.201186 -0.072722   \n",
       "ownertype      0.001766 -0.499703      -0.216514   0.281182  0.027390   \n",
       "AvgMileage     0.028627  0.328544      -0.126280  -0.172980 -0.451700   \n",
       "EngineCC      -0.011279  0.018263       0.455682   0.206031  0.611103   \n",
       "MaxPower      -0.003717  0.226598       0.749674  -0.038159  0.191999   \n",
       "sale          -0.753873  0.002871       0.018997  -0.004931  0.010076   \n",
       "\n",
       "               fueltype  sellertype  transtype  ownertype  AvgMileage  \\\n",
       "Sales_ID      -0.030596   -0.022007  -0.017498   0.001766    0.028627   \n",
       "year          -0.032935    0.231798   0.249002  -0.499703    0.328544   \n",
       "selling_price -0.201221    0.321389   0.590269  -0.216514   -0.126280   \n",
       "km_driven     -0.246821   -0.192788  -0.201186   0.281182   -0.172980   \n",
       "seats         -0.338849   -0.075284  -0.072722   0.027390   -0.451700   \n",
       "fueltype       1.000000    0.036044   0.010803  -0.014162   -0.026830   \n",
       "sellertype     0.036044    1.000000   0.357740  -0.197571   -0.022672   \n",
       "transtype      0.010803    0.357740   1.000000  -0.141350   -0.178986   \n",
       "ownertype     -0.014162   -0.197571  -0.141350   1.000000   -0.174864   \n",
       "AvgMileage    -0.026830   -0.022672  -0.178986  -0.174864    1.000000   \n",
       "EngineCC      -0.487862    0.120017   0.283206   0.007632   -0.576408   \n",
       "MaxPower      -0.306224    0.239235   0.541870  -0.104865   -0.374621   \n",
       "sale           0.010861    0.032016   0.019495   0.005112   -0.028918   \n",
       "\n",
       "               EngineCC  MaxPower      sale  \n",
       "Sales_ID      -0.011279 -0.003717 -0.753873  \n",
       "year           0.018263  0.226598  0.002871  \n",
       "selling_price  0.455682  0.749674  0.018997  \n",
       "km_driven      0.206031 -0.038159 -0.004931  \n",
       "seats          0.611103  0.191999  0.010076  \n",
       "fueltype      -0.487862 -0.306224  0.010861  \n",
       "sellertype     0.120017  0.239235  0.032016  \n",
       "transtype      0.283206  0.541870  0.019495  \n",
       "ownertype      0.007632 -0.104865  0.005112  \n",
       "AvgMileage    -0.576408 -0.374621 -0.028918  \n",
       "EngineCC       1.000000  0.703975  0.013259  \n",
       "MaxPower       0.703975  1.000000  0.010338  \n",
       "sale           0.013259  0.010338  1.000000  "
      ]
     },
     "execution_count": 39,
     "metadata": {},
     "output_type": "execute_result"
    }
   ],
   "source": [
    "SignificantFeatures"
   ]
  },
  {
   "cell_type": "code",
   "execution_count": 40,
   "id": "28542e29",
   "metadata": {},
   "outputs": [
    {
     "data": {
      "text/plain": [
       "<AxesSubplot:>"
      ]
     },
     "execution_count": 40,
     "metadata": {},
     "output_type": "execute_result"
    },
    {
     "data": {
      "image/png": "[encoded data removed]",
      "text/plain": [
       "<Figure size 864x576 with 2 Axes>"
      ]
     },
     "metadata": {},
     "output_type": "display_data"
    }
   ],
   "source": [
    "sns.set(rc = {'figure.figsize':(12,8)})\n",
    "sns.heatmap(data=car.corr(),annot=True,annot_kws={\"size\": 13})"
   ]
  },
  {
   "cell_type": "code",
   "execution_count": 41,
   "id": "64684689",
   "metadata": {},
   "outputs": [
    {
     "data": {
      "text/plain": [
       "Sales_ID        -0.012125\n",
       "year             0.412302\n",
       "selling_price    1.000000\n",
       "km_driven       -0.222158\n",
       "seats            0.041617\n",
       "fueltype        -0.201221\n",
       "sellertype       0.321389\n",
       "transtype        0.590269\n",
       "ownertype       -0.216514\n",
       "AvgMileage      -0.126280\n",
       "EngineCC         0.455682\n",
       "MaxPower         0.749674\n",
       "sale             0.018997\n",
       "Name: selling_price, dtype: float64"
      ]
     },
     "execution_count": 41,
     "metadata": {},
     "output_type": "execute_result"
    }
   ],
   "source": [
    "SignificantFeatures['selling_price']"
   ]
  },
  {
   "cell_type": "markdown",
   "id": "b88244aa",
   "metadata": {},
   "source": [
    "    From correalation, significant features are year, seller type, Transmission type, Engine Capacity and Max power"
   ]
  },
  {
   "cell_type": "markdown",
   "id": "75368c01",
   "metadata": {},
   "source": [
    "# B)To find how well significant features describe selling price of car"
   ]
  },
  {
   "cell_type": "code",
   "execution_count": 42,
   "id": "ddd9e698",
   "metadata": {},
   "outputs": [],
   "source": [
    "car2=car.drop(columns=['Sales_ID', 'name','State or Province','City','fuel','seller_type','transmission','owner','mileage','engine','max_power','Region','sold','sale'],axis=1)"
   ]
  },
  {
   "cell_type": "code",
   "execution_count": 43,
   "id": "13643cca",
   "metadata": {},
   "outputs": [
    {
     "data": {
      "text/html": [
       "<div>\n",
       "<style scoped>\n",
       "    .dataframe tbody tr th:only-of-type {\n",
       "        vertical-align: middle;\n",
       "    }\n",
       "\n",
       "    .dataframe tbody tr th {\n",
       "        vertical-align: top;\n",
       "    }\n",
       "\n",
       "    .dataframe thead th {\n",
       "        text-align: right;\n",
       "    }\n",
       "</style>\n",
       "<table border=\"1\" class=\"dataframe\">\n",
       "  <thead>\n",
       "    <tr style=\"text-align: right;\">\n",
       "      <th></th>\n",
       "      <th>year</th>\n",
       "      <th>selling_price</th>\n",
       "      <th>km_driven</th>\n",
       "      <th>seats</th>\n",
       "      <th>fueltype</th>\n",
       "      <th>sellertype</th>\n",
       "      <th>transtype</th>\n",
       "      <th>ownertype</th>\n",
       "      <th>AvgMileage</th>\n",
       "      <th>EngineCC</th>\n",
       "      <th>MaxPower</th>\n",
       "    </tr>\n",
       "  </thead>\n",
       "  <tbody>\n",
       "    <tr>\n",
       "      <th>0</th>\n",
       "      <td>2014</td>\n",
       "      <td>450000</td>\n",
       "      <td>145500</td>\n",
       "      <td>5</td>\n",
       "      <td>1</td>\n",
       "      <td>1</td>\n",
       "      <td>1</td>\n",
       "      <td>1</td>\n",
       "      <td>23.40</td>\n",
       "      <td>1248</td>\n",
       "      <td>74.000</td>\n",
       "    </tr>\n",
       "    <tr>\n",
       "      <th>1</th>\n",
       "      <td>2019</td>\n",
       "      <td>1149000</td>\n",
       "      <td>5000</td>\n",
       "      <td>5</td>\n",
       "      <td>2</td>\n",
       "      <td>1</td>\n",
       "      <td>1</td>\n",
       "      <td>1</td>\n",
       "      <td>17.00</td>\n",
       "      <td>1591</td>\n",
       "      <td>121.300</td>\n",
       "    </tr>\n",
       "    <tr>\n",
       "      <th>2</th>\n",
       "      <td>2017</td>\n",
       "      <td>600000</td>\n",
       "      <td>25000</td>\n",
       "      <td>5</td>\n",
       "      <td>2</td>\n",
       "      <td>1</td>\n",
       "      <td>1</td>\n",
       "      <td>3</td>\n",
       "      <td>18.16</td>\n",
       "      <td>1196</td>\n",
       "      <td>86.800</td>\n",
       "    </tr>\n",
       "    <tr>\n",
       "      <th>3</th>\n",
       "      <td>2016</td>\n",
       "      <td>540000</td>\n",
       "      <td>40000</td>\n",
       "      <td>5</td>\n",
       "      <td>1</td>\n",
       "      <td>1</td>\n",
       "      <td>1</td>\n",
       "      <td>1</td>\n",
       "      <td>22.00</td>\n",
       "      <td>1498</td>\n",
       "      <td>108.495</td>\n",
       "    </tr>\n",
       "    <tr>\n",
       "      <th>4</th>\n",
       "      <td>2015</td>\n",
       "      <td>630000</td>\n",
       "      <td>135000</td>\n",
       "      <td>5</td>\n",
       "      <td>1</td>\n",
       "      <td>1</td>\n",
       "      <td>1</td>\n",
       "      <td>1</td>\n",
       "      <td>25.10</td>\n",
       "      <td>1498</td>\n",
       "      <td>98.600</td>\n",
       "    </tr>\n",
       "  </tbody>\n",
       "</table>\n",
       "</div>"
      ],
      "text/plain": [
       "   year  selling_price  km_driven  seats  fueltype  sellertype  transtype  \\\n",
       "0  2014         450000     145500      5         1           1          1   \n",
       "1  2019        1149000       5000      5         2           1          1   \n",
       "2  2017         600000      25000      5         2           1          1   \n",
       "3  2016         540000      40000      5         1           1          1   \n",
       "4  2015         630000     135000      5         1           1          1   \n",
       "\n",
       "   ownertype  AvgMileage  EngineCC  MaxPower  \n",
       "0          1       23.40      1248    74.000  \n",
       "1          1       17.00      1591   121.300  \n",
       "2          3       18.16      1196    86.800  \n",
       "3          1       22.00      1498   108.495  \n",
       "4          1       25.10      1498    98.600  "
      ]
     },
     "execution_count": 43,
     "metadata": {},
     "output_type": "execute_result"
    }
   ],
   "source": [
    "car2.head()"
   ]
  },
  {
   "cell_type": "code",
   "execution_count": 44,
   "id": "8d6ec65a",
   "metadata": {},
   "outputs": [
    {
     "data": {
      "text/plain": [
       "<seaborn.axisgrid.PairGrid at 0x2296c883130>"
      ]
     },
     "execution_count": 44,
     "metadata": {},
     "output_type": "execute_result"
    },
    {
     "data": {
      "text/plain": [
       "<Figure size 1440x1800 with 0 Axes>"
      ]
     },
     "metadata": {},
     "output_type": "display_data"
    },
    {
     "data": {
      "image/png": "[encoded data removed]",
      "text/plain": [
       "<Figure size 900x180 with 5 Axes>"
      ]
     },
     "metadata": {},
     "output_type": "display_data"
    }
   ],
   "source": [
    "fig = plt.figure(figsize = (20, 25))\n",
    "\n",
    "sns.pairplot(data=car2,x_vars=['year', 'EngineCC', 'MaxPower', 'sellertype','transtype'],\n",
    "                       y_vars=['selling_price'])"
   ]
  },
  {
   "cell_type": "code",
   "execution_count": 45,
   "id": "edd48b8e",
   "metadata": {},
   "outputs": [
    {
     "data": {
      "text/plain": [
       "[<matplotlib.lines.Line2D at 0x2296cc90d60>]"
      ]
     },
     "execution_count": 45,
     "metadata": {},
     "output_type": "execute_result"
    },
    {
     "data": {
      "image/png": "[encoded data removed]",
      "text/plain": [
       "<Figure size 720x720 with 1 Axes>"
      ]
     },
     "metadata": {},
     "output_type": "display_data"
    }
   ],
   "source": [
    "plt.figure(figsize = (10,10))\n",
    "year= car2.groupby('year')['selling_price'].mean().round()\n",
    "plt.plot(year)"
   ]
  },
  {
   "cell_type": "code",
   "execution_count": 46,
   "id": "680a994f",
   "metadata": {},
   "outputs": [
    {
     "data": {
      "text/plain": [
       "<BarContainer object of 3 artists>"
      ]
     },
     "execution_count": 46,
     "metadata": {},
     "output_type": "execute_result"
    },
    {
     "data": {
      "image/png": "[encoded data removed]",
      "text/plain": [
       "<Figure size 432x432 with 1 Axes>"
      ]
     },
     "metadata": {},
     "output_type": "display_data"
    }
   ],
   "source": [
    "\n",
    "plt.figure(figsize = (6, 6))\n",
    "xval= ['Individual', 'Dealer', 'Trustmark Dealer']\n",
    "sellertype= car2.groupby('sellertype')['selling_price'].mean().round()\n",
    "plt.bar(xval,sellertype)"
   ]
  },
  {
   "cell_type": "code",
   "execution_count": 47,
   "id": "8c7954f4",
   "metadata": {},
   "outputs": [
    {
     "data": {
      "text/plain": [
       "<BarContainer object of 2 artists>"
      ]
     },
     "execution_count": 47,
     "metadata": {},
     "output_type": "execute_result"
    },
    {
     "data": {
      "image/png": "[encoded data removed]",
      "text/plain": [
       "<Figure size 432x432 with 1 Axes>"
      ]
     },
     "metadata": {},
     "output_type": "display_data"
    }
   ],
   "source": [
    "xval= ['Manual', 'Automatic']\n",
    "transmission= car2.groupby('transtype')['selling_price'].mean().round()\n",
    "plt.figure(figsize=(6,6))\n",
    "plt.bar(xval,transmission)"
   ]
  },
  {
   "cell_type": "code",
   "execution_count": 48,
   "id": "73932b55",
   "metadata": {},
   "outputs": [
    {
     "data": {
      "text/plain": [
       "[<matplotlib.lines.Line2D at 0x2296cd58a90>]"
      ]
     },
     "execution_count": 48,
     "metadata": {},
     "output_type": "execute_result"
    },
    {
     "data": {
      "image/png": "[encoded data removed]",
      "text/plain": [
       "<Figure size 432x432 with 1 Axes>"
      ]
     },
     "metadata": {},
     "output_type": "display_data"
    },
    {
     "data": {
      "image/png": "[encoded data removed]",
      "text/plain": [
       "<Figure size 432x432 with 1 Axes>"
      ]
     },
     "metadata": {},
     "output_type": "display_data"
    }
   ],
   "source": [
    "\n",
    "plt.figure(figsize = (6, 6))\n",
    "plt.scatter(car2['EngineCC'],car2['selling_price'])\n",
    "\n",
    "plt.figure(figsize = (6, 6))\n",
    "year= car2.groupby('EngineCC')['selling_price'].mean().round()\n",
    "plt.plot(year)"
   ]
  },
  {
   "cell_type": "code",
   "execution_count": 49,
   "id": "dd49efc1",
   "metadata": {},
   "outputs": [
    {
     "data": {
      "text/plain": [
       "[<matplotlib.lines.Line2D at 0x2296cdb3b80>]"
      ]
     },
     "execution_count": 49,
     "metadata": {},
     "output_type": "execute_result"
    },
    {
     "data": {
      "image/png": "[encoded data removed]",
      "text/plain": [
       "<Figure size 432x432 with 1 Axes>"
      ]
     },
     "metadata": {},
     "output_type": "display_data"
    },
    {
     "data": {
      "image/png": "[encoded data removed]",
      "text/plain": [
       "<Figure size 432x432 with 1 Axes>"
      ]
     },
     "metadata": {},
     "output_type": "display_data"
    }
   ],
   "source": [
    "plt.figure(figsize = (6, 6))\n",
    "plt.scatter(car2['MaxPower'],car2['selling_price'])\n",
    "\n",
    "plt.figure(figsize=(6,6))\n",
    "mp= car2.groupby('MaxPower')['selling_price'].mean().round()\n",
    "plt.plot(mp)"
   ]
  },
  {
   "cell_type": "markdown",
   "id": "9ee1370d",
   "metadata": {},
   "source": [
    "# C)Brands which are Selling Most"
   ]
  },
  {
   "cell_type": "code",
   "execution_count": 50,
   "id": "c180a8e3",
   "metadata": {},
   "outputs": [],
   "source": [
    "car['brand']= car['name'].apply(lambda x : x.split(' '))\n",
    "car['brand']=car['brand'].apply(lambda x: x[0])"
   ]
  },
  {
   "cell_type": "code",
   "execution_count": 51,
   "id": "a6b02fa1",
   "metadata": {},
   "outputs": [
    {
     "data": {
      "text/html": [
       "<div>\n",
       "<style scoped>\n",
       "    .dataframe tbody tr th:only-of-type {\n",
       "        vertical-align: middle;\n",
       "    }\n",
       "\n",
       "    .dataframe tbody tr th {\n",
       "        vertical-align: top;\n",
       "    }\n",
       "\n",
       "    .dataframe thead th {\n",
       "        text-align: right;\n",
       "    }\n",
       "</style>\n",
       "<table border=\"1\" class=\"dataframe\">\n",
       "  <thead>\n",
       "    <tr style=\"text-align: right;\">\n",
       "      <th></th>\n",
       "      <th>Sales_ID</th>\n",
       "      <th>name</th>\n",
       "      <th>year</th>\n",
       "      <th>selling_price</th>\n",
       "      <th>km_driven</th>\n",
       "      <th>State or Province</th>\n",
       "      <th>City</th>\n",
       "      <th>fuel</th>\n",
       "      <th>seller_type</th>\n",
       "      <th>transmission</th>\n",
       "      <th>...</th>\n",
       "      <th>Region</th>\n",
       "      <th>fueltype</th>\n",
       "      <th>sellertype</th>\n",
       "      <th>transtype</th>\n",
       "      <th>ownertype</th>\n",
       "      <th>AvgMileage</th>\n",
       "      <th>EngineCC</th>\n",
       "      <th>MaxPower</th>\n",
       "      <th>sale</th>\n",
       "      <th>brand</th>\n",
       "    </tr>\n",
       "  </thead>\n",
       "  <tbody>\n",
       "    <tr>\n",
       "      <th>0</th>\n",
       "      <td>1</td>\n",
       "      <td>Maruti Swift Dzire VDI</td>\n",
       "      <td>2014</td>\n",
       "      <td>450000</td>\n",
       "      <td>145500</td>\n",
       "      <td>District of Columbia</td>\n",
       "      <td>Washington</td>\n",
       "      <td>Diesel</td>\n",
       "      <td>Individual</td>\n",
       "      <td>Manual</td>\n",
       "      <td>...</td>\n",
       "      <td>East</td>\n",
       "      <td>1</td>\n",
       "      <td>1</td>\n",
       "      <td>1</td>\n",
       "      <td>1</td>\n",
       "      <td>23.40</td>\n",
       "      <td>1248</td>\n",
       "      <td>74.000</td>\n",
       "      <td>1</td>\n",
       "      <td>Maruti</td>\n",
       "    </tr>\n",
       "    <tr>\n",
       "      <th>1</th>\n",
       "      <td>38</td>\n",
       "      <td>Hyundai Verna VTVT 1.6 SX Option</td>\n",
       "      <td>2019</td>\n",
       "      <td>1149000</td>\n",
       "      <td>5000</td>\n",
       "      <td>District of Columbia</td>\n",
       "      <td>Washington</td>\n",
       "      <td>Petrol</td>\n",
       "      <td>Individual</td>\n",
       "      <td>Manual</td>\n",
       "      <td>...</td>\n",
       "      <td>East</td>\n",
       "      <td>2</td>\n",
       "      <td>1</td>\n",
       "      <td>1</td>\n",
       "      <td>1</td>\n",
       "      <td>17.00</td>\n",
       "      <td>1591</td>\n",
       "      <td>121.300</td>\n",
       "      <td>1</td>\n",
       "      <td>Hyundai</td>\n",
       "    </tr>\n",
       "    <tr>\n",
       "      <th>2</th>\n",
       "      <td>66</td>\n",
       "      <td>Ford Figo 1.2P Titanium MT</td>\n",
       "      <td>2017</td>\n",
       "      <td>600000</td>\n",
       "      <td>25000</td>\n",
       "      <td>District of Columbia</td>\n",
       "      <td>Washington</td>\n",
       "      <td>Petrol</td>\n",
       "      <td>Individual</td>\n",
       "      <td>Manual</td>\n",
       "      <td>...</td>\n",
       "      <td>East</td>\n",
       "      <td>2</td>\n",
       "      <td>1</td>\n",
       "      <td>1</td>\n",
       "      <td>3</td>\n",
       "      <td>18.16</td>\n",
       "      <td>1196</td>\n",
       "      <td>86.800</td>\n",
       "      <td>1</td>\n",
       "      <td>Ford</td>\n",
       "    </tr>\n",
       "    <tr>\n",
       "      <th>3</th>\n",
       "      <td>68</td>\n",
       "      <td>Volkswagen Ameo 1.5 TDI Highline 16 Alloy</td>\n",
       "      <td>2016</td>\n",
       "      <td>540000</td>\n",
       "      <td>40000</td>\n",
       "      <td>District of Columbia</td>\n",
       "      <td>Washington</td>\n",
       "      <td>Diesel</td>\n",
       "      <td>Individual</td>\n",
       "      <td>Manual</td>\n",
       "      <td>...</td>\n",
       "      <td>East</td>\n",
       "      <td>1</td>\n",
       "      <td>1</td>\n",
       "      <td>1</td>\n",
       "      <td>1</td>\n",
       "      <td>22.00</td>\n",
       "      <td>1498</td>\n",
       "      <td>108.495</td>\n",
       "      <td>1</td>\n",
       "      <td>Volkswagen</td>\n",
       "    </tr>\n",
       "    <tr>\n",
       "      <th>4</th>\n",
       "      <td>69</td>\n",
       "      <td>Honda City i DTEC VX</td>\n",
       "      <td>2015</td>\n",
       "      <td>630000</td>\n",
       "      <td>135000</td>\n",
       "      <td>District of Columbia</td>\n",
       "      <td>Washington</td>\n",
       "      <td>Diesel</td>\n",
       "      <td>Individual</td>\n",
       "      <td>Manual</td>\n",
       "      <td>...</td>\n",
       "      <td>East</td>\n",
       "      <td>1</td>\n",
       "      <td>1</td>\n",
       "      <td>1</td>\n",
       "      <td>1</td>\n",
       "      <td>25.10</td>\n",
       "      <td>1498</td>\n",
       "      <td>98.600</td>\n",
       "      <td>1</td>\n",
       "      <td>Honda</td>\n",
       "    </tr>\n",
       "  </tbody>\n",
       "</table>\n",
       "<p>5 rows × 26 columns</p>\n",
       "</div>"
      ],
      "text/plain": [
       "   Sales_ID                                       name  year  selling_price  \\\n",
       "0         1                     Maruti Swift Dzire VDI  2014         450000   \n",
       "1        38           Hyundai Verna VTVT 1.6 SX Option  2019        1149000   \n",
       "2        66                 Ford Figo 1.2P Titanium MT  2017         600000   \n",
       "3        68  Volkswagen Ameo 1.5 TDI Highline 16 Alloy  2016         540000   \n",
       "4        69                       Honda City i DTEC VX  2015         630000   \n",
       "\n",
       "   km_driven     State or Province        City    fuel seller_type  \\\n",
       "0     145500  District of Columbia  Washington  Diesel  Individual   \n",
       "1       5000  District of Columbia  Washington  Petrol  Individual   \n",
       "2      25000  District of Columbia  Washington  Petrol  Individual   \n",
       "3      40000  District of Columbia  Washington  Diesel  Individual   \n",
       "4     135000  District of Columbia  Washington  Diesel  Individual   \n",
       "\n",
       "  transmission  ... Region fueltype sellertype transtype  ownertype  \\\n",
       "0       Manual  ...   East        1          1         1          1   \n",
       "1       Manual  ...   East        2          1         1          1   \n",
       "2       Manual  ...   East        2          1         1          3   \n",
       "3       Manual  ...   East        1          1         1          1   \n",
       "4       Manual  ...   East        1          1         1          1   \n",
       "\n",
       "  AvgMileage EngineCC  MaxPower  sale       brand  \n",
       "0      23.40     1248    74.000     1      Maruti  \n",
       "1      17.00     1591   121.300     1     Hyundai  \n",
       "2      18.16     1196    86.800     1        Ford  \n",
       "3      22.00     1498   108.495     1  Volkswagen  \n",
       "4      25.10     1498    98.600     1       Honda  \n",
       "\n",
       "[5 rows x 26 columns]"
      ]
     },
     "execution_count": 51,
     "metadata": {},
     "output_type": "execute_result"
    }
   ],
   "source": [
    "car.head()"
   ]
  },
  {
   "cell_type": "code",
   "execution_count": 52,
   "id": "f85ebec8",
   "metadata": {},
   "outputs": [],
   "source": [
    "b=car.query('sale==1').groupby('brand').agg({'sale':np.sum})\n",
    "b['percent']=100*b['sale']/b['sale'].sum()"
   ]
  },
  {
   "cell_type": "code",
   "execution_count": 53,
   "id": "0fd0e1d9",
   "metadata": {},
   "outputs": [
    {
     "data": {
      "text/html": [
       "<div>\n",
       "<style scoped>\n",
       "    .dataframe tbody tr th:only-of-type {\n",
       "        vertical-align: middle;\n",
       "    }\n",
       "\n",
       "    .dataframe tbody tr th {\n",
       "        vertical-align: top;\n",
       "    }\n",
       "\n",
       "    .dataframe thead th {\n",
       "        text-align: right;\n",
       "    }\n",
       "</style>\n",
       "<table border=\"1\" class=\"dataframe\">\n",
       "  <thead>\n",
       "    <tr style=\"text-align: right;\">\n",
       "      <th></th>\n",
       "      <th>sale</th>\n",
       "      <th>percent</th>\n",
       "    </tr>\n",
       "    <tr>\n",
       "      <th>brand</th>\n",
       "      <th></th>\n",
       "      <th></th>\n",
       "    </tr>\n",
       "  </thead>\n",
       "  <tbody>\n",
       "    <tr>\n",
       "      <th>Maruti</th>\n",
       "      <td>597</td>\n",
       "      <td>29.85</td>\n",
       "    </tr>\n",
       "    <tr>\n",
       "      <th>Hyundai</th>\n",
       "      <td>332</td>\n",
       "      <td>16.60</td>\n",
       "    </tr>\n",
       "    <tr>\n",
       "      <th>Mahindra</th>\n",
       "      <td>201</td>\n",
       "      <td>10.05</td>\n",
       "    </tr>\n",
       "    <tr>\n",
       "      <th>Tata</th>\n",
       "      <td>178</td>\n",
       "      <td>8.90</td>\n",
       "    </tr>\n",
       "    <tr>\n",
       "      <th>Toyota</th>\n",
       "      <td>126</td>\n",
       "      <td>6.30</td>\n",
       "    </tr>\n",
       "    <tr>\n",
       "      <th>Honda</th>\n",
       "      <td>124</td>\n",
       "      <td>6.20</td>\n",
       "    </tr>\n",
       "    <tr>\n",
       "      <th>Ford</th>\n",
       "      <td>92</td>\n",
       "      <td>4.60</td>\n",
       "    </tr>\n",
       "    <tr>\n",
       "      <th>Chevrolet</th>\n",
       "      <td>56</td>\n",
       "      <td>2.80</td>\n",
       "    </tr>\n",
       "    <tr>\n",
       "      <th>Renault</th>\n",
       "      <td>56</td>\n",
       "      <td>2.80</td>\n",
       "    </tr>\n",
       "    <tr>\n",
       "      <th>Volkswagen</th>\n",
       "      <td>39</td>\n",
       "      <td>1.95</td>\n",
       "    </tr>\n",
       "    <tr>\n",
       "      <th>Nissan</th>\n",
       "      <td>33</td>\n",
       "      <td>1.65</td>\n",
       "    </tr>\n",
       "    <tr>\n",
       "      <th>BMW</th>\n",
       "      <td>29</td>\n",
       "      <td>1.45</td>\n",
       "    </tr>\n",
       "    <tr>\n",
       "      <th>Jaguar</th>\n",
       "      <td>21</td>\n",
       "      <td>1.05</td>\n",
       "    </tr>\n",
       "    <tr>\n",
       "      <th>Skoda</th>\n",
       "      <td>20</td>\n",
       "      <td>1.00</td>\n",
       "    </tr>\n",
       "    <tr>\n",
       "      <th>Volvo</th>\n",
       "      <td>19</td>\n",
       "      <td>0.95</td>\n",
       "    </tr>\n",
       "    <tr>\n",
       "      <th>Datsun</th>\n",
       "      <td>16</td>\n",
       "      <td>0.80</td>\n",
       "    </tr>\n",
       "    <tr>\n",
       "      <th>Mercedes-Benz</th>\n",
       "      <td>16</td>\n",
       "      <td>0.80</td>\n",
       "    </tr>\n",
       "    <tr>\n",
       "      <th>Lexus</th>\n",
       "      <td>11</td>\n",
       "      <td>0.55</td>\n",
       "    </tr>\n",
       "    <tr>\n",
       "      <th>Audi</th>\n",
       "      <td>9</td>\n",
       "      <td>0.45</td>\n",
       "    </tr>\n",
       "    <tr>\n",
       "      <th>Jeep</th>\n",
       "      <td>9</td>\n",
       "      <td>0.45</td>\n",
       "    </tr>\n",
       "    <tr>\n",
       "      <th>Fiat</th>\n",
       "      <td>6</td>\n",
       "      <td>0.30</td>\n",
       "    </tr>\n",
       "    <tr>\n",
       "      <th>Mitsubishi</th>\n",
       "      <td>3</td>\n",
       "      <td>0.15</td>\n",
       "    </tr>\n",
       "    <tr>\n",
       "      <th>MG</th>\n",
       "      <td>2</td>\n",
       "      <td>0.10</td>\n",
       "    </tr>\n",
       "    <tr>\n",
       "      <th>Kia</th>\n",
       "      <td>2</td>\n",
       "      <td>0.10</td>\n",
       "    </tr>\n",
       "    <tr>\n",
       "      <th>Force</th>\n",
       "      <td>1</td>\n",
       "      <td>0.05</td>\n",
       "    </tr>\n",
       "    <tr>\n",
       "      <th>Daewoo</th>\n",
       "      <td>1</td>\n",
       "      <td>0.05</td>\n",
       "    </tr>\n",
       "    <tr>\n",
       "      <th>Land</th>\n",
       "      <td>1</td>\n",
       "      <td>0.05</td>\n",
       "    </tr>\n",
       "  </tbody>\n",
       "</table>\n",
       "</div>"
      ],
      "text/plain": [
       "               sale  percent\n",
       "brand                       \n",
       "Maruti          597    29.85\n",
       "Hyundai         332    16.60\n",
       "Mahindra        201    10.05\n",
       "Tata            178     8.90\n",
       "Toyota          126     6.30\n",
       "Honda           124     6.20\n",
       "Ford             92     4.60\n",
       "Chevrolet        56     2.80\n",
       "Renault          56     2.80\n",
       "Volkswagen       39     1.95\n",
       "Nissan           33     1.65\n",
       "BMW              29     1.45\n",
       "Jaguar           21     1.05\n",
       "Skoda            20     1.00\n",
       "Volvo            19     0.95\n",
       "Datsun           16     0.80\n",
       "Mercedes-Benz    16     0.80\n",
       "Lexus            11     0.55\n",
       "Audi              9     0.45\n",
       "Jeep              9     0.45\n",
       "Fiat              6     0.30\n",
       "Mitsubishi        3     0.15\n",
       "MG                2     0.10\n",
       "Kia               2     0.10\n",
       "Force             1     0.05\n",
       "Daewoo            1     0.05\n",
       "Land              1     0.05"
      ]
     },
     "execution_count": 53,
     "metadata": {},
     "output_type": "execute_result"
    }
   ],
   "source": [
    "b.sort_values('percent',ascending=False)"
   ]
  },
  {
   "cell_type": "code",
   "execution_count": 54,
   "id": "e08e55cb",
   "metadata": {},
   "outputs": [],
   "source": [
    "car3=car.copy()"
   ]
  },
  {
   "cell_type": "code",
   "execution_count": 55,
   "id": "b71bd39e",
   "metadata": {},
   "outputs": [
    {
     "data": {
      "text/plain": [
       "(7906, 26)"
      ]
     },
     "execution_count": 55,
     "metadata": {},
     "output_type": "execute_result"
    }
   ],
   "source": [
    "car3.shape"
   ]
  },
  {
   "cell_type": "code",
   "execution_count": 56,
   "id": "4cddaeb9",
   "metadata": {},
   "outputs": [],
   "source": [
    "car3.drop(car3[car3['sale']==0].index,inplace=True)"
   ]
  },
  {
   "cell_type": "code",
   "execution_count": 57,
   "id": "38b36645",
   "metadata": {},
   "outputs": [
    {
     "data": {
      "text/plain": [
       "(2000, 26)"
      ]
     },
     "execution_count": 57,
     "metadata": {},
     "output_type": "execute_result"
    }
   ],
   "source": [
    "car3.shape"
   ]
  },
  {
   "cell_type": "code",
   "execution_count": 58,
   "id": "ba1260ad",
   "metadata": {},
   "outputs": [
    {
     "data": {
      "text/plain": [
       "array([1], dtype=int64)"
      ]
     },
     "execution_count": 58,
     "metadata": {},
     "output_type": "execute_result"
    }
   ],
   "source": [
    "car3['sale'].unique()"
   ]
  },
  {
   "cell_type": "code",
   "execution_count": 59,
   "id": "5a9bf9f3",
   "metadata": {},
   "outputs": [],
   "source": [
    "brand=car3['brand'].unique()"
   ]
  },
  {
   "cell_type": "code",
   "execution_count": 60,
   "id": "a580310b",
   "metadata": {},
   "outputs": [
    {
     "data": {
      "text/plain": [
       "Maruti           597\n",
       "Hyundai          332\n",
       "Mahindra         201\n",
       "Tata             178\n",
       "Toyota           126\n",
       "Honda            124\n",
       "Ford              92\n",
       "Renault           56\n",
       "Chevrolet         56\n",
       "Volkswagen        39\n",
       "Nissan            33\n",
       "BMW               29\n",
       "Jaguar            21\n",
       "Skoda             20\n",
       "Volvo             19\n",
       "Datsun            16\n",
       "Mercedes-Benz     16\n",
       "Lexus             11\n",
       "Audi               9\n",
       "Jeep               9\n",
       "Fiat               6\n",
       "Mitsubishi         3\n",
       "MG                 2\n",
       "Kia                2\n",
       "Land               1\n",
       "Force              1\n",
       "Daewoo             1\n",
       "Name: brand, dtype: int64"
      ]
     },
     "execution_count": 60,
     "metadata": {},
     "output_type": "execute_result"
    }
   ],
   "source": [
    "car3['brand'].value_counts()"
   ]
  },
  {
   "cell_type": "code",
   "execution_count": 61,
   "id": "055da543",
   "metadata": {},
   "outputs": [
    {
     "data": {
      "text/plain": [
       "<BarContainer object of 27 artists>"
      ]
     },
     "execution_count": 61,
     "metadata": {},
     "output_type": "execute_result"
    },
    {
     "data": {
      "image/png": "[encoded data removed]",
      "text/plain": [
       "<Figure size 5040x2160 with 1 Axes>"
      ]
     },
     "metadata": {},
     "output_type": "display_data"
    }
   ],
   "source": [
    "plt.figure(figsize = (70, 30))\n",
    "plt.bar(brand,car3['brand'].value_counts())"
   ]
  },
  {
   "cell_type": "markdown",
   "id": "2d624fd2",
   "metadata": {},
   "source": [
    "# D)To find In Which Locations Car Sales are high"
   ]
  },
  {
   "cell_type": "code",
   "execution_count": 62,
   "id": "166ae268",
   "metadata": {},
   "outputs": [],
   "source": [
    "s=car.query('sale==1').groupby('State or Province').agg({'sale':np.sum})\n",
    "s['percent']=100*s['sale']/s['sale'].sum()"
   ]
  },
  {
   "cell_type": "code",
   "execution_count": 63,
   "id": "4cfcb8c8",
   "metadata": {},
   "outputs": [
    {
     "data": {
      "text/html": [
       "<div>\n",
       "<style scoped>\n",
       "    .dataframe tbody tr th:only-of-type {\n",
       "        vertical-align: middle;\n",
       "    }\n",
       "\n",
       "    .dataframe tbody tr th {\n",
       "        vertical-align: top;\n",
       "    }\n",
       "\n",
       "    .dataframe thead th {\n",
       "        text-align: right;\n",
       "    }\n",
       "</style>\n",
       "<table border=\"1\" class=\"dataframe\">\n",
       "  <thead>\n",
       "    <tr style=\"text-align: right;\">\n",
       "      <th></th>\n",
       "      <th>sale</th>\n",
       "      <th>percent</th>\n",
       "    </tr>\n",
       "    <tr>\n",
       "      <th>State or Province</th>\n",
       "      <th></th>\n",
       "      <th></th>\n",
       "    </tr>\n",
       "  </thead>\n",
       "  <tbody>\n",
       "    <tr>\n",
       "      <th>New York</th>\n",
       "      <td>293</td>\n",
       "      <td>14.65</td>\n",
       "    </tr>\n",
       "    <tr>\n",
       "      <th>California</th>\n",
       "      <td>274</td>\n",
       "      <td>13.70</td>\n",
       "    </tr>\n",
       "    <tr>\n",
       "      <th>Illinois</th>\n",
       "      <td>148</td>\n",
       "      <td>7.40</td>\n",
       "    </tr>\n",
       "    <tr>\n",
       "      <th>Texas</th>\n",
       "      <td>138</td>\n",
       "      <td>6.90</td>\n",
       "    </tr>\n",
       "    <tr>\n",
       "      <th>Washington</th>\n",
       "      <td>120</td>\n",
       "      <td>6.00</td>\n",
       "    </tr>\n",
       "    <tr>\n",
       "      <th>Florida</th>\n",
       "      <td>118</td>\n",
       "      <td>5.90</td>\n",
       "    </tr>\n",
       "    <tr>\n",
       "      <th>Pennsylvania</th>\n",
       "      <td>80</td>\n",
       "      <td>4.00</td>\n",
       "    </tr>\n",
       "    <tr>\n",
       "      <th>Massachusetts</th>\n",
       "      <td>76</td>\n",
       "      <td>3.80</td>\n",
       "    </tr>\n",
       "    <tr>\n",
       "      <th>North Carolina</th>\n",
       "      <td>75</td>\n",
       "      <td>3.75</td>\n",
       "    </tr>\n",
       "    <tr>\n",
       "      <th>Michigan</th>\n",
       "      <td>71</td>\n",
       "      <td>3.55</td>\n",
       "    </tr>\n",
       "    <tr>\n",
       "      <th>District of Columbia</th>\n",
       "      <td>68</td>\n",
       "      <td>3.40</td>\n",
       "    </tr>\n",
       "    <tr>\n",
       "      <th>Georgia</th>\n",
       "      <td>62</td>\n",
       "      <td>3.10</td>\n",
       "    </tr>\n",
       "    <tr>\n",
       "      <th>Indiana</th>\n",
       "      <td>45</td>\n",
       "      <td>2.25</td>\n",
       "    </tr>\n",
       "    <tr>\n",
       "      <th>Ohio</th>\n",
       "      <td>40</td>\n",
       "      <td>2.00</td>\n",
       "    </tr>\n",
       "    <tr>\n",
       "      <th>Oregon</th>\n",
       "      <td>30</td>\n",
       "      <td>1.50</td>\n",
       "    </tr>\n",
       "    <tr>\n",
       "      <th>Iowa</th>\n",
       "      <td>30</td>\n",
       "      <td>1.50</td>\n",
       "    </tr>\n",
       "    <tr>\n",
       "      <th>Tennessee</th>\n",
       "      <td>29</td>\n",
       "      <td>1.45</td>\n",
       "    </tr>\n",
       "    <tr>\n",
       "      <th>Maryland</th>\n",
       "      <td>28</td>\n",
       "      <td>1.40</td>\n",
       "    </tr>\n",
       "    <tr>\n",
       "      <th>Oklahoma</th>\n",
       "      <td>27</td>\n",
       "      <td>1.35</td>\n",
       "    </tr>\n",
       "    <tr>\n",
       "      <th>Arkansas</th>\n",
       "      <td>27</td>\n",
       "      <td>1.35</td>\n",
       "    </tr>\n",
       "    <tr>\n",
       "      <th>Kansas</th>\n",
       "      <td>26</td>\n",
       "      <td>1.30</td>\n",
       "    </tr>\n",
       "    <tr>\n",
       "      <th>Wisconsin</th>\n",
       "      <td>25</td>\n",
       "      <td>1.25</td>\n",
       "    </tr>\n",
       "    <tr>\n",
       "      <th>Minnesota</th>\n",
       "      <td>25</td>\n",
       "      <td>1.25</td>\n",
       "    </tr>\n",
       "    <tr>\n",
       "      <th>Utah</th>\n",
       "      <td>20</td>\n",
       "      <td>1.00</td>\n",
       "    </tr>\n",
       "    <tr>\n",
       "      <th>New Jersey</th>\n",
       "      <td>15</td>\n",
       "      <td>0.75</td>\n",
       "    </tr>\n",
       "    <tr>\n",
       "      <th>Idaho</th>\n",
       "      <td>15</td>\n",
       "      <td>0.75</td>\n",
       "    </tr>\n",
       "    <tr>\n",
       "      <th>Maine</th>\n",
       "      <td>14</td>\n",
       "      <td>0.70</td>\n",
       "    </tr>\n",
       "    <tr>\n",
       "      <th>Arizona</th>\n",
       "      <td>12</td>\n",
       "      <td>0.60</td>\n",
       "    </tr>\n",
       "    <tr>\n",
       "      <th>Kentucky</th>\n",
       "      <td>12</td>\n",
       "      <td>0.60</td>\n",
       "    </tr>\n",
       "    <tr>\n",
       "      <th>Alabama</th>\n",
       "      <td>11</td>\n",
       "      <td>0.55</td>\n",
       "    </tr>\n",
       "    <tr>\n",
       "      <th>Colorado</th>\n",
       "      <td>8</td>\n",
       "      <td>0.40</td>\n",
       "    </tr>\n",
       "    <tr>\n",
       "      <th>Montana</th>\n",
       "      <td>5</td>\n",
       "      <td>0.25</td>\n",
       "    </tr>\n",
       "    <tr>\n",
       "      <th>Virginia</th>\n",
       "      <td>5</td>\n",
       "      <td>0.25</td>\n",
       "    </tr>\n",
       "    <tr>\n",
       "      <th>New Hampshire</th>\n",
       "      <td>4</td>\n",
       "      <td>0.20</td>\n",
       "    </tr>\n",
       "    <tr>\n",
       "      <th>South Carolina</th>\n",
       "      <td>4</td>\n",
       "      <td>0.20</td>\n",
       "    </tr>\n",
       "    <tr>\n",
       "      <th>Connecticut</th>\n",
       "      <td>4</td>\n",
       "      <td>0.20</td>\n",
       "    </tr>\n",
       "    <tr>\n",
       "      <th>Vermont</th>\n",
       "      <td>4</td>\n",
       "      <td>0.20</td>\n",
       "    </tr>\n",
       "    <tr>\n",
       "      <th>West Virginia</th>\n",
       "      <td>4</td>\n",
       "      <td>0.20</td>\n",
       "    </tr>\n",
       "    <tr>\n",
       "      <th>New Mexico</th>\n",
       "      <td>3</td>\n",
       "      <td>0.15</td>\n",
       "    </tr>\n",
       "    <tr>\n",
       "      <th>Missouri</th>\n",
       "      <td>3</td>\n",
       "      <td>0.15</td>\n",
       "    </tr>\n",
       "    <tr>\n",
       "      <th>Nebraska</th>\n",
       "      <td>2</td>\n",
       "      <td>0.10</td>\n",
       "    </tr>\n",
       "  </tbody>\n",
       "</table>\n",
       "</div>"
      ],
      "text/plain": [
       "                      sale  percent\n",
       "State or Province                  \n",
       "New York               293    14.65\n",
       "California             274    13.70\n",
       "Illinois               148     7.40\n",
       "Texas                  138     6.90\n",
       "Washington             120     6.00\n",
       "Florida                118     5.90\n",
       "Pennsylvania            80     4.00\n",
       "Massachusetts           76     3.80\n",
       "North Carolina          75     3.75\n",
       "Michigan                71     3.55\n",
       "District of Columbia    68     3.40\n",
       "Georgia                 62     3.10\n",
       "Indiana                 45     2.25\n",
       "Ohio                    40     2.00\n",
       "Oregon                  30     1.50\n",
       "Iowa                    30     1.50\n",
       "Tennessee               29     1.45\n",
       "Maryland                28     1.40\n",
       "Oklahoma                27     1.35\n",
       "Arkansas                27     1.35\n",
       "Kansas                  26     1.30\n",
       "Wisconsin               25     1.25\n",
       "Minnesota               25     1.25\n",
       "Utah                    20     1.00\n",
       "New Jersey              15     0.75\n",
       "Idaho                   15     0.75\n",
       "Maine                   14     0.70\n",
       "Arizona                 12     0.60\n",
       "Kentucky                12     0.60\n",
       "Alabama                 11     0.55\n",
       "Colorado                 8     0.40\n",
       "Montana                  5     0.25\n",
       "Virginia                 5     0.25\n",
       "New Hampshire            4     0.20\n",
       "South Carolina           4     0.20\n",
       "Connecticut              4     0.20\n",
       "Vermont                  4     0.20\n",
       "West Virginia            4     0.20\n",
       "New Mexico               3     0.15\n",
       "Missouri                 3     0.15\n",
       "Nebraska                 2     0.10"
      ]
     },
     "execution_count": 63,
     "metadata": {},
     "output_type": "execute_result"
    }
   ],
   "source": [
    "s.sort_values('percent',ascending=False)"
   ]
  },
  {
   "cell_type": "code",
   "execution_count": 64,
   "id": "741e3de0",
   "metadata": {},
   "outputs": [],
   "source": [
    "location=car3['State or Province'].unique()"
   ]
  },
  {
   "cell_type": "code",
   "execution_count": 65,
   "id": "06658e1e",
   "metadata": {},
   "outputs": [
    {
     "data": {
      "text/plain": [
       "New York                293\n",
       "California              274\n",
       "Illinois                148\n",
       "Texas                   138\n",
       "Washington              120\n",
       "Florida                 118\n",
       "Pennsylvania             80\n",
       "Massachusetts            76\n",
       "North Carolina           75\n",
       "Michigan                 71\n",
       "District of Columbia     68\n",
       "Georgia                  62\n",
       "Indiana                  45\n",
       "Ohio                     40\n",
       "Oregon                   30\n",
       "Iowa                     30\n",
       "Tennessee                29\n",
       "Maryland                 28\n",
       "Arkansas                 27\n",
       "Oklahoma                 27\n",
       "Kansas                   26\n",
       "Minnesota                25\n",
       "Wisconsin                25\n",
       "Utah                     20\n",
       "New Jersey               15\n",
       "Idaho                    15\n",
       "Maine                    14\n",
       "Kentucky                 12\n",
       "Arizona                  12\n",
       "Alabama                  11\n",
       "Colorado                  8\n",
       "Montana                   5\n",
       "Virginia                  5\n",
       "South Carolina            4\n",
       "New Hampshire             4\n",
       "Vermont                   4\n",
       "Connecticut               4\n",
       "West Virginia             4\n",
       "Missouri                  3\n",
       "New Mexico                3\n",
       "Nebraska                  2\n",
       "Name: State or Province, dtype: int64"
      ]
     },
     "execution_count": 65,
     "metadata": {},
     "output_type": "execute_result"
    }
   ],
   "source": [
    "car3['State or Province'].value_counts()"
   ]
  },
  {
   "cell_type": "code",
   "execution_count": 66,
   "id": "cac93562",
   "metadata": {},
   "outputs": [
    {
     "data": {
      "text/plain": [
       "<BarContainer object of 41 artists>"
      ]
     },
     "execution_count": 66,
     "metadata": {},
     "output_type": "execute_result"
    },
    {
     "data": {
      "image/png": "[encoded data removed]",
      "text/plain": [
       "<Figure size 5040x1440 with 1 Axes>"
      ]
     },
     "metadata": {},
     "output_type": "display_data"
    }
   ],
   "source": [
    "plt.figure(figsize = (70,20))\n",
    "plt.bar(location,car3['State or Province'].value_counts())"
   ]
  },
  {
   "cell_type": "markdown",
   "id": "c3dd9322",
   "metadata": {},
   "source": [
    "# E)Most Important Features in Deciding Price of Car"
   ]
  },
  {
   "cell_type": "code",
   "execution_count": 67,
   "id": "11e8aa0b",
   "metadata": {},
   "outputs": [
    {
     "data": {
      "text/plain": [
       "Index(['year', 'selling_price', 'km_driven', 'seats', 'fueltype', 'sellertype',\n",
       "       'transtype', 'ownertype', 'AvgMileage', 'EngineCC', 'MaxPower'],\n",
       "      dtype='object')"
      ]
     },
     "execution_count": 67,
     "metadata": {},
     "output_type": "execute_result"
    }
   ],
   "source": [
    "car2.columns"
   ]
  },
  {
   "cell_type": "code",
   "execution_count": 68,
   "id": "1667d6e6",
   "metadata": {},
   "outputs": [],
   "source": [
    "xvar= ['year', 'km_driven', 'seats', 'fueltype',\n",
    "       'sellertype', 'transtype', 'AvgMileage', 'EngineCC',\n",
    "       'MaxPower']"
   ]
  },
  {
   "cell_type": "code",
   "execution_count": 69,
   "id": "2dcc8bd6",
   "metadata": {},
   "outputs": [
    {
     "data": {
      "text/plain": [
       "<seaborn.axisgrid.PairGrid at 0x2296ccfd550>"
      ]
     },
     "execution_count": 69,
     "metadata": {},
     "output_type": "execute_result"
    },
    {
     "data": {
      "image/png": "[encoded data removed]",
      "text/plain": [
       "<Figure size 1620x180 with 9 Axes>"
      ]
     },
     "metadata": {},
     "output_type": "display_data"
    }
   ],
   "source": [
    "sns.pairplot(data=car2,x_vars=xvar,y_vars=['selling_price'])"
   ]
  },
  {
   "cell_type": "markdown",
   "id": "f37fb760",
   "metadata": {},
   "source": [
    "Most impoertant features are year, seller type, Transmission type, Engine Capacity and Max power"
   ]
  }
 ],
 "metadata": {
  "kernelspec": {
   "display_name": "Python 3",
   "language": "python",
   "name": "python3"
  },
  "language_info": {
   "codemirror_mode": {
    "name": "ipython",
    "version": 3
   },
   "file_extension": ".py",
   "mimetype": "text/x-python",
   "name": "python",
   "nbconvert_exporter": "python",
   "pygments_lexer": "ipython3",
   "version": "3.8.8"
  }
 },
 "nbformat": 4,
 "nbformat_minor": 5
}
