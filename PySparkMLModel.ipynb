{
 "cells": [
  {
   "cell_type": "code",
   "execution_count": 1,
   "id": "745698bf",
   "metadata": {},
   "outputs": [
    {
     "name": "stdout",
     "output_type": "stream",
     "text": [
      "Requirement already satisfied: pyspark in c:\\users\\psarana\\anaconda3\\lib\\site-packages (3.2.0)\n",
      "Requirement already satisfied: py4j==0.10.9.2 in c:\\users\\psarana\\anaconda3\\lib\\site-packages (from pyspark) (0.10.9.2)\n"
     ]
    }
   ],
   "source": [
    "!pip install pyspark"
   ]
  },
  {
   "cell_type": "code",
   "execution_count": 2,
   "id": "eb5ecd79",
   "metadata": {},
   "outputs": [],
   "source": [
    "import pyspark"
   ]
  },
  {
   "cell_type": "code",
   "execution_count": 3,
   "id": "3fae5863",
   "metadata": {},
   "outputs": [],
   "source": [
    "from pyspark.sql import SparkSession"
   ]
  },
  {
   "cell_type": "code",
   "execution_count": 4,
   "id": "910793cf",
   "metadata": {},
   "outputs": [],
   "source": [
    "spark=SparkSession.builder.appName('Practise').getOrCreate()"
   ]
  },
  {
   "cell_type": "code",
   "execution_count": 5,
   "id": "3de3d612",
   "metadata": {},
   "outputs": [
    {
     "data": {
      "text/html": [
       "\n",
       "            <div>\n",
       "                <p><b>SparkSession - in-memory</b></p>\n",
       "                \n",
       "        <div>\n",
       "            <p><b>SparkContext</b></p>\n",
       "\n",
       "            <p><a href=\"http://USHYDPSARANA2.us.deloitte.com:4040\">Spark UI</a></p>\n",
       "\n",
       "            <dl>\n",
       "              <dt>Version</dt>\n",
       "                <dd><code>v3.2.0</code></dd>\n",
       "              <dt>Master</dt>\n",
       "                <dd><code>local[*]</code></dd>\n",
       "              <dt>AppName</dt>\n",
       "                <dd><code>Practise</code></dd>\n",
       "            </dl>\n",
       "        </div>\n",
       "        \n",
       "            </div>\n",
       "        "
      ],
      "text/plain": [
       "<pyspark.sql.session.SparkSession at 0x2747c95ae50>"
      ]
     },
     "execution_count": 5,
     "metadata": {},
     "output_type": "execute_result"
    }
   ],
   "source": [
    "spark"
   ]
  },
  {
   "cell_type": "markdown",
   "id": "42d36c9d",
   "metadata": {},
   "source": [
    "# Reading car data"
   ]
  },
  {
   "cell_type": "code",
   "execution_count": 6,
   "id": "030e9a0a",
   "metadata": {},
   "outputs": [],
   "source": [
    "df=spark.read.csv('Car_sales_details_p3.csv',header=True,inferSchema=True)"
   ]
  },
  {
   "cell_type": "code",
   "execution_count": 7,
   "id": "3d6b3daa",
   "metadata": {},
   "outputs": [
    {
     "name": "stdout",
     "output_type": "stream",
     "text": [
      "+--------+--------------------+----+-------------+---------+--------------------+-------------+------+-----------+------------+------------+----------+-------+----------+-----+\n",
      "|Sales_ID|                name|year|selling_price|km_driven|   State or Province|         City|  fuel|seller_type|transmission|       owner|   mileage| engine| max_power|seats|\n",
      "+--------+--------------------+----+-------------+---------+--------------------+-------------+------+-----------+------------+------------+----------+-------+----------+-----+\n",
      "|       1|Maruti Swift Dzir...|2014|       450000|   145500|District of Columbia|   Washington|Diesel| Individual|      Manual| First Owner| 23.4 kmpl|1248 CC|    74 bhp|    5|\n",
      "|       2|Skoda Rapid 1.5 T...|2014|       370000|   120000|            New York|New York City|Diesel| Individual|      Manual|Second Owner|21.14 kmpl|1498 CC|103.52 bhp|    5|\n",
      "|       3|Honda City 2017-2...|2006|       158000|   140000|            Illinois|      Chicago|Petrol| Individual|      Manual| Third Owner| 17.7 kmpl|1497 CC|    78 bhp|    5|\n",
      "|       4|Hyundai i20 Sport...|2010|       225000|   127000|            Illinois|      Chicago|Diesel| Individual|      Manual| First Owner| 23.0 kmpl|1396 CC|    90 bhp|    5|\n",
      "|       5|Maruti Swift VXI ...|2007|       130000|   120000|            New York|New York City|Petrol| Individual|      Manual| First Owner| 16.1 kmpl|1298 CC|  88.2 bhp|    5|\n",
      "|       6|Hyundai Xcent 1.2...|2017|       440000|    45000|            New York|New York City|Petrol| Individual|      Manual| First Owner|20.14 kmpl|1197 CC| 81.86 bhp|    5|\n",
      "|       7|Maruti Wagon R LX...|2007|        96000|   175000|          California|  Los Angeles|   LPG| Individual|      Manual| First Owner|17.3 km/kg|1061 CC|  57.5 bhp|    5|\n",
      "|       8|  Maruti 800 DX BSII|2001|        45000|     5000|          California|  Los Angeles|Petrol| Individual|      Manual|Second Owner| 16.1 kmpl| 796 CC|    37 bhp|    4|\n",
      "|       9|    Toyota Etios VXD|2011|       350000|    90000|          California|  Los Angeles|Diesel| Individual|      Manual| First Owner|23.59 kmpl|1364 CC|  67.1 bhp|    5|\n",
      "|      10|Ford Figo Diesel ...|2013|       200000|   169000|               Texas|      Houston|Diesel| Individual|      Manual| First Owner| 20.0 kmpl|1399 CC|  68.1 bhp|    5|\n",
      "|      11|Renault Duster 11...|2014|       500000|    68000|            New York|New York City|Diesel| Individual|      Manual|Second Owner|19.01 kmpl|1461 CC|108.45 bhp|    5|\n",
      "|      12|       Maruti Zen LX|2005|        92000|   100000|               Texas|      Houston|Petrol| Individual|      Manual|Second Owner| 17.3 kmpl| 993 CC|    60 bhp|    5|\n",
      "|      13|Maruti Swift Dzir...|2009|       280000|   140000|               Texas|      Houston|Diesel| Individual|      Manual|Second Owner| 19.3 kmpl|1248 CC|  73.9 bhp|    5|\n",
      "|      15|Maruti Wagon R LX...|2009|       180000|    90000|       Massachusetts|       Boston|Petrol| Individual|      Manual|Second Owner| 18.9 kmpl|1061 CC|    67 bhp|    5|\n",
      "|      16|Mahindra KUV 100 ...|2016|       400000|    40000|       Massachusetts|       Boston|Petrol| Individual|      Manual| First Owner|18.15 kmpl|1198 CC|    82 bhp|    5|\n",
      "|      17|Maruti Ertiga SHV...|2016|       778000|    70000|               Texas|       Dallas|Diesel| Individual|      Manual|Second Owner|24.52 kmpl|1248 CC|  88.5 bhp|    7|\n",
      "|      18|Hyundai i20 1.4 C...|2012|       500000|    53000|               Texas|       Dallas|Diesel| Individual|      Manual|Second Owner| 23.0 kmpl|1396 CC|    90 bhp|    5|\n",
      "|      19|      Maruti Alto LX|2002|       150000|    80000|               Texas|       Dallas|Petrol| Individual|      Manual|Second Owner| 19.7 kmpl| 796 CC|  46.3 bhp|    5|\n",
      "|      20|Hyundai i20 2015-...|2016|       680000|   100000|            New York|New York City|Diesel| Individual|      Manual| First Owner|22.54 kmpl|1396 CC| 88.73 bhp|    5|\n",
      "|      21|Mahindra Verito 1...|2011|       174000|   100000|            New York|New York City|Diesel| Individual|      Manual|Second Owner| 21.0 kmpl|1461 CC|  64.1 bhp|    5|\n",
      "+--------+--------------------+----+-------------+---------+--------------------+-------------+------+-----------+------------+------------+----------+-------+----------+-----+\n",
      "only showing top 20 rows\n",
      "\n"
     ]
    }
   ],
   "source": [
    "df.show()"
   ]
  },
  {
   "cell_type": "code",
   "execution_count": 8,
   "id": "ab2e21a8",
   "metadata": {},
   "outputs": [
    {
     "name": "stdout",
     "output_type": "stream",
     "text": [
      "root\n",
      " |-- Sales_ID: integer (nullable = true)\n",
      " |-- name: string (nullable = true)\n",
      " |-- year: integer (nullable = true)\n",
      " |-- selling_price: integer (nullable = true)\n",
      " |-- km_driven: integer (nullable = true)\n",
      " |-- State or Province: string (nullable = true)\n",
      " |-- City: string (nullable = true)\n",
      " |-- fuel: string (nullable = true)\n",
      " |-- seller_type: string (nullable = true)\n",
      " |-- transmission: string (nullable = true)\n",
      " |-- owner: string (nullable = true)\n",
      " |-- mileage: string (nullable = true)\n",
      " |-- engine: string (nullable = true)\n",
      " |-- max_power: string (nullable = true)\n",
      " |-- seats: integer (nullable = true)\n",
      "\n"
     ]
    }
   ],
   "source": [
    "df.printSchema()"
   ]
  },
  {
   "cell_type": "code",
   "execution_count": 9,
   "id": "e496493a",
   "metadata": {},
   "outputs": [
    {
     "data": {
      "text/plain": [
       "pyspark.sql.dataframe.DataFrame"
      ]
     },
     "execution_count": 9,
     "metadata": {},
     "output_type": "execute_result"
    }
   ],
   "source": [
    "type(df)"
   ]
  },
  {
   "cell_type": "code",
   "execution_count": 10,
   "id": "840c6fc4",
   "metadata": {},
   "outputs": [
    {
     "data": {
      "text/plain": [
       "['Sales_ID',\n",
       " 'name',\n",
       " 'year',\n",
       " 'selling_price',\n",
       " 'km_driven',\n",
       " 'State or Province',\n",
       " 'City',\n",
       " 'fuel',\n",
       " 'seller_type',\n",
       " 'transmission',\n",
       " 'owner',\n",
       " 'mileage',\n",
       " 'engine',\n",
       " 'max_power',\n",
       " 'seats']"
      ]
     },
     "execution_count": 10,
     "metadata": {},
     "output_type": "execute_result"
    }
   ],
   "source": [
    "df.columns"
   ]
  },
  {
   "cell_type": "code",
   "execution_count": 11,
   "id": "b8d613c1",
   "metadata": {},
   "outputs": [
    {
     "data": {
      "text/plain": [
       "[Row(Sales_ID=1, name='Maruti Swift Dzire VDI', year=2014, selling_price=450000, km_driven=145500, State or Province='District of Columbia', City='Washington', fuel='Diesel', seller_type='Individual', transmission='Manual', owner='First Owner', mileage='23.4 kmpl', engine='1248 CC', max_power='74 bhp', seats=5),\n",
       " Row(Sales_ID=2, name='Skoda Rapid 1.5 TDI Ambition', year=2014, selling_price=370000, km_driven=120000, State or Province='New York', City='New York City', fuel='Diesel', seller_type='Individual', transmission='Manual', owner='Second Owner', mileage='21.14 kmpl', engine='1498 CC', max_power='103.52 bhp', seats=5),\n",
       " Row(Sales_ID=3, name='Honda City 2017-2020 EXi', year=2006, selling_price=158000, km_driven=140000, State or Province='Illinois', City='Chicago', fuel='Petrol', seller_type='Individual', transmission='Manual', owner='Third Owner', mileage='17.7 kmpl', engine='1497 CC', max_power='78 bhp', seats=5)]"
      ]
     },
     "execution_count": 11,
     "metadata": {},
     "output_type": "execute_result"
    }
   ],
   "source": [
    "df.head(3)"
   ]
  },
  {
   "cell_type": "code",
   "execution_count": 12,
   "id": "a0ca2d1b",
   "metadata": {},
   "outputs": [
    {
     "name": "stdout",
     "output_type": "stream",
     "text": [
      "+--------------------+-------------+\n",
      "|                name|selling_price|\n",
      "+--------------------+-------------+\n",
      "|Maruti Swift Dzir...|       450000|\n",
      "|Skoda Rapid 1.5 T...|       370000|\n",
      "|Honda City 2017-2...|       158000|\n",
      "|Hyundai i20 Sport...|       225000|\n",
      "|Maruti Swift VXI ...|       130000|\n",
      "|Hyundai Xcent 1.2...|       440000|\n",
      "|Maruti Wagon R LX...|        96000|\n",
      "|  Maruti 800 DX BSII|        45000|\n",
      "|    Toyota Etios VXD|       350000|\n",
      "|Ford Figo Diesel ...|       200000|\n",
      "|Renault Duster 11...|       500000|\n",
      "|       Maruti Zen LX|        92000|\n",
      "|Maruti Swift Dzir...|       280000|\n",
      "|Maruti Wagon R LX...|       180000|\n",
      "|Mahindra KUV 100 ...|       400000|\n",
      "|Maruti Ertiga SHV...|       778000|\n",
      "|Hyundai i20 1.4 C...|       500000|\n",
      "|      Maruti Alto LX|       150000|\n",
      "|Hyundai i20 2015-...|       680000|\n",
      "|Mahindra Verito 1...|       174000|\n",
      "+--------------------+-------------+\n",
      "only showing top 20 rows\n",
      "\n"
     ]
    }
   ],
   "source": [
    "df.select(['name','selling_price']).show()"
   ]
  },
  {
   "cell_type": "code",
   "execution_count": 13,
   "id": "3b4f013d",
   "metadata": {},
   "outputs": [
    {
     "data": {
      "text/plain": [
       "[('Sales_ID', 'int'),\n",
       " ('name', 'string'),\n",
       " ('year', 'int'),\n",
       " ('selling_price', 'int'),\n",
       " ('km_driven', 'int'),\n",
       " ('State or Province', 'string'),\n",
       " ('City', 'string'),\n",
       " ('fuel', 'string'),\n",
       " ('seller_type', 'string'),\n",
       " ('transmission', 'string'),\n",
       " ('owner', 'string'),\n",
       " ('mileage', 'string'),\n",
       " ('engine', 'string'),\n",
       " ('max_power', 'string'),\n",
       " ('seats', 'int')]"
      ]
     },
     "execution_count": 13,
     "metadata": {},
     "output_type": "execute_result"
    }
   ],
   "source": [
    "df.dtypes"
   ]
  },
  {
   "cell_type": "code",
   "execution_count": 14,
   "id": "25815071",
   "metadata": {},
   "outputs": [
    {
     "data": {
      "text/plain": [
       "DataFrame[summary: string, Sales_ID: string, name: string, year: string, selling_price: string, km_driven: string, State or Province: string, City: string, fuel: string, seller_type: string, transmission: string, owner: string, mileage: string, engine: string, max_power: string, seats: string]"
      ]
     },
     "execution_count": 14,
     "metadata": {},
     "output_type": "execute_result"
    }
   ],
   "source": [
    "df.describe()"
   ]
  },
  {
   "cell_type": "code",
   "execution_count": 15,
   "id": "5f85bcb5",
   "metadata": {},
   "outputs": [
    {
     "name": "stdout",
     "output_type": "stream",
     "text": [
      "+-------+------------------+--------------------+------------------+-----------------+------------------+-----------------+-------+------+----------------+------------+-----------+--------+-------+---------+------------------+\n",
      "|summary|          Sales_ID|                name|              year|    selling_price|         km_driven|State or Province|   City|  fuel|     seller_type|transmission|      owner| mileage| engine|max_power|             seats|\n",
      "+-------+------------------+--------------------+------------------+-----------------+------------------+-----------------+-------+------+----------------+------------+-----------+--------+-------+---------+------------------+\n",
      "|  count|              7906|                7906|              7906|             7906|              7906|             7906|   7906|  7906|            7906|        7906|       7906|    7906|   7906|     7906|              7906|\n",
      "|   mean|4070.1062484189224|                null|2013.9839362509485| 649813.720844928| 69188.65975208703|             null|   null|  null|            null|        null|       null|    null|   null|     null|5.4163926132051605|\n",
      "| stddev| 2345.770158989306|                null|3.8636953387035105|813582.7483541336|56792.296343317634|             null|   null|  null|            null|        null|       null|    null|   null|     null|0.9592082121984635|\n",
      "|    min|                 1|Ambassador CLASSI...|              1994|            29999|                 1|          Alabama|Abilene|   CNG|          Dealer|   Automatic|First Owner|0.0 kmpl|1047 CC|  100 bhp|                 2|\n",
      "|    max|              8128|Volvo XC90 T8 Exc...|              2020|         10000000|           2360457|          Wyoming|   Yuma|Petrol|Trustmark Dealer|      Manual|Third Owner|9.5 kmpl| 999 CC| 99.6 bhp|                14|\n",
      "+-------+------------------+--------------------+------------------+-----------------+------------------+-----------------+-------+------+----------------+------------+-----------+--------+-------+---------+------------------+\n",
      "\n"
     ]
    }
   ],
   "source": [
    "df.describe().show()"
   ]
  },
  {
   "cell_type": "markdown",
   "id": "df968143",
   "metadata": {},
   "source": [
    "Creating new column \"no_years\" which helps us to find age of car so that our model can make more accurate predictions"
   ]
  },
  {
   "cell_type": "code",
   "execution_count": 16,
   "id": "09929fb2",
   "metadata": {},
   "outputs": [],
   "source": [
    "df=df.withColumn('no_year',2021-df['year'])"
   ]
  },
  {
   "cell_type": "code",
   "execution_count": 17,
   "id": "12721633",
   "metadata": {},
   "outputs": [
    {
     "name": "stdout",
     "output_type": "stream",
     "text": [
      "+--------+--------------------+----+-------------+---------+--------------------+-------------+------+-----------+------------+------------+----------+-------+----------+-----+-------+\n",
      "|Sales_ID|                name|year|selling_price|km_driven|   State or Province|         City|  fuel|seller_type|transmission|       owner|   mileage| engine| max_power|seats|no_year|\n",
      "+--------+--------------------+----+-------------+---------+--------------------+-------------+------+-----------+------------+------------+----------+-------+----------+-----+-------+\n",
      "|       1|Maruti Swift Dzir...|2014|       450000|   145500|District of Columbia|   Washington|Diesel| Individual|      Manual| First Owner| 23.4 kmpl|1248 CC|    74 bhp|    5|      7|\n",
      "|       2|Skoda Rapid 1.5 T...|2014|       370000|   120000|            New York|New York City|Diesel| Individual|      Manual|Second Owner|21.14 kmpl|1498 CC|103.52 bhp|    5|      7|\n",
      "|       3|Honda City 2017-2...|2006|       158000|   140000|            Illinois|      Chicago|Petrol| Individual|      Manual| Third Owner| 17.7 kmpl|1497 CC|    78 bhp|    5|     15|\n",
      "|       4|Hyundai i20 Sport...|2010|       225000|   127000|            Illinois|      Chicago|Diesel| Individual|      Manual| First Owner| 23.0 kmpl|1396 CC|    90 bhp|    5|     11|\n",
      "|       5|Maruti Swift VXI ...|2007|       130000|   120000|            New York|New York City|Petrol| Individual|      Manual| First Owner| 16.1 kmpl|1298 CC|  88.2 bhp|    5|     14|\n",
      "|       6|Hyundai Xcent 1.2...|2017|       440000|    45000|            New York|New York City|Petrol| Individual|      Manual| First Owner|20.14 kmpl|1197 CC| 81.86 bhp|    5|      4|\n",
      "|       7|Maruti Wagon R LX...|2007|        96000|   175000|          California|  Los Angeles|   LPG| Individual|      Manual| First Owner|17.3 km/kg|1061 CC|  57.5 bhp|    5|     14|\n",
      "|       8|  Maruti 800 DX BSII|2001|        45000|     5000|          California|  Los Angeles|Petrol| Individual|      Manual|Second Owner| 16.1 kmpl| 796 CC|    37 bhp|    4|     20|\n",
      "|       9|    Toyota Etios VXD|2011|       350000|    90000|          California|  Los Angeles|Diesel| Individual|      Manual| First Owner|23.59 kmpl|1364 CC|  67.1 bhp|    5|     10|\n",
      "|      10|Ford Figo Diesel ...|2013|       200000|   169000|               Texas|      Houston|Diesel| Individual|      Manual| First Owner| 20.0 kmpl|1399 CC|  68.1 bhp|    5|      8|\n",
      "|      11|Renault Duster 11...|2014|       500000|    68000|            New York|New York City|Diesel| Individual|      Manual|Second Owner|19.01 kmpl|1461 CC|108.45 bhp|    5|      7|\n",
      "|      12|       Maruti Zen LX|2005|        92000|   100000|               Texas|      Houston|Petrol| Individual|      Manual|Second Owner| 17.3 kmpl| 993 CC|    60 bhp|    5|     16|\n",
      "|      13|Maruti Swift Dzir...|2009|       280000|   140000|               Texas|      Houston|Diesel| Individual|      Manual|Second Owner| 19.3 kmpl|1248 CC|  73.9 bhp|    5|     12|\n",
      "|      15|Maruti Wagon R LX...|2009|       180000|    90000|       Massachusetts|       Boston|Petrol| Individual|      Manual|Second Owner| 18.9 kmpl|1061 CC|    67 bhp|    5|     12|\n",
      "|      16|Mahindra KUV 100 ...|2016|       400000|    40000|       Massachusetts|       Boston|Petrol| Individual|      Manual| First Owner|18.15 kmpl|1198 CC|    82 bhp|    5|      5|\n",
      "|      17|Maruti Ertiga SHV...|2016|       778000|    70000|               Texas|       Dallas|Diesel| Individual|      Manual|Second Owner|24.52 kmpl|1248 CC|  88.5 bhp|    7|      5|\n",
      "|      18|Hyundai i20 1.4 C...|2012|       500000|    53000|               Texas|       Dallas|Diesel| Individual|      Manual|Second Owner| 23.0 kmpl|1396 CC|    90 bhp|    5|      9|\n",
      "|      19|      Maruti Alto LX|2002|       150000|    80000|               Texas|       Dallas|Petrol| Individual|      Manual|Second Owner| 19.7 kmpl| 796 CC|  46.3 bhp|    5|     19|\n",
      "|      20|Hyundai i20 2015-...|2016|       680000|   100000|            New York|New York City|Diesel| Individual|      Manual| First Owner|22.54 kmpl|1396 CC| 88.73 bhp|    5|      5|\n",
      "|      21|Mahindra Verito 1...|2011|       174000|   100000|            New York|New York City|Diesel| Individual|      Manual|Second Owner| 21.0 kmpl|1461 CC|  64.1 bhp|    5|     10|\n",
      "+--------+--------------------+----+-------------+---------+--------------------+-------------+------+-----------+------------+------------+----------+-------+----------+-----+-------+\n",
      "only showing top 20 rows\n",
      "\n"
     ]
    }
   ],
   "source": [
    "df.show()"
   ]
  },
  {
   "cell_type": "markdown",
   "id": "56cdb803",
   "metadata": {},
   "source": [
    "Now let's drop the \"year\" column because we have created a new column which is \"no_year\""
   ]
  },
  {
   "cell_type": "code",
   "execution_count": 18,
   "id": "85443fa1",
   "metadata": {},
   "outputs": [],
   "source": [
    "df=df.drop('year')"
   ]
  },
  {
   "cell_type": "code",
   "execution_count": 19,
   "id": "9d63a815",
   "metadata": {},
   "outputs": [
    {
     "name": "stdout",
     "output_type": "stream",
     "text": [
      "+--------+--------------------+-------------+---------+--------------------+-------------+------+-----------+------------+------------+----------+-------+----------+-----+-------+\n",
      "|Sales_ID|                name|selling_price|km_driven|   State or Province|         City|  fuel|seller_type|transmission|       owner|   mileage| engine| max_power|seats|no_year|\n",
      "+--------+--------------------+-------------+---------+--------------------+-------------+------+-----------+------------+------------+----------+-------+----------+-----+-------+\n",
      "|       1|Maruti Swift Dzir...|       450000|   145500|District of Columbia|   Washington|Diesel| Individual|      Manual| First Owner| 23.4 kmpl|1248 CC|    74 bhp|    5|      7|\n",
      "|       2|Skoda Rapid 1.5 T...|       370000|   120000|            New York|New York City|Diesel| Individual|      Manual|Second Owner|21.14 kmpl|1498 CC|103.52 bhp|    5|      7|\n",
      "|       3|Honda City 2017-2...|       158000|   140000|            Illinois|      Chicago|Petrol| Individual|      Manual| Third Owner| 17.7 kmpl|1497 CC|    78 bhp|    5|     15|\n",
      "|       4|Hyundai i20 Sport...|       225000|   127000|            Illinois|      Chicago|Diesel| Individual|      Manual| First Owner| 23.0 kmpl|1396 CC|    90 bhp|    5|     11|\n",
      "|       5|Maruti Swift VXI ...|       130000|   120000|            New York|New York City|Petrol| Individual|      Manual| First Owner| 16.1 kmpl|1298 CC|  88.2 bhp|    5|     14|\n",
      "|       6|Hyundai Xcent 1.2...|       440000|    45000|            New York|New York City|Petrol| Individual|      Manual| First Owner|20.14 kmpl|1197 CC| 81.86 bhp|    5|      4|\n",
      "|       7|Maruti Wagon R LX...|        96000|   175000|          California|  Los Angeles|   LPG| Individual|      Manual| First Owner|17.3 km/kg|1061 CC|  57.5 bhp|    5|     14|\n",
      "|       8|  Maruti 800 DX BSII|        45000|     5000|          California|  Los Angeles|Petrol| Individual|      Manual|Second Owner| 16.1 kmpl| 796 CC|    37 bhp|    4|     20|\n",
      "|       9|    Toyota Etios VXD|       350000|    90000|          California|  Los Angeles|Diesel| Individual|      Manual| First Owner|23.59 kmpl|1364 CC|  67.1 bhp|    5|     10|\n",
      "|      10|Ford Figo Diesel ...|       200000|   169000|               Texas|      Houston|Diesel| Individual|      Manual| First Owner| 20.0 kmpl|1399 CC|  68.1 bhp|    5|      8|\n",
      "|      11|Renault Duster 11...|       500000|    68000|            New York|New York City|Diesel| Individual|      Manual|Second Owner|19.01 kmpl|1461 CC|108.45 bhp|    5|      7|\n",
      "|      12|       Maruti Zen LX|        92000|   100000|               Texas|      Houston|Petrol| Individual|      Manual|Second Owner| 17.3 kmpl| 993 CC|    60 bhp|    5|     16|\n",
      "|      13|Maruti Swift Dzir...|       280000|   140000|               Texas|      Houston|Diesel| Individual|      Manual|Second Owner| 19.3 kmpl|1248 CC|  73.9 bhp|    5|     12|\n",
      "|      15|Maruti Wagon R LX...|       180000|    90000|       Massachusetts|       Boston|Petrol| Individual|      Manual|Second Owner| 18.9 kmpl|1061 CC|    67 bhp|    5|     12|\n",
      "|      16|Mahindra KUV 100 ...|       400000|    40000|       Massachusetts|       Boston|Petrol| Individual|      Manual| First Owner|18.15 kmpl|1198 CC|    82 bhp|    5|      5|\n",
      "|      17|Maruti Ertiga SHV...|       778000|    70000|               Texas|       Dallas|Diesel| Individual|      Manual|Second Owner|24.52 kmpl|1248 CC|  88.5 bhp|    7|      5|\n",
      "|      18|Hyundai i20 1.4 C...|       500000|    53000|               Texas|       Dallas|Diesel| Individual|      Manual|Second Owner| 23.0 kmpl|1396 CC|    90 bhp|    5|      9|\n",
      "|      19|      Maruti Alto LX|       150000|    80000|               Texas|       Dallas|Petrol| Individual|      Manual|Second Owner| 19.7 kmpl| 796 CC|  46.3 bhp|    5|     19|\n",
      "|      20|Hyundai i20 2015-...|       680000|   100000|            New York|New York City|Diesel| Individual|      Manual| First Owner|22.54 kmpl|1396 CC| 88.73 bhp|    5|      5|\n",
      "|      21|Mahindra Verito 1...|       174000|   100000|            New York|New York City|Diesel| Individual|      Manual|Second Owner| 21.0 kmpl|1461 CC|  64.1 bhp|    5|     10|\n",
      "+--------+--------------------+-------------+---------+--------------------+-------------+------+-----------+------------+------------+----------+-------+----------+-----+-------+\n",
      "only showing top 20 rows\n",
      "\n"
     ]
    }
   ],
   "source": [
    "df.show()"
   ]
  },
  {
   "cell_type": "code",
   "execution_count": 20,
   "id": "7def635c",
   "metadata": {},
   "outputs": [],
   "source": [
    "df=df.withColumnRenamed('State or Province','Province')"
   ]
  },
  {
   "cell_type": "code",
   "execution_count": 21,
   "id": "2b7b3670",
   "metadata": {},
   "outputs": [
    {
     "name": "stdout",
     "output_type": "stream",
     "text": [
      "+--------+--------------------+-------------+---------+--------------------+-------------+------+-----------+------------+------------+----------+-------+----------+-----+-------+\n",
      "|Sales_ID|                name|selling_price|km_driven|            Province|         City|  fuel|seller_type|transmission|       owner|   mileage| engine| max_power|seats|no_year|\n",
      "+--------+--------------------+-------------+---------+--------------------+-------------+------+-----------+------------+------------+----------+-------+----------+-----+-------+\n",
      "|       1|Maruti Swift Dzir...|       450000|   145500|District of Columbia|   Washington|Diesel| Individual|      Manual| First Owner| 23.4 kmpl|1248 CC|    74 bhp|    5|      7|\n",
      "|       2|Skoda Rapid 1.5 T...|       370000|   120000|            New York|New York City|Diesel| Individual|      Manual|Second Owner|21.14 kmpl|1498 CC|103.52 bhp|    5|      7|\n",
      "|       3|Honda City 2017-2...|       158000|   140000|            Illinois|      Chicago|Petrol| Individual|      Manual| Third Owner| 17.7 kmpl|1497 CC|    78 bhp|    5|     15|\n",
      "|       4|Hyundai i20 Sport...|       225000|   127000|            Illinois|      Chicago|Diesel| Individual|      Manual| First Owner| 23.0 kmpl|1396 CC|    90 bhp|    5|     11|\n",
      "|       5|Maruti Swift VXI ...|       130000|   120000|            New York|New York City|Petrol| Individual|      Manual| First Owner| 16.1 kmpl|1298 CC|  88.2 bhp|    5|     14|\n",
      "|       6|Hyundai Xcent 1.2...|       440000|    45000|            New York|New York City|Petrol| Individual|      Manual| First Owner|20.14 kmpl|1197 CC| 81.86 bhp|    5|      4|\n",
      "|       7|Maruti Wagon R LX...|        96000|   175000|          California|  Los Angeles|   LPG| Individual|      Manual| First Owner|17.3 km/kg|1061 CC|  57.5 bhp|    5|     14|\n",
      "|       8|  Maruti 800 DX BSII|        45000|     5000|          California|  Los Angeles|Petrol| Individual|      Manual|Second Owner| 16.1 kmpl| 796 CC|    37 bhp|    4|     20|\n",
      "|       9|    Toyota Etios VXD|       350000|    90000|          California|  Los Angeles|Diesel| Individual|      Manual| First Owner|23.59 kmpl|1364 CC|  67.1 bhp|    5|     10|\n",
      "|      10|Ford Figo Diesel ...|       200000|   169000|               Texas|      Houston|Diesel| Individual|      Manual| First Owner| 20.0 kmpl|1399 CC|  68.1 bhp|    5|      8|\n",
      "|      11|Renault Duster 11...|       500000|    68000|            New York|New York City|Diesel| Individual|      Manual|Second Owner|19.01 kmpl|1461 CC|108.45 bhp|    5|      7|\n",
      "|      12|       Maruti Zen LX|        92000|   100000|               Texas|      Houston|Petrol| Individual|      Manual|Second Owner| 17.3 kmpl| 993 CC|    60 bhp|    5|     16|\n",
      "|      13|Maruti Swift Dzir...|       280000|   140000|               Texas|      Houston|Diesel| Individual|      Manual|Second Owner| 19.3 kmpl|1248 CC|  73.9 bhp|    5|     12|\n",
      "|      15|Maruti Wagon R LX...|       180000|    90000|       Massachusetts|       Boston|Petrol| Individual|      Manual|Second Owner| 18.9 kmpl|1061 CC|    67 bhp|    5|     12|\n",
      "|      16|Mahindra KUV 100 ...|       400000|    40000|       Massachusetts|       Boston|Petrol| Individual|      Manual| First Owner|18.15 kmpl|1198 CC|    82 bhp|    5|      5|\n",
      "|      17|Maruti Ertiga SHV...|       778000|    70000|               Texas|       Dallas|Diesel| Individual|      Manual|Second Owner|24.52 kmpl|1248 CC|  88.5 bhp|    7|      5|\n",
      "|      18|Hyundai i20 1.4 C...|       500000|    53000|               Texas|       Dallas|Diesel| Individual|      Manual|Second Owner| 23.0 kmpl|1396 CC|    90 bhp|    5|      9|\n",
      "|      19|      Maruti Alto LX|       150000|    80000|               Texas|       Dallas|Petrol| Individual|      Manual|Second Owner| 19.7 kmpl| 796 CC|  46.3 bhp|    5|     19|\n",
      "|      20|Hyundai i20 2015-...|       680000|   100000|            New York|New York City|Diesel| Individual|      Manual| First Owner|22.54 kmpl|1396 CC| 88.73 bhp|    5|      5|\n",
      "|      21|Mahindra Verito 1...|       174000|   100000|            New York|New York City|Diesel| Individual|      Manual|Second Owner| 21.0 kmpl|1461 CC|  64.1 bhp|    5|     10|\n",
      "+--------+--------------------+-------------+---------+--------------------+-------------+------+-----------+------------+------------+----------+-------+----------+-----+-------+\n",
      "only showing top 20 rows\n",
      "\n"
     ]
    }
   ],
   "source": [
    "df.show()"
   ]
  },
  {
   "cell_type": "code",
   "execution_count": 22,
   "id": "33e0b5c0",
   "metadata": {
    "scrolled": true
   },
   "outputs": [
    {
     "name": "stdout",
     "output_type": "stream",
     "text": [
      "+-------+------------------+--------------------+-----------------+------------------+--------+-------+------+----------------+------------+-----------+--------+-------+---------+------------------+-----------------+\n",
      "|summary|          Sales_ID|                name|    selling_price|         km_driven|Province|   City|  fuel|     seller_type|transmission|      owner| mileage| engine|max_power|             seats|          no_year|\n",
      "+-------+------------------+--------------------+-----------------+------------------+--------+-------+------+----------------+------------+-----------+--------+-------+---------+------------------+-----------------+\n",
      "|  count|              7906|                7906|             7906|              7906|    7906|   7906|  7906|            7906|        7906|       7906|    7906|   7906|     7906|              7906|             7906|\n",
      "|   mean|4070.1062484189224|                null| 649813.720844928| 69188.65975208703|    null|   null|  null|            null|        null|       null|    null|   null|     null|5.4163926132051605|7.016063749051353|\n",
      "| stddev| 2345.770158989306|                null|813582.7483541336|56792.296343317634|    null|   null|  null|            null|        null|       null|    null|   null|     null|0.9592082121984635| 3.86369533870346|\n",
      "|    min|                 1|Ambassador CLASSI...|            29999|                 1| Alabama|Abilene|   CNG|          Dealer|   Automatic|First Owner|0.0 kmpl|1047 CC|  100 bhp|                 2|                1|\n",
      "|    max|              8128|Volvo XC90 T8 Exc...|         10000000|           2360457| Wyoming|   Yuma|Petrol|Trustmark Dealer|      Manual|Third Owner|9.5 kmpl| 999 CC| 99.6 bhp|                14|               27|\n",
      "+-------+------------------+--------------------+-----------------+------------------+--------+-------+------+----------------+------------+-----------+--------+-------+---------+------------------+-----------------+\n",
      "\n"
     ]
    }
   ],
   "source": [
    "df.describe().show()"
   ]
  },
  {
   "cell_type": "markdown",
   "id": "90b6c302",
   "metadata": {},
   "source": [
    "# Reading sales_status Data set"
   ]
  },
  {
   "cell_type": "code",
   "execution_count": 23,
   "id": "91d72021",
   "metadata": {},
   "outputs": [],
   "source": [
    "df2=spark.read.csv('sales_Status_p3.csv',header=True,inferSchema=True)"
   ]
  },
  {
   "cell_type": "code",
   "execution_count": 24,
   "id": "b75b04dc",
   "metadata": {},
   "outputs": [
    {
     "name": "stdout",
     "output_type": "stream",
     "text": [
      "+--------+----+\n",
      "|Sales_ID|sold|\n",
      "+--------+----+\n",
      "|       1|   Y|\n",
      "|       2|   Y|\n",
      "|       3|   Y|\n",
      "|       4|   Y|\n",
      "|       5|   Y|\n",
      "|       6|   Y|\n",
      "|       7|   Y|\n",
      "|       8|   Y|\n",
      "|       9|   Y|\n",
      "|      10|   Y|\n",
      "|      11|   Y|\n",
      "|      12|   Y|\n",
      "|      13|   Y|\n",
      "|      15|   Y|\n",
      "|      16|   Y|\n",
      "|      17|   Y|\n",
      "|      18|   Y|\n",
      "|      19|   Y|\n",
      "|      20|   Y|\n",
      "|      21|   Y|\n",
      "+--------+----+\n",
      "only showing top 20 rows\n",
      "\n"
     ]
    }
   ],
   "source": [
    "df2.show()"
   ]
  },
  {
   "cell_type": "code",
   "execution_count": 25,
   "id": "37819833",
   "metadata": {},
   "outputs": [
    {
     "name": "stdout",
     "output_type": "stream",
     "text": [
      "root\n",
      " |-- Sales_ID: integer (nullable = true)\n",
      " |-- sold: string (nullable = true)\n",
      "\n"
     ]
    }
   ],
   "source": [
    "df2.printSchema()"
   ]
  },
  {
   "cell_type": "markdown",
   "id": "83090232",
   "metadata": {},
   "source": [
    "# Merging two data sets using \"Inner Join\""
   ]
  },
  {
   "cell_type": "code",
   "execution_count": 26,
   "id": "c7013428",
   "metadata": {},
   "outputs": [],
   "source": [
    "df_final=df.join(df2,on=['Sales_ID'],how='inner')"
   ]
  },
  {
   "cell_type": "code",
   "execution_count": 27,
   "id": "ae49444c",
   "metadata": {},
   "outputs": [
    {
     "name": "stdout",
     "output_type": "stream",
     "text": [
      "+--------+--------------------+-------------+---------+--------------------+-------------+------+-----------+------------+------------+----------+-------+----------+-----+-------+----+\n",
      "|Sales_ID|                name|selling_price|km_driven|            Province|         City|  fuel|seller_type|transmission|       owner|   mileage| engine| max_power|seats|no_year|sold|\n",
      "+--------+--------------------+-------------+---------+--------------------+-------------+------+-----------+------------+------------+----------+-------+----------+-----+-------+----+\n",
      "|       1|Maruti Swift Dzir...|       450000|   145500|District of Columbia|   Washington|Diesel| Individual|      Manual| First Owner| 23.4 kmpl|1248 CC|    74 bhp|    5|      7|   Y|\n",
      "|       2|Skoda Rapid 1.5 T...|       370000|   120000|            New York|New York City|Diesel| Individual|      Manual|Second Owner|21.14 kmpl|1498 CC|103.52 bhp|    5|      7|   Y|\n",
      "|       3|Honda City 2017-2...|       158000|   140000|            Illinois|      Chicago|Petrol| Individual|      Manual| Third Owner| 17.7 kmpl|1497 CC|    78 bhp|    5|     15|   Y|\n",
      "|       4|Hyundai i20 Sport...|       225000|   127000|            Illinois|      Chicago|Diesel| Individual|      Manual| First Owner| 23.0 kmpl|1396 CC|    90 bhp|    5|     11|   Y|\n",
      "|       5|Maruti Swift VXI ...|       130000|   120000|            New York|New York City|Petrol| Individual|      Manual| First Owner| 16.1 kmpl|1298 CC|  88.2 bhp|    5|     14|   Y|\n",
      "|       6|Hyundai Xcent 1.2...|       440000|    45000|            New York|New York City|Petrol| Individual|      Manual| First Owner|20.14 kmpl|1197 CC| 81.86 bhp|    5|      4|   Y|\n",
      "|       7|Maruti Wagon R LX...|        96000|   175000|          California|  Los Angeles|   LPG| Individual|      Manual| First Owner|17.3 km/kg|1061 CC|  57.5 bhp|    5|     14|   Y|\n",
      "|       8|  Maruti 800 DX BSII|        45000|     5000|          California|  Los Angeles|Petrol| Individual|      Manual|Second Owner| 16.1 kmpl| 796 CC|    37 bhp|    4|     20|   Y|\n",
      "|       9|    Toyota Etios VXD|       350000|    90000|          California|  Los Angeles|Diesel| Individual|      Manual| First Owner|23.59 kmpl|1364 CC|  67.1 bhp|    5|     10|   Y|\n",
      "|      10|Ford Figo Diesel ...|       200000|   169000|               Texas|      Houston|Diesel| Individual|      Manual| First Owner| 20.0 kmpl|1399 CC|  68.1 bhp|    5|      8|   Y|\n",
      "|      11|Renault Duster 11...|       500000|    68000|            New York|New York City|Diesel| Individual|      Manual|Second Owner|19.01 kmpl|1461 CC|108.45 bhp|    5|      7|   Y|\n",
      "|      12|       Maruti Zen LX|        92000|   100000|               Texas|      Houston|Petrol| Individual|      Manual|Second Owner| 17.3 kmpl| 993 CC|    60 bhp|    5|     16|   Y|\n",
      "|      13|Maruti Swift Dzir...|       280000|   140000|               Texas|      Houston|Diesel| Individual|      Manual|Second Owner| 19.3 kmpl|1248 CC|  73.9 bhp|    5|     12|   Y|\n",
      "|      15|Maruti Wagon R LX...|       180000|    90000|       Massachusetts|       Boston|Petrol| Individual|      Manual|Second Owner| 18.9 kmpl|1061 CC|    67 bhp|    5|     12|   Y|\n",
      "|      16|Mahindra KUV 100 ...|       400000|    40000|       Massachusetts|       Boston|Petrol| Individual|      Manual| First Owner|18.15 kmpl|1198 CC|    82 bhp|    5|      5|   Y|\n",
      "|      17|Maruti Ertiga SHV...|       778000|    70000|               Texas|       Dallas|Diesel| Individual|      Manual|Second Owner|24.52 kmpl|1248 CC|  88.5 bhp|    7|      5|   Y|\n",
      "|      18|Hyundai i20 1.4 C...|       500000|    53000|               Texas|       Dallas|Diesel| Individual|      Manual|Second Owner| 23.0 kmpl|1396 CC|    90 bhp|    5|      9|   Y|\n",
      "|      19|      Maruti Alto LX|       150000|    80000|               Texas|       Dallas|Petrol| Individual|      Manual|Second Owner| 19.7 kmpl| 796 CC|  46.3 bhp|    5|     19|   Y|\n",
      "|      20|Hyundai i20 2015-...|       680000|   100000|            New York|New York City|Diesel| Individual|      Manual| First Owner|22.54 kmpl|1396 CC| 88.73 bhp|    5|      5|   Y|\n",
      "|      21|Mahindra Verito 1...|       174000|   100000|            New York|New York City|Diesel| Individual|      Manual|Second Owner| 21.0 kmpl|1461 CC|  64.1 bhp|    5|     10|   Y|\n",
      "+--------+--------------------+-------------+---------+--------------------+-------------+------+-----------+------------+------------+----------+-------+----------+-----+-------+----+\n",
      "only showing top 20 rows\n",
      "\n"
     ]
    }
   ],
   "source": [
    "df_final.show()"
   ]
  },
  {
   "cell_type": "markdown",
   "id": "0329827e",
   "metadata": {},
   "source": [
    "# checking for null values in our data set"
   ]
  },
  {
   "cell_type": "code",
   "execution_count": 28,
   "id": "4799a1c9",
   "metadata": {},
   "outputs": [
    {
     "name": "stdout",
     "output_type": "stream",
     "text": [
      "+--------+----+-------------+---------+--------+----+----+-----------+------------+-----+-------+------+---------+-----+-------+----+\n",
      "|Sales_ID|name|selling_price|km_driven|Province|City|fuel|seller_type|transmission|owner|mileage|engine|max_power|seats|no_year|sold|\n",
      "+--------+----+-------------+---------+--------+----+----+-----------+------------+-----+-------+------+---------+-----+-------+----+\n",
      "|       0|   0|            0|        0|       0|   0|   0|          0|           0|    0|      0|     0|        0|    0|      0|   0|\n",
      "+--------+----+-------------+---------+--------+----+----+-----------+------------+-----+-------+------+---------+-----+-------+----+\n",
      "\n"
     ]
    }
   ],
   "source": [
    "from pyspark.sql.functions import isnan,when,count,col\n",
    "df_final.select([count(when(col(c).isNull(),c)).alias(c) for c in df_final.columns]).show()"
   ]
  },
  {
   "cell_type": "markdown",
   "id": "2b1c360b",
   "metadata": {},
   "source": [
    "# Filter Operation"
   ]
  },
  {
   "cell_type": "code",
   "execution_count": 29,
   "id": "745df0c4",
   "metadata": {},
   "outputs": [
    {
     "data": {
      "text/plain": [
       "4299"
      ]
     },
     "execution_count": 29,
     "metadata": {},
     "output_type": "execute_result"
    }
   ],
   "source": [
    "df_final.filter(\"fuel=='Diesel'\").count()"
   ]
  },
  {
   "cell_type": "code",
   "execution_count": 30,
   "id": "a36b8217",
   "metadata": {},
   "outputs": [
    {
     "name": "stdout",
     "output_type": "stream",
     "text": [
      "+--------+--------------------+-------------+---------+--------------------+-------------+------+-----------+------------+------------+----------+-------+----------+-----+-------+----+\n",
      "|Sales_ID|                name|selling_price|km_driven|            Province|         City|  fuel|seller_type|transmission|       owner|   mileage| engine| max_power|seats|no_year|sold|\n",
      "+--------+--------------------+-------------+---------+--------------------+-------------+------+-----------+------------+------------+----------+-------+----------+-----+-------+----+\n",
      "|       1|Maruti Swift Dzir...|       450000|   145500|District of Columbia|   Washington|Diesel| Individual|      Manual| First Owner| 23.4 kmpl|1248 CC|    74 bhp|    5|      7|   Y|\n",
      "|       2|Skoda Rapid 1.5 T...|       370000|   120000|            New York|New York City|Diesel| Individual|      Manual|Second Owner|21.14 kmpl|1498 CC|103.52 bhp|    5|      7|   Y|\n",
      "|       4|Hyundai i20 Sport...|       225000|   127000|            Illinois|      Chicago|Diesel| Individual|      Manual| First Owner| 23.0 kmpl|1396 CC|    90 bhp|    5|     11|   Y|\n",
      "|       9|    Toyota Etios VXD|       350000|    90000|          California|  Los Angeles|Diesel| Individual|      Manual| First Owner|23.59 kmpl|1364 CC|  67.1 bhp|    5|     10|   Y|\n",
      "|      10|Ford Figo Diesel ...|       200000|   169000|               Texas|      Houston|Diesel| Individual|      Manual| First Owner| 20.0 kmpl|1399 CC|  68.1 bhp|    5|      8|   Y|\n",
      "|      11|Renault Duster 11...|       500000|    68000|            New York|New York City|Diesel| Individual|      Manual|Second Owner|19.01 kmpl|1461 CC|108.45 bhp|    5|      7|   Y|\n",
      "|      13|Maruti Swift Dzir...|       280000|   140000|               Texas|      Houston|Diesel| Individual|      Manual|Second Owner| 19.3 kmpl|1248 CC|  73.9 bhp|    5|     12|   Y|\n",
      "|      17|Maruti Ertiga SHV...|       778000|    70000|               Texas|       Dallas|Diesel| Individual|      Manual|Second Owner|24.52 kmpl|1248 CC|  88.5 bhp|    7|      5|   Y|\n",
      "|      18|Hyundai i20 1.4 C...|       500000|    53000|               Texas|       Dallas|Diesel| Individual|      Manual|Second Owner| 23.0 kmpl|1396 CC|    90 bhp|    5|      9|   Y|\n",
      "|      20|Hyundai i20 2015-...|       680000|   100000|            New York|New York City|Diesel| Individual|      Manual| First Owner|22.54 kmpl|1396 CC| 88.73 bhp|    5|      5|   Y|\n",
      "|      21|Mahindra Verito 1...|       174000|   100000|            New York|New York City|Diesel| Individual|      Manual|Second Owner| 21.0 kmpl|1461 CC|  64.1 bhp|    5|     10|   Y|\n",
      "|      22|Honda WR-V i-DTEC VX|       950000|    50000|            New York|New York City|Diesel| Individual|      Manual| First Owner| 25.5 kmpl|1498 CC|  98.6 bhp|    5|      4|   Y|\n",
      "|      23|Maruti Swift Dzir...|       525000|    40000|               Texas|       Dallas|Diesel| Individual|      Manual| First Owner|26.59 kmpl|1248 CC|    74 bhp|    5|      6|   Y|\n",
      "|      24|      Maruti SX4 ZDI|       600000|    72000|            New York|New York City|Diesel| Individual|      Manual| First Owner| 21.5 kmpl|1248 CC|  88.8 bhp|    5|      9|   Y|\n",
      "|      28|Chevrolet Enjoy T...|       300000|    70000|       Massachusetts|       Boston|Diesel| Individual|      Manual| First Owner| 18.2 kmpl|1248 CC|  73.8 bhp|    7|      8|   Y|\n",
      "|      31|Maruti Vitara Bre...|       670000|    70000|            Illinois|      Chicago|Diesel| Individual|      Manual| First Owner| 24.3 kmpl|1248 CC|  88.5 bhp|    5|      4|   Y|\n",
      "|      35|Maruti Vitara Bre...|       650000|    16200|          Washington|      Seattle|Diesel| Individual|      Manual| First Owner| 24.3 kmpl|1248 CC|  88.5 bhp|    5|      4|   Y|\n",
      "|      40|Tata Safari DICOR...|       425000|    60000|      North Carolina|    Charlotte|Diesel| Individual|      Manual|Second Owner|13.93 kmpl|2179 CC|138.03 bhp|    7|     10|   Y|\n",
      "|      46|Maruti Vitara Bre...|       819999|    32600|            Illinois|      Chicago|Diesel|     Dealer|      Manual| First Owner| 24.3 kmpl|1248 CC|  88.5 bhp|    5|      3|   Y|\n",
      "|      48|Toyota Fortuner 4...|      1500000|    77000|          Washington|      Seattle|Diesel|     Dealer|      Manual| First Owner|12.55 kmpl|2982 CC| 168.5 bhp|    7|      7|   Y|\n",
      "+--------+--------------------+-------------+---------+--------------------+-------------+------+-----------+------------+------------+----------+-------+----------+-----+-------+----+\n",
      "only showing top 20 rows\n",
      "\n"
     ]
    }
   ],
   "source": [
    "df_final.filter(\"fuel=='Diesel'\").show()"
   ]
  },
  {
   "cell_type": "code",
   "execution_count": 31,
   "id": "57237a25",
   "metadata": {},
   "outputs": [
    {
     "name": "stdout",
     "output_type": "stream",
     "text": [
      "+-------------+-----------+------+\n",
      "|selling_price|seller_type|  fuel|\n",
      "+-------------+-----------+------+\n",
      "|       450000| Individual|Diesel|\n",
      "|       370000| Individual|Diesel|\n",
      "|       225000| Individual|Diesel|\n",
      "|       350000| Individual|Diesel|\n",
      "|       200000| Individual|Diesel|\n",
      "|       500000| Individual|Diesel|\n",
      "|       280000| Individual|Diesel|\n",
      "|       778000| Individual|Diesel|\n",
      "|       500000| Individual|Diesel|\n",
      "|       680000| Individual|Diesel|\n",
      "|       174000| Individual|Diesel|\n",
      "|       950000| Individual|Diesel|\n",
      "|       525000| Individual|Diesel|\n",
      "|       600000| Individual|Diesel|\n",
      "|       300000| Individual|Diesel|\n",
      "|       670000| Individual|Diesel|\n",
      "|       650000| Individual|Diesel|\n",
      "|       425000| Individual|Diesel|\n",
      "|       819999|     Dealer|Diesel|\n",
      "|      1500000|     Dealer|Diesel|\n",
      "+-------------+-----------+------+\n",
      "only showing top 20 rows\n",
      "\n"
     ]
    }
   ],
   "source": [
    "df_final.filter(\"fuel=='Diesel'\").select(['selling_price','seller_type','fuel']).show()"
   ]
  },
  {
   "cell_type": "code",
   "execution_count": 32,
   "id": "2b5d4bba",
   "metadata": {},
   "outputs": [
    {
     "data": {
      "text/plain": [
       "1"
      ]
     },
     "execution_count": 32,
     "metadata": {},
     "output_type": "execute_result"
    }
   ],
   "source": [
    "df_final.filter((df_final['km_driven']<50000) & (df_final['fuel']=='Diesel') & (df_final['selling_price']<100000)).count()"
   ]
  },
  {
   "cell_type": "code",
   "execution_count": 33,
   "id": "5efcb3b3",
   "metadata": {},
   "outputs": [
    {
     "name": "stdout",
     "output_type": "stream",
     "text": [
      "+----------------+-------+---------+------+-------------+----+\n",
      "|            name|no_year|km_driven|  fuel|selling_price|sold|\n",
      "+----------------+-------+---------+------+-------------+----+\n",
      "|Maruti Esteem DI|     18|    20000|Diesel|        70000|   N|\n",
      "+----------------+-------+---------+------+-------------+----+\n",
      "\n"
     ]
    }
   ],
   "source": [
    "df_final.filter((df_final['km_driven']<50000) & \n",
    "                (df_final['fuel']=='Diesel') & \n",
    "                (df_final['selling_price']<100000)).select(['name','no_year','km_driven','fuel','selling_price','sold']).show()"
   ]
  },
  {
   "cell_type": "markdown",
   "id": "5a6e85e1",
   "metadata": {},
   "source": [
    "# Group by and Aggregate Functions"
   ]
  },
  {
   "cell_type": "code",
   "execution_count": 34,
   "id": "03dfceff",
   "metadata": {},
   "outputs": [
    {
     "name": "stdout",
     "output_type": "stream",
     "text": [
      "+----+-------------+------------------+--------------+----------+------------+\n",
      "|sold|sum(Sales_ID)|sum(selling_price)|sum(km_driven)|sum(seats)|sum(no_year)|\n",
      "+----+-------------+------------------+--------------+----------+------------+\n",
      "|   Y|      2062813|        1352743076|     137414880|     10866|       13994|\n",
      "|   N|     30115447|        3784684201|     409590664|     31956|       41475|\n",
      "+----+-------------+------------------+--------------+----------+------------+\n",
      "\n"
     ]
    }
   ],
   "source": [
    "df_final.groupby('sold').sum().show()"
   ]
  },
  {
   "cell_type": "code",
   "execution_count": 35,
   "id": "1027ec3f",
   "metadata": {},
   "outputs": [
    {
     "name": "stdout",
     "output_type": "stream",
     "text": [
      "+----+-----+\n",
      "|sold|count|\n",
      "+----+-----+\n",
      "|   Y| 2000|\n",
      "|   N| 5906|\n",
      "+----+-----+\n",
      "\n"
     ]
    }
   ],
   "source": [
    "df_final.groupby('sold').count().show()"
   ]
  },
  {
   "cell_type": "code",
   "execution_count": 36,
   "id": "86b0b7fe",
   "metadata": {},
   "outputs": [
    {
     "name": "stdout",
     "output_type": "stream",
     "text": [
      "+------+------------------+------------------+------------------+-----------------+------------------+\n",
      "|  fuel|     avg(Sales_ID)|avg(selling_price)|    avg(km_driven)|       avg(seats)|      avg(no_year)|\n",
      "+------+------------------+------------------+------------------+-----------------+------------------+\n",
      "|Diesel|  4143.47522679693|  802450.282623866| 83319.92021400326|5.728076296813212| 6.883228657827401|\n",
      "|   CNG|            4183.5|317903.78846153844|65397.519230769234|4.961538461538462| 5.634615384615385|\n",
      "|   LPG|3900.8285714285716| 210885.7142857143| 88856.68571428572|              5.0|10.485714285714286|\n",
      "|Petrol| 3980.508238636364|     472665.203125| 51790.49772727273|5.046590909090909| 7.164204545454545|\n",
      "+------+------------------+------------------+------------------+-----------------+------------------+\n",
      "\n"
     ]
    }
   ],
   "source": [
    "df_final.groupby('fuel').mean().show()"
   ]
  },
  {
   "cell_type": "code",
   "execution_count": 37,
   "id": "0a76784f",
   "metadata": {},
   "outputs": [
    {
     "name": "stdout",
     "output_type": "stream",
     "text": [
      "+--------------------+-------------+------------------+--------------+----------+------------+\n",
      "|                name|max(Sales_ID)|max(selling_price)|max(km_driven)|max(seats)|max(no_year)|\n",
      "+--------------------+-------------+------------------+--------------+----------+------------+\n",
      "|  Maruti 800 DX BSII|            8|             45000|          5000|         4|          20|\n",
      "| Honda City 1.5 S MT|         7760|            675000|        110000|         5|          12|\n",
      "|Mahindra Bolero 2...|         7651|            800000|        165000|         7|           9|\n",
      "|Toyota Etios Liva GD|         7892|            451000|        146000|         5|           8|\n",
      "|Tata Indica V2 Tu...|         4044|            275000|        120000|         5|           9|\n",
      "|Mahindra KUV 100 ...|         7719|            400000|         51492|         6|           3|\n",
      "|Mahindra Xylo D2 ...|         6331|            465000|        120000|         8|          11|\n",
      "|Datsun GO Anniver...|          718|            385000|         30000|         5|           4|\n",
      "|Mahindra Bolero S...|         5451|            380000|        239451|         7|          12|\n",
      "|Toyota Innova 2.5...|         1193|            850000|        110000|         8|           8|\n",
      "| Mahindra TUV 300 T4|         7320|            600000|        142000|         7|           5|\n",
      "|    Datsun GO Plus A|         6553|            385000|         60000|         7|           6|\n",
      "|Tata Indica V2 DL...|         7532|            200000|        172000|         5|          14|\n",
      "|Maruti Ciaz 1.4 A...|         4474|            850000|         80000|         5|           4|\n",
      "|Mahindra Scorpio ...|         2542|           1250000|         30000|         7|           5|\n",
      "|Hyundai i20 1.4 Asta|         5513|            799000|         60000|         5|           4|\n",
      "|Maruti Swift Lxi ...|         6955|            220000|        136000|         5|          14|\n",
      "|  Maruti Zen Classic|         7766|             58000|         80000|         5|          23|\n",
      "|      Maruti Zen LXI|         5894|            150000|        180000|         5|          24|\n",
      "|Hyundai Verna 1.6...|         8094|            580000|        157000|         5|          10|\n",
      "+--------------------+-------------+------------------+--------------+----------+------------+\n",
      "only showing top 20 rows\n",
      "\n"
     ]
    }
   ],
   "source": [
    "df_final.groupby('name').max().show()"
   ]
  },
  {
   "cell_type": "code",
   "execution_count": 38,
   "id": "810ccc13",
   "metadata": {},
   "outputs": [
    {
     "name": "stdout",
     "output_type": "stream",
     "text": [
      "+------------------+--------------+\n",
      "|min(selling_price)|max(km_driven)|\n",
      "+------------------+--------------+\n",
      "|             29999|       2360457|\n",
      "+------------------+--------------+\n",
      "\n"
     ]
    }
   ],
   "source": [
    "df_final.agg({'selling_price':'min','km_driven':'max'}).show()"
   ]
  },
  {
   "cell_type": "markdown",
   "id": "ba1500b9",
   "metadata": {},
   "source": [
    "# Converting \"mileage\" column from string to Numerical column"
   ]
  },
  {
   "cell_type": "code",
   "execution_count": 39,
   "id": "b38b555e",
   "metadata": {},
   "outputs": [],
   "source": [
    "from pyspark.sql.functions import split"
   ]
  },
  {
   "cell_type": "code",
   "execution_count": 40,
   "id": "7b566d94",
   "metadata": {},
   "outputs": [],
   "source": [
    "df_final=df_final.withColumn(\"AvgMileage\",split(col(\"mileage\"),\" \").getItem(0))"
   ]
  },
  {
   "cell_type": "code",
   "execution_count": 41,
   "id": "b2145c8f",
   "metadata": {},
   "outputs": [
    {
     "name": "stdout",
     "output_type": "stream",
     "text": [
      "root\n",
      " |-- Sales_ID: integer (nullable = true)\n",
      " |-- name: string (nullable = true)\n",
      " |-- selling_price: integer (nullable = true)\n",
      " |-- km_driven: integer (nullable = true)\n",
      " |-- Province: string (nullable = true)\n",
      " |-- City: string (nullable = true)\n",
      " |-- fuel: string (nullable = true)\n",
      " |-- seller_type: string (nullable = true)\n",
      " |-- transmission: string (nullable = true)\n",
      " |-- owner: string (nullable = true)\n",
      " |-- mileage: string (nullable = true)\n",
      " |-- engine: string (nullable = true)\n",
      " |-- max_power: string (nullable = true)\n",
      " |-- seats: integer (nullable = true)\n",
      " |-- no_year: integer (nullable = true)\n",
      " |-- sold: string (nullable = true)\n",
      " |-- AvgMileage: string (nullable = true)\n",
      "\n"
     ]
    }
   ],
   "source": [
    "df_final.printSchema()"
   ]
  },
  {
   "cell_type": "code",
   "execution_count": 42,
   "id": "c9b4f159",
   "metadata": {},
   "outputs": [
    {
     "name": "stdout",
     "output_type": "stream",
     "text": [
      "+--------+--------------------+-------------+---------+--------------------+-------------+------+-----------+------------+------------+----------+-------+----------+-----+-------+----+----------+\n",
      "|Sales_ID|                name|selling_price|km_driven|            Province|         City|  fuel|seller_type|transmission|       owner|   mileage| engine| max_power|seats|no_year|sold|AvgMileage|\n",
      "+--------+--------------------+-------------+---------+--------------------+-------------+------+-----------+------------+------------+----------+-------+----------+-----+-------+----+----------+\n",
      "|       1|Maruti Swift Dzir...|       450000|   145500|District of Columbia|   Washington|Diesel| Individual|      Manual| First Owner| 23.4 kmpl|1248 CC|    74 bhp|    5|      7|   Y|      23.4|\n",
      "|       2|Skoda Rapid 1.5 T...|       370000|   120000|            New York|New York City|Diesel| Individual|      Manual|Second Owner|21.14 kmpl|1498 CC|103.52 bhp|    5|      7|   Y|     21.14|\n",
      "+--------+--------------------+-------------+---------+--------------------+-------------+------+-----------+------------+------------+----------+-------+----------+-----+-------+----+----------+\n",
      "only showing top 2 rows\n",
      "\n"
     ]
    }
   ],
   "source": [
    "df_final.show(2)"
   ]
  },
  {
   "cell_type": "code",
   "execution_count": 43,
   "id": "c260adfb",
   "metadata": {},
   "outputs": [],
   "source": [
    "df_final=df_final.withColumn('AvgMileage',\n",
    "                            df_final['AvgMileage'].cast('float'))"
   ]
  },
  {
   "cell_type": "code",
   "execution_count": 44,
   "id": "51e3f0e8",
   "metadata": {},
   "outputs": [
    {
     "name": "stdout",
     "output_type": "stream",
     "text": [
      "root\n",
      " |-- Sales_ID: integer (nullable = true)\n",
      " |-- name: string (nullable = true)\n",
      " |-- selling_price: integer (nullable = true)\n",
      " |-- km_driven: integer (nullable = true)\n",
      " |-- Province: string (nullable = true)\n",
      " |-- City: string (nullable = true)\n",
      " |-- fuel: string (nullable = true)\n",
      " |-- seller_type: string (nullable = true)\n",
      " |-- transmission: string (nullable = true)\n",
      " |-- owner: string (nullable = true)\n",
      " |-- mileage: string (nullable = true)\n",
      " |-- engine: string (nullable = true)\n",
      " |-- max_power: string (nullable = true)\n",
      " |-- seats: integer (nullable = true)\n",
      " |-- no_year: integer (nullable = true)\n",
      " |-- sold: string (nullable = true)\n",
      " |-- AvgMileage: float (nullable = true)\n",
      "\n"
     ]
    }
   ],
   "source": [
    "df_final.printSchema()"
   ]
  },
  {
   "cell_type": "markdown",
   "id": "5d2c08d5",
   "metadata": {},
   "source": [
    "# Converting \"engine\",\"max_power\" columns from string to numerical"
   ]
  },
  {
   "cell_type": "code",
   "execution_count": 45,
   "id": "26a849f6",
   "metadata": {},
   "outputs": [],
   "source": [
    "df_final=df_final.withColumn(\"EngineCC\",split(col(\"engine\"),\" \").getItem(0)) \\\n",
    "            .withColumn('MaxPower',split(col('max_power'),' ').getItem(0))"
   ]
  },
  {
   "cell_type": "code",
   "execution_count": 46,
   "id": "9f8626b7",
   "metadata": {},
   "outputs": [
    {
     "name": "stdout",
     "output_type": "stream",
     "text": [
      "+--------+--------------------+-------------+---------+--------------------+-------------+------+-----------+------------+------------+----------+-------+----------+-----+-------+----+----------+--------+--------+\n",
      "|Sales_ID|                name|selling_price|km_driven|            Province|         City|  fuel|seller_type|transmission|       owner|   mileage| engine| max_power|seats|no_year|sold|AvgMileage|EngineCC|MaxPower|\n",
      "+--------+--------------------+-------------+---------+--------------------+-------------+------+-----------+------------+------------+----------+-------+----------+-----+-------+----+----------+--------+--------+\n",
      "|       1|Maruti Swift Dzir...|       450000|   145500|District of Columbia|   Washington|Diesel| Individual|      Manual| First Owner| 23.4 kmpl|1248 CC|    74 bhp|    5|      7|   Y|      23.4|    1248|      74|\n",
      "|       2|Skoda Rapid 1.5 T...|       370000|   120000|            New York|New York City|Diesel| Individual|      Manual|Second Owner|21.14 kmpl|1498 CC|103.52 bhp|    5|      7|   Y|     21.14|    1498|  103.52|\n",
      "+--------+--------------------+-------------+---------+--------------------+-------------+------+-----------+------------+------------+----------+-------+----------+-----+-------+----+----------+--------+--------+\n",
      "only showing top 2 rows\n",
      "\n"
     ]
    }
   ],
   "source": [
    "df_final.show(2)"
   ]
  },
  {
   "cell_type": "code",
   "execution_count": 47,
   "id": "5d233e2e",
   "metadata": {},
   "outputs": [
    {
     "name": "stdout",
     "output_type": "stream",
     "text": [
      "root\n",
      " |-- Sales_ID: integer (nullable = true)\n",
      " |-- name: string (nullable = true)\n",
      " |-- selling_price: integer (nullable = true)\n",
      " |-- km_driven: integer (nullable = true)\n",
      " |-- Province: string (nullable = true)\n",
      " |-- City: string (nullable = true)\n",
      " |-- fuel: string (nullable = true)\n",
      " |-- seller_type: string (nullable = true)\n",
      " |-- transmission: string (nullable = true)\n",
      " |-- owner: string (nullable = true)\n",
      " |-- mileage: string (nullable = true)\n",
      " |-- engine: string (nullable = true)\n",
      " |-- max_power: string (nullable = true)\n",
      " |-- seats: integer (nullable = true)\n",
      " |-- no_year: integer (nullable = true)\n",
      " |-- sold: string (nullable = true)\n",
      " |-- AvgMileage: float (nullable = true)\n",
      " |-- EngineCC: string (nullable = true)\n",
      " |-- MaxPower: string (nullable = true)\n",
      "\n"
     ]
    }
   ],
   "source": [
    "df_final.printSchema()"
   ]
  },
  {
   "cell_type": "code",
   "execution_count": 48,
   "id": "a88c7b29",
   "metadata": {},
   "outputs": [],
   "source": [
    "df_final=df_final.withColumn('EngineCC',\n",
    "                            df_final['EngineCC'].cast('int')) \\\n",
    "                .withColumn('MaxPower',df_final['MaxPower'].cast('float'))"
   ]
  },
  {
   "cell_type": "code",
   "execution_count": 49,
   "id": "abaf0f41",
   "metadata": {},
   "outputs": [
    {
     "name": "stdout",
     "output_type": "stream",
     "text": [
      "root\n",
      " |-- Sales_ID: integer (nullable = true)\n",
      " |-- name: string (nullable = true)\n",
      " |-- selling_price: integer (nullable = true)\n",
      " |-- km_driven: integer (nullable = true)\n",
      " |-- Province: string (nullable = true)\n",
      " |-- City: string (nullable = true)\n",
      " |-- fuel: string (nullable = true)\n",
      " |-- seller_type: string (nullable = true)\n",
      " |-- transmission: string (nullable = true)\n",
      " |-- owner: string (nullable = true)\n",
      " |-- mileage: string (nullable = true)\n",
      " |-- engine: string (nullable = true)\n",
      " |-- max_power: string (nullable = true)\n",
      " |-- seats: integer (nullable = true)\n",
      " |-- no_year: integer (nullable = true)\n",
      " |-- sold: string (nullable = true)\n",
      " |-- AvgMileage: float (nullable = true)\n",
      " |-- EngineCC: integer (nullable = true)\n",
      " |-- MaxPower: float (nullable = true)\n",
      "\n"
     ]
    }
   ],
   "source": [
    "df_final.printSchema()"
   ]
  },
  {
   "cell_type": "code",
   "execution_count": 50,
   "id": "28097897",
   "metadata": {},
   "outputs": [],
   "source": [
    "Data=df_final"
   ]
  },
  {
   "cell_type": "code",
   "execution_count": 51,
   "id": "28dc434c",
   "metadata": {},
   "outputs": [
    {
     "name": "stdout",
     "output_type": "stream",
     "text": [
      "+--------+--------------------+-------------+---------+--------------------+-------------+------+-----------+------------+------------+----------+-------+----------+-----+-------+----+----------+--------+--------+\n",
      "|Sales_ID|                name|selling_price|km_driven|            Province|         City|  fuel|seller_type|transmission|       owner|   mileage| engine| max_power|seats|no_year|sold|AvgMileage|EngineCC|MaxPower|\n",
      "+--------+--------------------+-------------+---------+--------------------+-------------+------+-----------+------------+------------+----------+-------+----------+-----+-------+----+----------+--------+--------+\n",
      "|       1|Maruti Swift Dzir...|       450000|   145500|District of Columbia|   Washington|Diesel| Individual|      Manual| First Owner| 23.4 kmpl|1248 CC|    74 bhp|    5|      7|   Y|      23.4|    1248|    74.0|\n",
      "|       2|Skoda Rapid 1.5 T...|       370000|   120000|            New York|New York City|Diesel| Individual|      Manual|Second Owner|21.14 kmpl|1498 CC|103.52 bhp|    5|      7|   Y|     21.14|    1498|  103.52|\n",
      "|       3|Honda City 2017-2...|       158000|   140000|            Illinois|      Chicago|Petrol| Individual|      Manual| Third Owner| 17.7 kmpl|1497 CC|    78 bhp|    5|     15|   Y|      17.7|    1497|    78.0|\n",
      "|       4|Hyundai i20 Sport...|       225000|   127000|            Illinois|      Chicago|Diesel| Individual|      Manual| First Owner| 23.0 kmpl|1396 CC|    90 bhp|    5|     11|   Y|      23.0|    1396|    90.0|\n",
      "|       5|Maruti Swift VXI ...|       130000|   120000|            New York|New York City|Petrol| Individual|      Manual| First Owner| 16.1 kmpl|1298 CC|  88.2 bhp|    5|     14|   Y|      16.1|    1298|    88.2|\n",
      "|       6|Hyundai Xcent 1.2...|       440000|    45000|            New York|New York City|Petrol| Individual|      Manual| First Owner|20.14 kmpl|1197 CC| 81.86 bhp|    5|      4|   Y|     20.14|    1197|   81.86|\n",
      "|       7|Maruti Wagon R LX...|        96000|   175000|          California|  Los Angeles|   LPG| Individual|      Manual| First Owner|17.3 km/kg|1061 CC|  57.5 bhp|    5|     14|   Y|      17.3|    1061|    57.5|\n",
      "|       8|  Maruti 800 DX BSII|        45000|     5000|          California|  Los Angeles|Petrol| Individual|      Manual|Second Owner| 16.1 kmpl| 796 CC|    37 bhp|    4|     20|   Y|      16.1|     796|    37.0|\n",
      "|       9|    Toyota Etios VXD|       350000|    90000|          California|  Los Angeles|Diesel| Individual|      Manual| First Owner|23.59 kmpl|1364 CC|  67.1 bhp|    5|     10|   Y|     23.59|    1364|    67.1|\n",
      "|      10|Ford Figo Diesel ...|       200000|   169000|               Texas|      Houston|Diesel| Individual|      Manual| First Owner| 20.0 kmpl|1399 CC|  68.1 bhp|    5|      8|   Y|      20.0|    1399|    68.1|\n",
      "|      11|Renault Duster 11...|       500000|    68000|            New York|New York City|Diesel| Individual|      Manual|Second Owner|19.01 kmpl|1461 CC|108.45 bhp|    5|      7|   Y|     19.01|    1461|  108.45|\n",
      "|      12|       Maruti Zen LX|        92000|   100000|               Texas|      Houston|Petrol| Individual|      Manual|Second Owner| 17.3 kmpl| 993 CC|    60 bhp|    5|     16|   Y|      17.3|     993|    60.0|\n",
      "|      13|Maruti Swift Dzir...|       280000|   140000|               Texas|      Houston|Diesel| Individual|      Manual|Second Owner| 19.3 kmpl|1248 CC|  73.9 bhp|    5|     12|   Y|      19.3|    1248|    73.9|\n",
      "|      15|Maruti Wagon R LX...|       180000|    90000|       Massachusetts|       Boston|Petrol| Individual|      Manual|Second Owner| 18.9 kmpl|1061 CC|    67 bhp|    5|     12|   Y|      18.9|    1061|    67.0|\n",
      "|      16|Mahindra KUV 100 ...|       400000|    40000|       Massachusetts|       Boston|Petrol| Individual|      Manual| First Owner|18.15 kmpl|1198 CC|    82 bhp|    5|      5|   Y|     18.15|    1198|    82.0|\n",
      "|      17|Maruti Ertiga SHV...|       778000|    70000|               Texas|       Dallas|Diesel| Individual|      Manual|Second Owner|24.52 kmpl|1248 CC|  88.5 bhp|    7|      5|   Y|     24.52|    1248|    88.5|\n",
      "|      18|Hyundai i20 1.4 C...|       500000|    53000|               Texas|       Dallas|Diesel| Individual|      Manual|Second Owner| 23.0 kmpl|1396 CC|    90 bhp|    5|      9|   Y|      23.0|    1396|    90.0|\n",
      "|      19|      Maruti Alto LX|       150000|    80000|               Texas|       Dallas|Petrol| Individual|      Manual|Second Owner| 19.7 kmpl| 796 CC|  46.3 bhp|    5|     19|   Y|      19.7|     796|    46.3|\n",
      "|      20|Hyundai i20 2015-...|       680000|   100000|            New York|New York City|Diesel| Individual|      Manual| First Owner|22.54 kmpl|1396 CC| 88.73 bhp|    5|      5|   Y|     22.54|    1396|   88.73|\n",
      "|      21|Mahindra Verito 1...|       174000|   100000|            New York|New York City|Diesel| Individual|      Manual|Second Owner| 21.0 kmpl|1461 CC|  64.1 bhp|    5|     10|   Y|      21.0|    1461|    64.1|\n",
      "+--------+--------------------+-------------+---------+--------------------+-------------+------+-----------+------------+------------+----------+-------+----------+-----+-------+----+----------+--------+--------+\n",
      "only showing top 20 rows\n",
      "\n"
     ]
    }
   ],
   "source": [
    "Data.show()"
   ]
  },
  {
   "cell_type": "code",
   "execution_count": 52,
   "id": "aca967c7",
   "metadata": {},
   "outputs": [
    {
     "data": {
      "text/plain": [
       "['Sales_ID',\n",
       " 'name',\n",
       " 'selling_price',\n",
       " 'km_driven',\n",
       " 'Province',\n",
       " 'City',\n",
       " 'fuel',\n",
       " 'seller_type',\n",
       " 'transmission',\n",
       " 'owner',\n",
       " 'mileage',\n",
       " 'engine',\n",
       " 'max_power',\n",
       " 'seats',\n",
       " 'no_year',\n",
       " 'sold',\n",
       " 'AvgMileage',\n",
       " 'EngineCC',\n",
       " 'MaxPower']"
      ]
     },
     "execution_count": 52,
     "metadata": {},
     "output_type": "execute_result"
    }
   ],
   "source": [
    "df_final.columns"
   ]
  },
  {
   "cell_type": "markdown",
   "id": "23989161",
   "metadata": {},
   "source": [
    "# Removing umwanted columns"
   ]
  },
  {
   "cell_type": "code",
   "execution_count": 53,
   "id": "c6cad3d0",
   "metadata": {},
   "outputs": [],
   "source": [
    "df_final=df_final.drop('Sales_ID','name','Province','City','mileage','engine','max_power','sold')"
   ]
  },
  {
   "cell_type": "code",
   "execution_count": 54,
   "id": "11a5b3e5",
   "metadata": {},
   "outputs": [
    {
     "name": "stdout",
     "output_type": "stream",
     "text": [
      "+-------------+---------+------+-----------+------------+------------+-----+-------+----------+--------+--------+\n",
      "|selling_price|km_driven|  fuel|seller_type|transmission|       owner|seats|no_year|AvgMileage|EngineCC|MaxPower|\n",
      "+-------------+---------+------+-----------+------------+------------+-----+-------+----------+--------+--------+\n",
      "|       450000|   145500|Diesel| Individual|      Manual| First Owner|    5|      7|      23.4|    1248|    74.0|\n",
      "|       370000|   120000|Diesel| Individual|      Manual|Second Owner|    5|      7|     21.14|    1498|  103.52|\n",
      "|       158000|   140000|Petrol| Individual|      Manual| Third Owner|    5|     15|      17.7|    1497|    78.0|\n",
      "|       225000|   127000|Diesel| Individual|      Manual| First Owner|    5|     11|      23.0|    1396|    90.0|\n",
      "|       130000|   120000|Petrol| Individual|      Manual| First Owner|    5|     14|      16.1|    1298|    88.2|\n",
      "+-------------+---------+------+-----------+------------+------------+-----+-------+----------+--------+--------+\n",
      "only showing top 5 rows\n",
      "\n"
     ]
    }
   ],
   "source": [
    "df_final.show(5)"
   ]
  },
  {
   "cell_type": "code",
   "execution_count": 55,
   "id": "5a6d177a",
   "metadata": {},
   "outputs": [
    {
     "name": "stdout",
     "output_type": "stream",
     "text": [
      "root\n",
      " |-- selling_price: integer (nullable = true)\n",
      " |-- km_driven: integer (nullable = true)\n",
      " |-- fuel: string (nullable = true)\n",
      " |-- seller_type: string (nullable = true)\n",
      " |-- transmission: string (nullable = true)\n",
      " |-- owner: string (nullable = true)\n",
      " |-- seats: integer (nullable = true)\n",
      " |-- no_year: integer (nullable = true)\n",
      " |-- AvgMileage: float (nullable = true)\n",
      " |-- EngineCC: integer (nullable = true)\n",
      " |-- MaxPower: float (nullable = true)\n",
      "\n"
     ]
    }
   ],
   "source": [
    "df_final.printSchema()"
   ]
  },
  {
   "cell_type": "code",
   "execution_count": 56,
   "id": "43f327f0",
   "metadata": {},
   "outputs": [
    {
     "data": {
      "text/plain": [
       "7906"
      ]
     },
     "execution_count": 56,
     "metadata": {},
     "output_type": "execute_result"
    }
   ],
   "source": [
    "df_final.count()"
   ]
  },
  {
   "cell_type": "markdown",
   "id": "d26c27b2",
   "metadata": {},
   "source": [
    "# One hot Encoding on categorical features using \"StringIndexer\""
   ]
  },
  {
   "cell_type": "code",
   "execution_count": 57,
   "id": "19cafd8f",
   "metadata": {},
   "outputs": [],
   "source": [
    "#Handling categorical features\n",
    "from pyspark.ml.feature import StringIndexer"
   ]
  },
  {
   "cell_type": "code",
   "execution_count": 58,
   "id": "43fd6674",
   "metadata": {},
   "outputs": [],
   "source": [
    "indexer=StringIndexer(inputCol='fuel',outputCol='fuel_indexed')\n",
    "df_final=indexer.fit(df_final).transform(df_final)"
   ]
  },
  {
   "cell_type": "code",
   "execution_count": 59,
   "id": "d9290590",
   "metadata": {},
   "outputs": [
    {
     "name": "stdout",
     "output_type": "stream",
     "text": [
      "+-------------+---------+------+-----------+------------+------------+-----+-------+----------+--------+--------+------------+\n",
      "|selling_price|km_driven|  fuel|seller_type|transmission|       owner|seats|no_year|AvgMileage|EngineCC|MaxPower|fuel_indexed|\n",
      "+-------------+---------+------+-----------+------------+------------+-----+-------+----------+--------+--------+------------+\n",
      "|       450000|   145500|Diesel| Individual|      Manual| First Owner|    5|      7|      23.4|    1248|    74.0|         0.0|\n",
      "|       370000|   120000|Diesel| Individual|      Manual|Second Owner|    5|      7|     21.14|    1498|  103.52|         0.0|\n",
      "|       158000|   140000|Petrol| Individual|      Manual| Third Owner|    5|     15|      17.7|    1497|    78.0|         1.0|\n",
      "|       225000|   127000|Diesel| Individual|      Manual| First Owner|    5|     11|      23.0|    1396|    90.0|         0.0|\n",
      "|       130000|   120000|Petrol| Individual|      Manual| First Owner|    5|     14|      16.1|    1298|    88.2|         1.0|\n",
      "|       440000|    45000|Petrol| Individual|      Manual| First Owner|    5|      4|     20.14|    1197|   81.86|         1.0|\n",
      "|        96000|   175000|   LPG| Individual|      Manual| First Owner|    5|     14|      17.3|    1061|    57.5|         3.0|\n",
      "|        45000|     5000|Petrol| Individual|      Manual|Second Owner|    4|     20|      16.1|     796|    37.0|         1.0|\n",
      "|       350000|    90000|Diesel| Individual|      Manual| First Owner|    5|     10|     23.59|    1364|    67.1|         0.0|\n",
      "|       200000|   169000|Diesel| Individual|      Manual| First Owner|    5|      8|      20.0|    1399|    68.1|         0.0|\n",
      "|       500000|    68000|Diesel| Individual|      Manual|Second Owner|    5|      7|     19.01|    1461|  108.45|         0.0|\n",
      "|        92000|   100000|Petrol| Individual|      Manual|Second Owner|    5|     16|      17.3|     993|    60.0|         1.0|\n",
      "|       280000|   140000|Diesel| Individual|      Manual|Second Owner|    5|     12|      19.3|    1248|    73.9|         0.0|\n",
      "|       180000|    90000|Petrol| Individual|      Manual|Second Owner|    5|     12|      18.9|    1061|    67.0|         1.0|\n",
      "|       400000|    40000|Petrol| Individual|      Manual| First Owner|    5|      5|     18.15|    1198|    82.0|         1.0|\n",
      "|       778000|    70000|Diesel| Individual|      Manual|Second Owner|    7|      5|     24.52|    1248|    88.5|         0.0|\n",
      "|       500000|    53000|Diesel| Individual|      Manual|Second Owner|    5|      9|      23.0|    1396|    90.0|         0.0|\n",
      "|       150000|    80000|Petrol| Individual|      Manual|Second Owner|    5|     19|      19.7|     796|    46.3|         1.0|\n",
      "|       680000|   100000|Diesel| Individual|      Manual| First Owner|    5|      5|     22.54|    1396|   88.73|         0.0|\n",
      "|       174000|   100000|Diesel| Individual|      Manual|Second Owner|    5|     10|      21.0|    1461|    64.1|         0.0|\n",
      "+-------------+---------+------+-----------+------------+------------+-----+-------+----------+--------+--------+------------+\n",
      "only showing top 20 rows\n",
      "\n"
     ]
    }
   ],
   "source": [
    "df_final.show()"
   ]
  },
  {
   "cell_type": "code",
   "execution_count": 60,
   "id": "7f0fd2ca",
   "metadata": {},
   "outputs": [],
   "source": [
    "indexer=StringIndexer(inputCol='seller_type',outputCol='sellerType_indexed')\n",
    "df_final=indexer.fit(df_final).transform(df_final)"
   ]
  },
  {
   "cell_type": "code",
   "execution_count": 61,
   "id": "410d598c",
   "metadata": {},
   "outputs": [],
   "source": [
    "indexer=StringIndexer(inputCol='transmission',outputCol='transmisson_indexed')\n",
    "df_final=indexer.fit(df_final).transform(df_final)"
   ]
  },
  {
   "cell_type": "code",
   "execution_count": 62,
   "id": "6f969fa9",
   "metadata": {},
   "outputs": [],
   "source": [
    "indexer=StringIndexer(inputCol='owner',outputCol='owner_indexed')\n",
    "df_final=indexer.fit(df_final).transform(df_final)"
   ]
  },
  {
   "cell_type": "code",
   "execution_count": 63,
   "id": "1e01511f",
   "metadata": {},
   "outputs": [
    {
     "name": "stdout",
     "output_type": "stream",
     "text": [
      "+-------------+---------+------+-----------+------------+------------+-----+-------+----------+--------+--------+------------+------------------+-------------------+-------------+\n",
      "|selling_price|km_driven|  fuel|seller_type|transmission|       owner|seats|no_year|AvgMileage|EngineCC|MaxPower|fuel_indexed|sellerType_indexed|transmisson_indexed|owner_indexed|\n",
      "+-------------+---------+------+-----------+------------+------------+-----+-------+----------+--------+--------+------------+------------------+-------------------+-------------+\n",
      "|       450000|   145500|Diesel| Individual|      Manual| First Owner|    5|      7|      23.4|    1248|    74.0|         0.0|               0.0|                0.0|          0.0|\n",
      "|       370000|   120000|Diesel| Individual|      Manual|Second Owner|    5|      7|     21.14|    1498|  103.52|         0.0|               0.0|                0.0|          1.0|\n",
      "|       158000|   140000|Petrol| Individual|      Manual| Third Owner|    5|     15|      17.7|    1497|    78.0|         1.0|               0.0|                0.0|          2.0|\n",
      "|       225000|   127000|Diesel| Individual|      Manual| First Owner|    5|     11|      23.0|    1396|    90.0|         0.0|               0.0|                0.0|          0.0|\n",
      "|       130000|   120000|Petrol| Individual|      Manual| First Owner|    5|     14|      16.1|    1298|    88.2|         1.0|               0.0|                0.0|          0.0|\n",
      "|       440000|    45000|Petrol| Individual|      Manual| First Owner|    5|      4|     20.14|    1197|   81.86|         1.0|               0.0|                0.0|          0.0|\n",
      "|        96000|   175000|   LPG| Individual|      Manual| First Owner|    5|     14|      17.3|    1061|    57.5|         3.0|               0.0|                0.0|          0.0|\n",
      "|        45000|     5000|Petrol| Individual|      Manual|Second Owner|    4|     20|      16.1|     796|    37.0|         1.0|               0.0|                0.0|          1.0|\n",
      "|       350000|    90000|Diesel| Individual|      Manual| First Owner|    5|     10|     23.59|    1364|    67.1|         0.0|               0.0|                0.0|          0.0|\n",
      "|       200000|   169000|Diesel| Individual|      Manual| First Owner|    5|      8|      20.0|    1399|    68.1|         0.0|               0.0|                0.0|          0.0|\n",
      "|       500000|    68000|Diesel| Individual|      Manual|Second Owner|    5|      7|     19.01|    1461|  108.45|         0.0|               0.0|                0.0|          1.0|\n",
      "|        92000|   100000|Petrol| Individual|      Manual|Second Owner|    5|     16|      17.3|     993|    60.0|         1.0|               0.0|                0.0|          1.0|\n",
      "|       280000|   140000|Diesel| Individual|      Manual|Second Owner|    5|     12|      19.3|    1248|    73.9|         0.0|               0.0|                0.0|          1.0|\n",
      "|       180000|    90000|Petrol| Individual|      Manual|Second Owner|    5|     12|      18.9|    1061|    67.0|         1.0|               0.0|                0.0|          1.0|\n",
      "|       400000|    40000|Petrol| Individual|      Manual| First Owner|    5|      5|     18.15|    1198|    82.0|         1.0|               0.0|                0.0|          0.0|\n",
      "|       778000|    70000|Diesel| Individual|      Manual|Second Owner|    7|      5|     24.52|    1248|    88.5|         0.0|               0.0|                0.0|          1.0|\n",
      "|       500000|    53000|Diesel| Individual|      Manual|Second Owner|    5|      9|      23.0|    1396|    90.0|         0.0|               0.0|                0.0|          1.0|\n",
      "|       150000|    80000|Petrol| Individual|      Manual|Second Owner|    5|     19|      19.7|     796|    46.3|         1.0|               0.0|                0.0|          1.0|\n",
      "|       680000|   100000|Diesel| Individual|      Manual| First Owner|    5|      5|     22.54|    1396|   88.73|         0.0|               0.0|                0.0|          0.0|\n",
      "|       174000|   100000|Diesel| Individual|      Manual|Second Owner|    5|     10|      21.0|    1461|    64.1|         0.0|               0.0|                0.0|          1.0|\n",
      "+-------------+---------+------+-----------+------------+------------+-----+-------+----------+--------+--------+------------+------------------+-------------------+-------------+\n",
      "only showing top 20 rows\n",
      "\n"
     ]
    }
   ],
   "source": [
    "df_final.show()"
   ]
  },
  {
   "cell_type": "code",
   "execution_count": 64,
   "id": "cb304267",
   "metadata": {},
   "outputs": [
    {
     "data": {
      "text/plain": [
       "['selling_price',\n",
       " 'km_driven',\n",
       " 'fuel',\n",
       " 'seller_type',\n",
       " 'transmission',\n",
       " 'owner',\n",
       " 'seats',\n",
       " 'no_year',\n",
       " 'AvgMileage',\n",
       " 'EngineCC',\n",
       " 'MaxPower',\n",
       " 'fuel_indexed',\n",
       " 'sellerType_indexed',\n",
       " 'transmisson_indexed',\n",
       " 'owner_indexed']"
      ]
     },
     "execution_count": 64,
     "metadata": {},
     "output_type": "execute_result"
    }
   ],
   "source": [
    "df_final.columns"
   ]
  },
  {
   "cell_type": "code",
   "execution_count": 65,
   "id": "03665332",
   "metadata": {},
   "outputs": [],
   "source": [
    "df_final=df_final.drop('fuel','seller_type','transmission','owner')"
   ]
  },
  {
   "cell_type": "markdown",
   "id": "cab5ae28",
   "metadata": {},
   "source": [
    "# Final Data set after cleaning the data"
   ]
  },
  {
   "cell_type": "code",
   "execution_count": 66,
   "id": "e6a603ad",
   "metadata": {},
   "outputs": [
    {
     "name": "stdout",
     "output_type": "stream",
     "text": [
      "+-------------+---------+-----+-------+----------+--------+--------+------------+------------------+-------------------+-------------+\n",
      "|selling_price|km_driven|seats|no_year|AvgMileage|EngineCC|MaxPower|fuel_indexed|sellerType_indexed|transmisson_indexed|owner_indexed|\n",
      "+-------------+---------+-----+-------+----------+--------+--------+------------+------------------+-------------------+-------------+\n",
      "|       450000|   145500|    5|      7|      23.4|    1248|    74.0|         0.0|               0.0|                0.0|          0.0|\n",
      "|       370000|   120000|    5|      7|     21.14|    1498|  103.52|         0.0|               0.0|                0.0|          1.0|\n",
      "|       158000|   140000|    5|     15|      17.7|    1497|    78.0|         1.0|               0.0|                0.0|          2.0|\n",
      "|       225000|   127000|    5|     11|      23.0|    1396|    90.0|         0.0|               0.0|                0.0|          0.0|\n",
      "|       130000|   120000|    5|     14|      16.1|    1298|    88.2|         1.0|               0.0|                0.0|          0.0|\n",
      "|       440000|    45000|    5|      4|     20.14|    1197|   81.86|         1.0|               0.0|                0.0|          0.0|\n",
      "|        96000|   175000|    5|     14|      17.3|    1061|    57.5|         3.0|               0.0|                0.0|          0.0|\n",
      "|        45000|     5000|    4|     20|      16.1|     796|    37.0|         1.0|               0.0|                0.0|          1.0|\n",
      "|       350000|    90000|    5|     10|     23.59|    1364|    67.1|         0.0|               0.0|                0.0|          0.0|\n",
      "|       200000|   169000|    5|      8|      20.0|    1399|    68.1|         0.0|               0.0|                0.0|          0.0|\n",
      "|       500000|    68000|    5|      7|     19.01|    1461|  108.45|         0.0|               0.0|                0.0|          1.0|\n",
      "|        92000|   100000|    5|     16|      17.3|     993|    60.0|         1.0|               0.0|                0.0|          1.0|\n",
      "|       280000|   140000|    5|     12|      19.3|    1248|    73.9|         0.0|               0.0|                0.0|          1.0|\n",
      "|       180000|    90000|    5|     12|      18.9|    1061|    67.0|         1.0|               0.0|                0.0|          1.0|\n",
      "|       400000|    40000|    5|      5|     18.15|    1198|    82.0|         1.0|               0.0|                0.0|          0.0|\n",
      "|       778000|    70000|    7|      5|     24.52|    1248|    88.5|         0.0|               0.0|                0.0|          1.0|\n",
      "|       500000|    53000|    5|      9|      23.0|    1396|    90.0|         0.0|               0.0|                0.0|          1.0|\n",
      "|       150000|    80000|    5|     19|      19.7|     796|    46.3|         1.0|               0.0|                0.0|          1.0|\n",
      "|       680000|   100000|    5|      5|     22.54|    1396|   88.73|         0.0|               0.0|                0.0|          0.0|\n",
      "|       174000|   100000|    5|     10|      21.0|    1461|    64.1|         0.0|               0.0|                0.0|          1.0|\n",
      "+-------------+---------+-----+-------+----------+--------+--------+------------+------------------+-------------------+-------------+\n",
      "only showing top 20 rows\n",
      "\n"
     ]
    }
   ],
   "source": [
    "df_final.show()"
   ]
  },
  {
   "cell_type": "code",
   "execution_count": 67,
   "id": "863f1f2e",
   "metadata": {},
   "outputs": [
    {
     "name": "stdout",
     "output_type": "stream",
     "text": [
      "root\n",
      " |-- selling_price: integer (nullable = true)\n",
      " |-- km_driven: integer (nullable = true)\n",
      " |-- seats: integer (nullable = true)\n",
      " |-- no_year: integer (nullable = true)\n",
      " |-- AvgMileage: float (nullable = true)\n",
      " |-- EngineCC: integer (nullable = true)\n",
      " |-- MaxPower: float (nullable = true)\n",
      " |-- fuel_indexed: double (nullable = false)\n",
      " |-- sellerType_indexed: double (nullable = false)\n",
      " |-- transmisson_indexed: double (nullable = false)\n",
      " |-- owner_indexed: double (nullable = false)\n",
      "\n"
     ]
    }
   ],
   "source": [
    "df_final.printSchema()"
   ]
  },
  {
   "cell_type": "code",
   "execution_count": 68,
   "id": "29fa6384",
   "metadata": {},
   "outputs": [
    {
     "data": {
      "text/plain": [
       "['selling_price',\n",
       " 'km_driven',\n",
       " 'seats',\n",
       " 'no_year',\n",
       " 'AvgMileage',\n",
       " 'EngineCC',\n",
       " 'MaxPower',\n",
       " 'fuel_indexed',\n",
       " 'sellerType_indexed',\n",
       " 'transmisson_indexed',\n",
       " 'owner_indexed']"
      ]
     },
     "execution_count": 68,
     "metadata": {},
     "output_type": "execute_result"
    }
   ],
   "source": [
    "df_final.columns"
   ]
  },
  {
   "cell_type": "markdown",
   "id": "c4ea5542",
   "metadata": {},
   "source": [
    "# Building ML Model "
   ]
  },
  {
   "cell_type": "markdown",
   "id": "1aa52c2d",
   "metadata": {},
   "source": [
    "In case of pyspark, to build a model we need to give independent features as one column and target feature as another column. "
   ]
  },
  {
   "cell_type": "markdown",
   "id": "65d69fdc",
   "metadata": {},
   "source": [
    "To create a vector for all the independent features we use \"vectorAssembler\""
   ]
  },
  {
   "cell_type": "markdown",
   "id": "8a1dc003",
   "metadata": {},
   "source": [
    "# Creating vector for all independent features"
   ]
  },
  {
   "cell_type": "code",
   "execution_count": 69,
   "id": "f7545dde",
   "metadata": {},
   "outputs": [],
   "source": [
    "from pyspark.ml.feature import VectorAssembler\n",
    "featureassembler=VectorAssembler(inputCols=['km_driven','seats','no_year','AvgMileage','EngineCC','MaxPower','fuel_indexed','sellerType_indexed','transmisson_indexed','owner_indexed'],\n",
    "                            outputCol=\"IndependentFeatures\")"
   ]
  },
  {
   "cell_type": "code",
   "execution_count": 70,
   "id": "85fac26d",
   "metadata": {},
   "outputs": [],
   "source": [
    "output=featureassembler.transform(df_final)"
   ]
  },
  {
   "cell_type": "code",
   "execution_count": 71,
   "id": "f05ae31c",
   "metadata": {},
   "outputs": [
    {
     "name": "stdout",
     "output_type": "stream",
     "text": [
      "+-------------+---------+-----+-------+----------+--------+--------+------------+------------------+-------------------+-------------+--------------------+\n",
      "|selling_price|km_driven|seats|no_year|AvgMileage|EngineCC|MaxPower|fuel_indexed|sellerType_indexed|transmisson_indexed|owner_indexed| IndependentFeatures|\n",
      "+-------------+---------+-----+-------+----------+--------+--------+------------+------------------+-------------------+-------------+--------------------+\n",
      "|       450000|   145500|    5|      7|      23.4|    1248|    74.0|         0.0|               0.0|                0.0|          0.0|[145500.0,5.0,7.0...|\n",
      "|       370000|   120000|    5|      7|     21.14|    1498|  103.52|         0.0|               0.0|                0.0|          1.0|[120000.0,5.0,7.0...|\n",
      "|       158000|   140000|    5|     15|      17.7|    1497|    78.0|         1.0|               0.0|                0.0|          2.0|[140000.0,5.0,15....|\n",
      "|       225000|   127000|    5|     11|      23.0|    1396|    90.0|         0.0|               0.0|                0.0|          0.0|[127000.0,5.0,11....|\n",
      "|       130000|   120000|    5|     14|      16.1|    1298|    88.2|         1.0|               0.0|                0.0|          0.0|[120000.0,5.0,14....|\n",
      "|       440000|    45000|    5|      4|     20.14|    1197|   81.86|         1.0|               0.0|                0.0|          0.0|[45000.0,5.0,4.0,...|\n",
      "|        96000|   175000|    5|     14|      17.3|    1061|    57.5|         3.0|               0.0|                0.0|          0.0|[175000.0,5.0,14....|\n",
      "|        45000|     5000|    4|     20|      16.1|     796|    37.0|         1.0|               0.0|                0.0|          1.0|[5000.0,4.0,20.0,...|\n",
      "|       350000|    90000|    5|     10|     23.59|    1364|    67.1|         0.0|               0.0|                0.0|          0.0|[90000.0,5.0,10.0...|\n",
      "|       200000|   169000|    5|      8|      20.0|    1399|    68.1|         0.0|               0.0|                0.0|          0.0|[169000.0,5.0,8.0...|\n",
      "|       500000|    68000|    5|      7|     19.01|    1461|  108.45|         0.0|               0.0|                0.0|          1.0|[68000.0,5.0,7.0,...|\n",
      "|        92000|   100000|    5|     16|      17.3|     993|    60.0|         1.0|               0.0|                0.0|          1.0|[100000.0,5.0,16....|\n",
      "|       280000|   140000|    5|     12|      19.3|    1248|    73.9|         0.0|               0.0|                0.0|          1.0|[140000.0,5.0,12....|\n",
      "|       180000|    90000|    5|     12|      18.9|    1061|    67.0|         1.0|               0.0|                0.0|          1.0|[90000.0,5.0,12.0...|\n",
      "|       400000|    40000|    5|      5|     18.15|    1198|    82.0|         1.0|               0.0|                0.0|          0.0|[40000.0,5.0,5.0,...|\n",
      "|       778000|    70000|    7|      5|     24.52|    1248|    88.5|         0.0|               0.0|                0.0|          1.0|[70000.0,7.0,5.0,...|\n",
      "|       500000|    53000|    5|      9|      23.0|    1396|    90.0|         0.0|               0.0|                0.0|          1.0|[53000.0,5.0,9.0,...|\n",
      "|       150000|    80000|    5|     19|      19.7|     796|    46.3|         1.0|               0.0|                0.0|          1.0|[80000.0,5.0,19.0...|\n",
      "|       680000|   100000|    5|      5|     22.54|    1396|   88.73|         0.0|               0.0|                0.0|          0.0|[100000.0,5.0,5.0...|\n",
      "|       174000|   100000|    5|     10|      21.0|    1461|    64.1|         0.0|               0.0|                0.0|          1.0|[100000.0,5.0,10....|\n",
      "+-------------+---------+-----+-------+----------+--------+--------+------------+------------------+-------------------+-------------+--------------------+\n",
      "only showing top 20 rows\n",
      "\n"
     ]
    }
   ],
   "source": [
    "output.show()"
   ]
  },
  {
   "cell_type": "code",
   "execution_count": 72,
   "id": "88e13bdc",
   "metadata": {},
   "outputs": [
    {
     "name": "stdout",
     "output_type": "stream",
     "text": [
      "+-------------------------------------------------------------------------------+\n",
      "|IndependentFeatures                                                            |\n",
      "+-------------------------------------------------------------------------------+\n",
      "|[145500.0,5.0,7.0,23.399999618530273,1248.0,74.0,0.0,0.0,0.0,0.0]              |\n",
      "|[120000.0,5.0,7.0,21.139999389648438,1498.0,103.5199966430664,0.0,0.0,0.0,1.0] |\n",
      "|[140000.0,5.0,15.0,17.700000762939453,1497.0,78.0,1.0,0.0,0.0,2.0]             |\n",
      "|[127000.0,5.0,11.0,23.0,1396.0,90.0,0.0,0.0,0.0,0.0]                           |\n",
      "|[120000.0,5.0,14.0,16.100000381469727,1298.0,88.19999694824219,1.0,0.0,0.0,0.0]|\n",
      "|[45000.0,5.0,4.0,20.139999389648438,1197.0,81.86000061035156,1.0,0.0,0.0,0.0]  |\n",
      "|[175000.0,5.0,14.0,17.299999237060547,1061.0,57.5,3.0,0.0,0.0,0.0]             |\n",
      "|[5000.0,4.0,20.0,16.100000381469727,796.0,37.0,1.0,0.0,0.0,1.0]                |\n",
      "|[90000.0,5.0,10.0,23.59000015258789,1364.0,67.0999984741211,0.0,0.0,0.0,0.0]   |\n",
      "|[169000.0,5.0,8.0,20.0,1399.0,68.0999984741211,0.0,0.0,0.0,0.0]                |\n",
      "|[68000.0,5.0,7.0,19.010000228881836,1461.0,108.44999694824219,0.0,0.0,0.0,1.0] |\n",
      "|[100000.0,5.0,16.0,17.299999237060547,993.0,60.0,1.0,0.0,0.0,1.0]              |\n",
      "|[140000.0,5.0,12.0,19.299999237060547,1248.0,73.9000015258789,0.0,0.0,0.0,1.0] |\n",
      "|[90000.0,5.0,12.0,18.899999618530273,1061.0,67.0,1.0,0.0,0.0,1.0]              |\n",
      "|[40000.0,5.0,5.0,18.149999618530273,1198.0,82.0,1.0,0.0,0.0,0.0]               |\n",
      "|[70000.0,7.0,5.0,24.520000457763672,1248.0,88.5,0.0,0.0,0.0,1.0]               |\n",
      "|[53000.0,5.0,9.0,23.0,1396.0,90.0,0.0,0.0,0.0,1.0]                             |\n",
      "|[80000.0,5.0,19.0,19.700000762939453,796.0,46.29999923706055,1.0,0.0,0.0,1.0]  |\n",
      "|[100000.0,5.0,5.0,22.540000915527344,1396.0,88.7300033569336,0.0,0.0,0.0,0.0]  |\n",
      "|[100000.0,5.0,10.0,21.0,1461.0,64.0999984741211,0.0,0.0,0.0,1.0]               |\n",
      "+-------------------------------------------------------------------------------+\n",
      "only showing top 20 rows\n",
      "\n"
     ]
    }
   ],
   "source": [
    "output.select('IndependentFeatures').show(truncate=False)"
   ]
  },
  {
   "cell_type": "code",
   "execution_count": 73,
   "id": "40fa060f",
   "metadata": {},
   "outputs": [],
   "source": [
    "final_data=output.select('IndependentFeatures','selling_price')"
   ]
  },
  {
   "cell_type": "markdown",
   "id": "4344d6b9",
   "metadata": {},
   "source": [
    "Final data set that we use for model building which has only two columns,one with independent features and other with target column"
   ]
  },
  {
   "cell_type": "code",
   "execution_count": 74,
   "id": "8a317913",
   "metadata": {},
   "outputs": [
    {
     "name": "stdout",
     "output_type": "stream",
     "text": [
      "+-------------------------------------------------------------------------------+-------------+\n",
      "|IndependentFeatures                                                            |selling_price|\n",
      "+-------------------------------------------------------------------------------+-------------+\n",
      "|[145500.0,5.0,7.0,23.399999618530273,1248.0,74.0,0.0,0.0,0.0,0.0]              |450000       |\n",
      "|[120000.0,5.0,7.0,21.139999389648438,1498.0,103.5199966430664,0.0,0.0,0.0,1.0] |370000       |\n",
      "|[140000.0,5.0,15.0,17.700000762939453,1497.0,78.0,1.0,0.0,0.0,2.0]             |158000       |\n",
      "|[127000.0,5.0,11.0,23.0,1396.0,90.0,0.0,0.0,0.0,0.0]                           |225000       |\n",
      "|[120000.0,5.0,14.0,16.100000381469727,1298.0,88.19999694824219,1.0,0.0,0.0,0.0]|130000       |\n",
      "|[45000.0,5.0,4.0,20.139999389648438,1197.0,81.86000061035156,1.0,0.0,0.0,0.0]  |440000       |\n",
      "|[175000.0,5.0,14.0,17.299999237060547,1061.0,57.5,3.0,0.0,0.0,0.0]             |96000        |\n",
      "|[5000.0,4.0,20.0,16.100000381469727,796.0,37.0,1.0,0.0,0.0,1.0]                |45000        |\n",
      "|[90000.0,5.0,10.0,23.59000015258789,1364.0,67.0999984741211,0.0,0.0,0.0,0.0]   |350000       |\n",
      "|[169000.0,5.0,8.0,20.0,1399.0,68.0999984741211,0.0,0.0,0.0,0.0]                |200000       |\n",
      "|[68000.0,5.0,7.0,19.010000228881836,1461.0,108.44999694824219,0.0,0.0,0.0,1.0] |500000       |\n",
      "|[100000.0,5.0,16.0,17.299999237060547,993.0,60.0,1.0,0.0,0.0,1.0]              |92000        |\n",
      "|[140000.0,5.0,12.0,19.299999237060547,1248.0,73.9000015258789,0.0,0.0,0.0,1.0] |280000       |\n",
      "|[90000.0,5.0,12.0,18.899999618530273,1061.0,67.0,1.0,0.0,0.0,1.0]              |180000       |\n",
      "|[40000.0,5.0,5.0,18.149999618530273,1198.0,82.0,1.0,0.0,0.0,0.0]               |400000       |\n",
      "|[70000.0,7.0,5.0,24.520000457763672,1248.0,88.5,0.0,0.0,0.0,1.0]               |778000       |\n",
      "|[53000.0,5.0,9.0,23.0,1396.0,90.0,0.0,0.0,0.0,1.0]                             |500000       |\n",
      "|[80000.0,5.0,19.0,19.700000762939453,796.0,46.29999923706055,1.0,0.0,0.0,1.0]  |150000       |\n",
      "|[100000.0,5.0,5.0,22.540000915527344,1396.0,88.7300033569336,0.0,0.0,0.0,0.0]  |680000       |\n",
      "|[100000.0,5.0,10.0,21.0,1461.0,64.0999984741211,0.0,0.0,0.0,1.0]               |174000       |\n",
      "+-------------------------------------------------------------------------------+-------------+\n",
      "only showing top 20 rows\n",
      "\n"
     ]
    }
   ],
   "source": [
    "final_data.show(truncate=False)"
   ]
  },
  {
   "cell_type": "markdown",
   "id": "eb1c87e9",
   "metadata": {},
   "source": [
    "In task 2.4, we got \"Random forest Regressor\" as the effective model but in pyspark there were some versoning errors for regression model so we have built an ML model using \"Linear Regression\" as this is our next best model."
   ]
  },
  {
   "cell_type": "markdown",
   "id": "20b05f12",
   "metadata": {},
   "source": [
    "# ML Model using LinearRegression"
   ]
  },
  {
   "cell_type": "code",
   "execution_count": 75,
   "id": "ea4b2c73",
   "metadata": {},
   "outputs": [],
   "source": [
    "from pyspark.ml.regression import LinearRegression\n",
    "train_data,test_data=final_data.randomSplit([0.75,0.25])\n",
    "regressor=LinearRegression(featuresCol='IndependentFeatures',\n",
    "                                labelCol='selling_price')\n",
    "regressor=regressor.fit(train_data)"
   ]
  },
  {
   "cell_type": "code",
   "execution_count": 76,
   "id": "b0fd41d2",
   "metadata": {},
   "outputs": [],
   "source": [
    "pred_results=regressor.evaluate(test_data)"
   ]
  },
  {
   "cell_type": "code",
   "execution_count": 77,
   "id": "09446c3d",
   "metadata": {},
   "outputs": [
    {
     "name": "stderr",
     "output_type": "stream",
     "text": [
      "C:\\Users\\psarana\\Anaconda3\\lib\\site-packages\\pyspark\\sql\\context.py:125: FutureWarning: Deprecated in 3.0.0. Use SparkSession.builder.getOrCreate() instead.\n",
      "  warnings.warn(\n"
     ]
    },
    {
     "name": "stdout",
     "output_type": "stream",
     "text": [
      "+-----------------------------------------------------------------------------+-------------+------------------+\n",
      "|IndependentFeatures                                                          |selling_price|prediction        |\n",
      "+-----------------------------------------------------------------------------+-------------+------------------+\n",
      "|(10,[0,1,2,4,5],[5000.0,2.0,1.0,2523.0,70.0])                                |679000       |482082.11969639175|\n",
      "|[1000.0,5.0,3.0,18.0,1497.0,117.5999984741211,1.0,0.0,1.0,0.0]               |1085000      |1583631.6470594308|\n",
      "|[1300.0,5.0,2.0,22.5,999.0,67.0,1.0,0.0,0.0,0.0]                             |325000       |476699.37506415404|\n",
      "|[1303.0,5.0,2.0,17.799999237060547,1198.0,86.69999694824219,1.0,1.0,0.0,0.0] |690000       |781415.513949236  |\n",
      "|[1500.0,5.0,2.0,18.200000762939453,1199.0,88.69999694824219,1.0,0.0,1.0,0.0] |840000       |1210114.998840874 |\n",
      "|[1620.0,6.0,2.0,19.010000228881836,1462.0,103.19999694824219,1.0,0.0,0.0,0.0]|1040000      |913421.4660250387 |\n",
      "|[2000.0,5.0,3.0,16.799999237060547,1984.0,150.0,0.0,1.0,1.0,0.0]             |2475000      |2166576.6174874716|\n",
      "|[2000.0,5.0,3.0,16.799999237060547,1984.0,150.0,0.0,1.0,1.0,0.0]             |2475000      |2166576.6174874716|\n",
      "|[2000.0,5.0,3.0,16.799999237060547,1984.0,150.0,0.0,1.0,1.0,0.0]             |2475000      |2166576.6174874716|\n",
      "|[2000.0,5.0,3.0,16.799999237060547,1984.0,150.0,0.0,1.0,1.0,0.0]             |2475000      |2166576.6174874716|\n",
      "|[2000.0,5.0,3.0,16.799999237060547,1984.0,150.0,0.0,1.0,1.0,0.0]             |2475000      |2166576.6174874716|\n",
      "|[2118.0,5.0,5.0,19.399999618530273,1198.0,86.80000305175781,1.0,1.0,0.0,0.0] |475000       |708487.6344409793 |\n",
      "|[3000.0,5.0,2.0,21.010000228881836,1197.0,81.80000305175781,1.0,0.0,0.0,0.0] |760000       |666428.6314226253 |\n",
      "|[3177.0,5.0,2.0,18.5,1194.0,94.93000030517578,1.0,1.0,0.0,0.0]               |700000       |898666.3710595126 |\n",
      "|[4295.0,5.0,3.0,17.100000381469727,1496.0,105.5,1.0,2.0,0.0,0.0]             |1000000      |1101729.7681334438|\n",
      "|[4500.0,5.0,2.0,19.5,1199.0,88.76000213623047,1.0,0.0,0.0,0.0]               |700000       |737031.7117885061 |\n",
      "|[5000.0,5.0,1.0,17.799999237060547,1493.0,113.4000015258789,0.0,1.0,1.0,0.0] |1900000      |1716385.4942198135|\n",
      "|[5000.0,5.0,1.0,21.209999084472656,1197.0,81.80000305175781,1.0,0.0,0.0,0.0] |578000       |698953.1161744202 |\n",
      "|[5000.0,5.0,2.0,19.5,1199.0,88.76000213623047,1.0,0.0,0.0,0.0]               |670000       |736512.1194546652 |\n",
      "|[5000.0,5.0,2.0,20.299999237060547,1086.0,68.0,1.0,0.0,0.0,0.0]              |500000       |462214.7411774051 |\n",
      "+-----------------------------------------------------------------------------+-------------+------------------+\n",
      "only showing top 20 rows\n",
      "\n"
     ]
    }
   ],
   "source": [
    "pred_results.predictions.show(truncate=False)"
   ]
  },
  {
   "cell_type": "markdown",
   "id": "57a5c1c1",
   "metadata": {},
   "source": [
    "In above table we see that actual and predicted values were some how close but not exact.Now let us check score for our model"
   ]
  },
  {
   "cell_type": "code",
   "execution_count": 78,
   "id": "970a87dc",
   "metadata": {},
   "outputs": [
    {
     "data": {
      "text/plain": [
       "0.6598071585095119"
      ]
     },
     "execution_count": 78,
     "metadata": {},
     "output_type": "execute_result"
    }
   ],
   "source": [
    "pred_results.r2"
   ]
  },
  {
   "cell_type": "code",
   "execution_count": 79,
   "id": "fc94c2d0",
   "metadata": {},
   "outputs": [
    {
     "data": {
      "text/plain": [
       "277466.1784730519"
      ]
     },
     "execution_count": 79,
     "metadata": {},
     "output_type": "execute_result"
    }
   ],
   "source": [
    "pred_results.meanAbsoluteError"
   ]
  },
  {
   "cell_type": "code",
   "execution_count": 80,
   "id": "e0e285eb",
   "metadata": {},
   "outputs": [
    {
     "data": {
      "text/plain": [
       "221051415234.77487"
      ]
     },
     "execution_count": 80,
     "metadata": {},
     "output_type": "execute_result"
    }
   ],
   "source": [
    "pred_results.meanSquaredError"
   ]
  },
  {
   "cell_type": "code",
   "execution_count": null,
   "id": "85778191",
   "metadata": {},
   "outputs": [],
   "source": []
  }
 ],
 "metadata": {
  "kernelspec": {
   "display_name": "Python 3",
   "language": "python",
   "name": "python3"
  },
  "language_info": {
   "codemirror_mode": {
    "name": "ipython",
    "version": 3
   },
   "file_extension": ".py",
   "mimetype": "text/x-python",
   "name": "python",
   "nbconvert_exporter": "python",
   "pygments_lexer": "ipython3",
   "version": "3.8.8"
  }
 },
 "nbformat": 4,
 "nbformat_minor": 5
}
